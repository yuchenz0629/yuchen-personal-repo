{
 "cells": [
  {
   "cell_type": "code",
   "execution_count": 3,
   "metadata": {},
   "outputs": [],
   "source": [
    "# First we need to read in the required packages\n",
    "import cv2,os\n",
    "import numpy as np\n",
    "from keras.utils import np_utils"
   ]
  },
  {
   "cell_type": "markdown",
   "metadata": {},
   "source": [
    "<h1>§2. Data Preprocessing</h1>"
   ]
  },
  {
   "cell_type": "code",
   "execution_count": 7,
   "metadata": {},
   "outputs": [],
   "source": [
    "# Define a preprocessing function\n",
    "\n",
    "def DataPreprocess(data_path):\n",
    "    \"\"\"\n",
    "    This function will loop through the data set, preprocess each image\n",
    "    The input is the path to the data set\n",
    "    We resize the image to a smaller size to speed up training\n",
    "    The output will be images and targets in array form\n",
    "    \"\"\"\n",
    "    # Create an empty dictionary to store data\n",
    "    data_path  = data_path\n",
    "    categories = [\"without_mask\", \"with_mask\"]\n",
    "    # labels: without_mask, with_mask\n",
    "    labels = [i for i in range(0, len(categories))]\n",
    "    # Create an empty dictionary with keys = labels\n",
    "    label_dict = dict(zip(categories,labels))\n",
    "    print(label_dict)\n",
    "    print(categories)\n",
    "    print(labels)\n",
    "    # Now loop through the datasets, preprocess each image, \n",
    "    # and append the preprocessed image to the empty dictionary created above\n",
    "    img_size=100\n",
    "    data=[]\n",
    "    target=[]\n",
    "    for category in categories:\n",
    "        # Construct path to each folder ('without_mask', 'with_mask')\n",
    "        folder_path=os.path.join(data_path,category)\n",
    "        img_names=os.listdir(folder_path)\n",
    "        # Remove \".DS_Store\" from the list of image names\n",
    "        if '.DS_Store' in img_names:\n",
    "            img_names.remove('.DS_Store')\n",
    "        # Loop through images in each folder\n",
    "        for img_name in img_names:\n",
    "            img_path=os.path.join(folder_path,img_name)\n",
    "            img=cv2.imread(img_path)\n",
    "            try:                \n",
    "                # Resizing the image into 100x100         \n",
    "                resized=cv2.resize(img,(img_size,img_size))\n",
    "                # appending the image and the label(categorized) into the list (dataset)\n",
    "                data.append(resized)\n",
    "                target.append(label_dict[category])\n",
    "            except Exception as e:\n",
    "                print(img_name)\n",
    "                print('Exception:',e)\n",
    "                #if any exception rasied, the exception will be printed here.\n",
    "   \n",
    "    # now in this part we convert the images and targets into array form, \n",
    "    data=np.array(data)\n",
    "    target=np.array(target)\n",
    "    return data, target"
   ]
  },
  {
   "cell_type": "code",
   "execution_count": 11,
   "metadata": {},
   "outputs": [
    {
     "name": "stdout",
     "output_type": "stream",
     "text": [
      "{'without_mask': 0, 'with_mask': 1}\n",
      "['without_mask', 'with_mask']\n",
      "[0, 1]\n"
     ]
    }
   ],
   "source": [
    "# Construct our data and target variable\n",
    "data, target = DataPreprocess(\"data\")"
   ]
  },
  {
   "cell_type": "code",
   "execution_count": 14,
   "metadata": {},
   "outputs": [
    {
     "data": {
      "text/plain": [
       "0.6314127861089187"
      ]
     },
     "execution_count": 14,
     "metadata": {},
     "output_type": "execute_result"
    }
   ],
   "source": [
    "# baseline performance of our data: see what proportion is with masl\n",
    "sum(target)/len(target)"
   ]
  },
  {
   "cell_type": "code",
   "execution_count": 15,
   "metadata": {},
   "outputs": [],
   "source": [
    "# Saving our data and target\n",
    "np.save(\"data\", data)\n",
    "np.save(\"target\", target)"
   ]
  }
 ],
 "metadata": {
  "kernelspec": {
   "display_name": "Python 3",
   "language": "python",
   "name": "python3"
  },
  "language_info": {
   "codemirror_mode": {
    "name": "ipython",
    "version": 3
   },
   "file_extension": ".py",
   "mimetype": "text/x-python",
   "name": "python",
   "nbconvert_exporter": "python",
   "pygments_lexer": "ipython3",
   "version": "3.8.5"
  }
 },
 "nbformat": 4,
 "nbformat_minor": 4
}
