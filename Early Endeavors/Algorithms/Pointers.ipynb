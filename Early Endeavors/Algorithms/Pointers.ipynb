{
 "cells": [
  {
   "cell_type": "markdown",
   "metadata": {},
   "source": [
    "# Pointers"
   ]
  },
  {
   "cell_type": "markdown",
   "metadata": {},
   "source": [
    "### Vizio Interview: sum of a string"
   ]
  },
  {
   "cell_type": "code",
   "execution_count": null,
   "metadata": {},
   "outputs": [],
   "source": [
    "def calc(Str):\n",
    "    # First let's get rid of the spaces\n",
    "    str_truncate = \"\"\n",
    "    for i in range(len(Str)):\n",
    "        if Str[i] != \" \":\n",
    "            str_truncate += Str[i]\n",
    "    str_truncate = str_truncate\n",
    "    # Keep track of the result\n",
    "    res = 0\n",
    "    # Use two pointers\n",
    "    start = 0\n",
    "    end = 0\n",
    "    # Proceed the operation as long as it does not reach the end\n",
    "    while end < len(str_truncate):\n",
    "        while str_truncate[end] != \"+\" and str_truncate[end] != \"-\":\n",
    "            end += 1\n",
    "            if end == len(str_truncate):\n",
    "                break\n",
    "            if str_truncate[end] == \"+\" or str_truncate[end] == \"-\":\n",
    "                break\n",
    "        if str_truncate[start-1] and str_truncate[start-1] == \"-\":\n",
    "            res -= int(str_truncate[start:end])\n",
    "        else:\n",
    "            res += int(str_truncate[start:end])\n",
    "        end = end+1\n",
    "        start = end\n",
    "    return res"
   ]
  },
  {
   "cell_type": "markdown",
   "metadata": {},
   "source": [
    "### Question 80: Remove Duplicates from Sorted Array II\n",
    "Given an integer array nums sorted in non-decreasing order, remove some duplicates in-place such that each unique element appears at most twice. The relative order of the elements should be kept the same."
   ]
  },
  {
   "cell_type": "code",
   "execution_count": 1,
   "metadata": {},
   "outputs": [],
   "source": [
    "def removeDuplicates(nums):\n",
    "    if len(nums) == 1: return nums[0]\n",
    "    left,right = 2,2\n",
    "    while right <= len(nums):\n",
    "        if nums[right] != nums[left-2]:\n",
    "            nums[left] = nums[right]\n",
    "            left += 1\n",
    "        right += 1\n",
    "    return left"
   ]
  },
  {
   "cell_type": "markdown",
   "metadata": {},
   "source": [
    "### Question 75: Sort Colors\n",
    "Given an array nums with n objects colored red, white, or blue, sort them in-place so that objects of the same color are adjacent, with the colors in the order red, white, and blue.\n",
    "\n",
    "We will use the integers 0, 1, and 2 to represent the color red, white, and blue, respectively."
   ]
  },
  {
   "cell_type": "code",
   "execution_count": 3,
   "metadata": {},
   "outputs": [],
   "source": [
    "def sortColors(nums):\n",
    "    left,right = 0,len(nums)-1\n",
    "    for i in range(len(np.unique(nums))-1):\n",
    "        right = len(nums)-1\n",
    "        while left < right:\n",
    "            if nums[left] == i:\n",
    "                left+=1\n",
    "            elif nums[right] == i:\n",
    "                nums[left],nums[right] = nums[right],nums[left]\n",
    "                left += 1\n",
    "                right -= 1\n",
    "            else:\n",
    "                right -= 1"
   ]
  },
  {
   "cell_type": "markdown",
   "metadata": {},
   "source": [
    "### Question 18: 4Sums\n",
    "Given an array nums of n integers, return an array of all the unique quadruplets [nums[a], nums[b], nums[c], nums[d]] such that:\n",
    "\n",
    "0 <= a, b, c, d < n\n",
    "a, b, c, and d are distinct.\n",
    "nums[a] + nums[b] + nums[c] + nums[d] == target\n",
    "You may return the answer in any order."
   ]
  },
  {
   "cell_type": "code",
   "execution_count": 4,
   "metadata": {},
   "outputs": [],
   "source": [
    "def fourSum(nums, target):\n",
    "    nums.sort()\n",
    "    n = len(nums)\n",
    "    nums.sort()\n",
    "    ans = []\n",
    "    for i in range(n-3):\n",
    "        for j in range(i+1,n-2):\n",
    "            # Two pointers starting from left and right\n",
    "            l = j + 1\n",
    "            r = n-1\n",
    "            sum_ij = nums[i] + nums[j]\n",
    "            while l < r:\n",
    "                if nums[l] + nums[r] == target - sum_ij:\n",
    "                    temp = [nums[i],nums[j],nums[l],nums[r]]\n",
    "                    if temp not in ans:\n",
    "                        ans.append([nums[i],nums[j],nums[l],nums[r]])\n",
    "                    l += 1\n",
    "                elif nums[l] + nums[r] < target - sum_ij:\n",
    "                    l += 1\n",
    "                else:\n",
    "                    r -= 1\n",
    "    return ans"
   ]
  },
  {
   "cell_type": "markdown",
   "metadata": {},
   "source": [
    "### Question 350: Intersection of Two Arrays II\n",
    "Each element in the result must appear as many times as it shows in both arrays and you may return the result in any order."
   ]
  },
  {
   "cell_type": "code",
   "execution_count": null,
   "metadata": {},
   "outputs": [],
   "source": [
    "def intersect(nums1, nums2):\n",
    "    nums1.sort()\n",
    "    nums2.sort()\n",
    "    p1,p2 = 0,0\n",
    "    res = []\n",
    "    while p1 < len(nums1) and p2 < len(nums2):\n",
    "        if nums1[p1] > nums2[p2]:\n",
    "            p2 += 1\n",
    "        elif nums1[p1] < nums2[p2]:\n",
    "            p1 += 1\n",
    "        else:\n",
    "            res.append(nums1[p1])\n",
    "            p1 += 1\n",
    "            p2 += 1\n",
    "    return res"
   ]
  },
  {
   "cell_type": "markdown",
   "metadata": {},
   "source": [
    "### Question 283: Move Zeros to the End"
   ]
  },
  {
   "cell_type": "code",
   "execution_count": null,
   "metadata": {},
   "outputs": [],
   "source": [
    "def moveZeroes(nums):\n",
    "    slow = 0\n",
    "    for fast in range(1,len(nums)):\n",
    "        if nums[fast] != 0 and nums[slow] == 0:\n",
    "            nums[fast],nums[slow] = nums[slow],nums[fast]\n",
    "        if nums[slow] != 0:\n",
    "            slow += 1"
   ]
  },
  {
   "cell_type": "markdown",
   "metadata": {},
   "source": [
    "### Question 719: Find kth smallest pair distance\n",
    "The distance of a pair of integers a and b is defined as the absolute difference between a and b.\n",
    "\n",
    "Given an integer array nums and an integer k, return the kth smallest distance among all the pairs nums[i] and nums[j] where 0 <= i < j < nums.length."
   ]
  },
  {
   "cell_type": "code",
   "execution_count": 56,
   "metadata": {},
   "outputs": [],
   "source": [
    "def smallestDistancePair(nums, k):\n",
    "    nums.sort()\n",
    "    L = len(nums)\n",
    "    diff = nums[-1]-nums[0]\n",
    "    left = 0\n",
    "    right = diff\n",
    "    \n",
    "    # Define a helper function that calculates the size of pairs with difference k\n",
    "    def Pass(gap,nums,k):\n",
    "        N = len(nums)\n",
    "        l,r = 0,1\n",
    "        count = 0\n",
    "        for r in range(1,N):\n",
    "            while l<r and nums[r]-nums[l]>gap:\n",
    "                l += 1\n",
    "                if l == r or nums[r]-nums[l]<gap:\n",
    "                    break\n",
    "            count += r-l\n",
    "        return count>=k\n",
    "            \n",
    "    while left < right:\n",
    "        mid = (left+right)//2\n",
    "        if Pass(mid,nums,k):\n",
    "            right = mid\n",
    "        else:\n",
    "            left = mid+1\n",
    "    return left"
   ]
  },
  {
   "cell_type": "markdown",
   "metadata": {},
   "source": [
    "### Question 301: Remove Invalid Parentheses\n",
    "Given a string s that contains parentheses and letters, remove the minimum number of invalid parentheses to make the input string valid.\n",
    "\n",
    "Return all the possible results. You may return the answer in any order."
   ]
  },
  {
   "cell_type": "code",
   "execution_count": null,
   "metadata": {},
   "outputs": [],
   "source": [
    "### Update from Java solution"
   ]
  },
  {
   "cell_type": "markdown",
   "metadata": {},
   "source": [
    "### Question 696: Count Binary Substrings"
   ]
  },
  {
   "cell_type": "code",
   "execution_count": null,
   "metadata": {},
   "outputs": [],
   "source": [
    "def countBinarySubstrings(s):\n",
    "    prev,pointer = 0,0\n",
    "    consecutives = []\n",
    "    while pointer < len(s):\n",
    "        while pointer < len(s) and s[pointer] == s[prev]:\n",
    "            pointer += 1\n",
    "        consecutives.append(pointer-prev)\n",
    "        prev = pointer\n",
    "    return sum([min(consecutives[i],consecutives[i-1]) for i in range(1,len(consecutives))])"
   ]
  },
  {
   "cell_type": "markdown",
   "metadata": {},
   "source": [
    "### Question 1147: Longest Chunked Palindrome Decomposition\n",
    "You are given a string text. You should split it to k substrings (subtext1, subtext2, ..., subtextk) such that:\n",
    "\n",
    "subtexti is a non-empty string.\n",
    "The concatenation of all the substrings is equal to text (i.e., subtext1 + subtext2 + ... + subtextk == text).\n",
    "subtexti == subtextk - i + 1 for all valid values of i (i.e., 1 <= i <= k).\n",
    "Return the largest possible value of k."
   ]
  },
  {
   "cell_type": "code",
   "execution_count": 85,
   "metadata": {},
   "outputs": [],
   "source": [
    "def longestDecomposition(text):\n",
    "    if len(text)==1:\n",
    "        return 1\n",
    "    ans = 0\n",
    "    n = len(text)\n",
    "    # Create two pointers from both sides\n",
    "    left,anchor = 0,0\n",
    "    # Create hash values for both sides\n",
    "    l,r = 0,0\n",
    "    while left < n//2:\n",
    "        l += l*25+(ord(text[left])-ord(\"a\"))\n",
    "        r += 26**(left-anchor)*(ord(text[n-1-left])-ord(\"a\"))\n",
    "        # print(l,r)\n",
    "        if l == r:\n",
    "            ans += 2\n",
    "            l,r = 0,0\n",
    "            anchor=left+1\n",
    "            if left+1 == n/2:\n",
    "                return ans\n",
    "        left += 1\n",
    "        if left >= n//2:\n",
    "            ans += 1\n",
    "    return ans"
   ]
  },
  {
   "cell_type": "markdown",
   "metadata": {},
   "source": [
    "### Question 1793: Maximum Score of a Good Subarray\n",
    "The score of a subarray (i, j) is defined as min(nums[i], nums[i+1], ..., nums[j]) * (j - i + 1). A good subarray is a subarray where i <= k <= j.\n",
    "\n",
    "Return the maximum possible score of a good subarray."
   ]
  },
  {
   "cell_type": "code",
   "execution_count": null,
   "metadata": {},
   "outputs": [],
   "source": [
    "def maximumScore(nums, k):\n",
    "    left,  right = k, k\n",
    "    n = len(nums)\n",
    "    res = mini = nums[k]\n",
    "    while left > 0 or right < n-1:\n",
    "        if ((nums[left-1] if left > 0 else 0) \n",
    "            < (nums[right+1] if right < n - 1 else 0)):\n",
    "            right += 1\n",
    "        else:\n",
    "            left -= 1\n",
    "        mini = min(mini, nums[left], nums[right])\n",
    "        res = max(res,mini*(right-left+1))\n",
    "    return res"
   ]
  }
 ],
 "metadata": {
  "kernelspec": {
   "display_name": "Python 3",
   "language": "python",
   "name": "python3"
  },
  "language_info": {
   "codemirror_mode": {
    "name": "ipython",
    "version": 3
   },
   "file_extension": ".py",
   "mimetype": "text/x-python",
   "name": "python",
   "nbconvert_exporter": "python",
   "pygments_lexer": "ipython3",
   "version": "3.8.5"
  }
 },
 "nbformat": 4,
 "nbformat_minor": 4
}
