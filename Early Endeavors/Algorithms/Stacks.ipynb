{
 "cells": [
  {
   "cell_type": "markdown",
   "metadata": {},
   "source": [
    "# Stacks and Monotonic Stackss"
   ]
  },
  {
   "cell_type": "markdown",
   "metadata": {},
   "source": [
    "### Question 71: Simplify Path\n",
    "Given a string path, which is an absolute path (starting with a slash '/') to a file or directory in a Unix-style file system, convert it to the simplified canonical path."
   ]
  },
  {
   "cell_type": "code",
   "execution_count": null,
   "metadata": {},
   "outputs": [],
   "source": [
    "\"\"\"\n",
    "We are going to stop by each backslash to check whether cur is .. or .\n",
    "If it is the very start or has consecutive /'s, then set cur as empty.\n",
    "\"\"\"\n",
    "def simplifyPath(path):\n",
    "    stack = []\n",
    "    cur = \"\"\n",
    "    for c in path + \"/\":\n",
    "        if c == \"/\":\n",
    "            if cur == \"..\":\n",
    "                if stack:\n",
    "                    stack.pop()\n",
    "            elif cur != \"\" and cur != \".\":\n",
    "                stack.append(cur)\n",
    "            cur = \"\"\n",
    "        else:\n",
    "            cur += c\n",
    "    \n",
    "    return \"/\"+\"/\".join(stack)"
   ]
  },
  {
   "cell_type": "markdown",
   "metadata": {},
   "source": [
    "### Question 84: Largest Rectangle in histogram\n",
    "Given an array of integers heights representing the histogram's bar height where the width of each bar is 1, return the area of the largest rectangle in the histogram."
   ]
  },
  {
   "cell_type": "code",
   "execution_count": null,
   "metadata": {},
   "outputs": [],
   "source": [
    "def largestRectangleArea(heights):\n",
    "    max_area = 0\n",
    "    stack = []\n",
    "    for (i,h) in enumerate(heights):\n",
    "        start = i\n",
    "        while stack and stack[-1][1]>h:\n",
    "            index,height = stack.pop()\n",
    "            max_area = max(max_area,height*abs(i-index))\n",
    "            start = index\n",
    "        stack.append((start,h))\n",
    "    for i, h in stack:\n",
    "        max_area = max(max_area,h*(len(heights)-i))\n",
    "    return max_area"
   ]
  },
  {
   "cell_type": "markdown",
   "metadata": {},
   "source": [
    "### Question 42: Trapping water\n",
    "Given n non-negative integers representing an elevation map where the width of each bar is 1, compute how much water it can trap after raining."
   ]
  },
  {
   "cell_type": "code",
   "execution_count": null,
   "metadata": {},
   "outputs": [],
   "source": [
    "\"\"\"\n",
    "Idea: The amount of water it could trap in one position is the min height\n",
    "of its left and its right minus its own height.\n",
    "Method 1: Three arrays documenting max left, max right, and min of those.\n",
    "Method 2: Two pointers. Starting from two ends, then update the one with\n",
    "    smaller max value then shift it towards middle.\n",
    "\"\"\"\n",
    "import numpy as np\n",
    "def trap(height):\n",
    "    min_vec = np.zeros(len(height)).astype(int)\n",
    "    left_pointer = 0\n",
    "    right_pointer = len(height)-1\n",
    "    left = height[0]\n",
    "    right = height[-1]\n",
    "    \n",
    "    while right_pointer > left_pointer:\n",
    "        if left <= right:\n",
    "            left_pointer += 1\n",
    "            min_vec[left_pointer] = min(left, right)\n",
    "            left = max(left, height[left_pointer])\n",
    "        else:\n",
    "            right_pointer -= 1\n",
    "            min_vec[right_pointer+1] = min(left, right)\n",
    "            right = max(right,height[right_pointer+1])\n",
    "    min_vec[0] = min_vec[-1] = 0\n",
    "\n",
    "    # return min_vec\n",
    "    return np.sum((min_vec - height > 0).astype(int)*(min_vec - height))\n",
    "\n",
    "## Note: Pay attention to the order which we update the pointer and left or right values ##"
   ]
  },
  {
   "cell_type": "markdown",
   "metadata": {},
   "source": [
    "### Question 150: Evaluate Reverse Polish Notation\n",
    "Evaluate the value of an arithmetic expression in Reverse Polish Notation.\n",
    "\n",
    "Valid operators are +, -, *, and /. Each operand may be an integer or another expression."
   ]
  },
  {
   "cell_type": "code",
   "execution_count": 7,
   "metadata": {},
   "outputs": [
    {
     "data": {
      "text/plain": [
       "False"
      ]
     },
     "execution_count": 7,
     "metadata": {},
     "output_type": "execute_result"
    }
   ],
   "source": [
    "def evalRPN(tokens):\n",
    "    stack = []\n",
    "    arithmatics = set([\"+\",\"-\",\"*\",\"/\"])\n",
    "    for token in tokens:\n",
    "        if token not in arithmatics:\n",
    "            stack.append(int(token))\n",
    "        else:\n",
    "            num2 = stack.pop()\n",
    "            num1 = stack.pop()\n",
    "            if token == \"+\":\n",
    "                stack.append(num2+num1)\n",
    "            elif token == \"-\":\n",
    "                stack.append(num1-num2)\n",
    "            elif token == \"*\":\n",
    "                stack.append(num1*num2)\n",
    "            else:\n",
    "                stack.append(int(num1/num2))\n",
    "    return stack[0]"
   ]
  },
  {
   "cell_type": "markdown",
   "metadata": {},
   "source": [
    "### Question 221: Maximal Square\n",
    "Given an m x n binary matrix filled with 0's and 1's, find the largest square containing only 1's and return its area."
   ]
  },
  {
   "cell_type": "code",
   "execution_count": null,
   "metadata": {},
   "outputs": [],
   "source": [
    "\"\"\"\n",
    "Use backtracking: start from the bottom right corner\n",
    "When a cell's all three incoming directions are 1: add 1\n",
    "If any of them is zero: its value equals itself\n",
    "\"\"\" \n",
    "def maximalSquare(matrix):\n",
    "    R, C = len(matrix),len(matrix[0])\n",
    "    cache = {} # Maps from the position to the max area from that position\n",
    "    \n",
    "    # Define a helper function that takes in values from all three directions\n",
    "    def helper(r,c):\n",
    "        if r>=R or c>=C:\n",
    "            return 0\n",
    "        if (r,c) not in cache:\n",
    "            down = helper(r+1,c)\n",
    "            right = helper(r,c+1)\n",
    "            diag = helper(r+1,c+1)\n",
    "            \n",
    "            cache[(r,c)] = 0\n",
    "            if matrix[r][c] == \"1\":\n",
    "                cache[(r,c)] = 1+min(down,right,diag)\n",
    "        return cache[(r,c)]\n",
    "    helper(0,0)\n",
    "    return max(cache.values())**2"
   ]
  },
  {
   "cell_type": "markdown",
   "metadata": {},
   "source": [
    "### Question 85: Maximal Rectangle\n",
    "Given a rows x cols binary matrix filled with 0's and 1's, find the largest rectangle containing only 1's and return its area."
   ]
  },
  {
   "cell_type": "code",
   "execution_count": null,
   "metadata": {},
   "outputs": [],
   "source": [
    "\"\"\"\n",
    "For each first n rows: compute the histogram\n",
    "Find the maximum area of each histogram\n",
    "Find the maximum of the max values\n",
    "\"\"\"\n",
    "def largestRectangleArea(heights):\n",
    "    max_area = 0\n",
    "    stack = []\n",
    "    for (i,h) in enumerate(heights):\n",
    "        start = i\n",
    "        while stack and stack[-1][1] > h:\n",
    "            index,height = stack.pop()\n",
    "            max_area = max(max_area,height*abs(i-index))\n",
    "            start = index\n",
    "        stack.append((start,h))\n",
    "    for (i,h) in stack:\n",
    "        max_area = max(max_area,h*(len(heights)-i))\n",
    "    return max_area\n",
    "def maximalRectangle(matrix):\n",
    "    for i in range(len(matrix)):\n",
    "        for j in range(len(matrix[0])):\n",
    "            matrix[i][j] = int(matrix[i][j])\n",
    "    # Initialize the histogram and max area\n",
    "    hist = matrix[0]\n",
    "    max_area = largestRectangleArea(hist)\n",
    "    for i in range(1,len(matrix)):\n",
    "        for j in range(len(matrix[0])):\n",
    "            hist[j] = matrix[i][j]*(hist[j]+matrix[i][j])\n",
    "        max_area = max(max_area,largestRectangleArea(hist))\n",
    "    return max_area"
   ]
  },
  {
   "cell_type": "markdown",
   "metadata": {},
   "source": [
    "### Question 227: Basic Calculator II\n",
    "Given a string s which represents an expression, evaluate this expression and return its value. It should be able to handle +,-,*,and/.\n",
    "\n",
    "The integer division should truncate toward zero."
   ]
  },
  {
   "cell_type": "code",
   "execution_count": 1,
   "metadata": {},
   "outputs": [],
   "source": [
    "def calculate(s):\n",
    "    if not s:\n",
    "        return 0\n",
    "    stack,curr,sign = [],0,\"+\"\n",
    "    for i in range(len(s)):\n",
    "        if s[i].isdigit():\n",
    "            curr = 10*curr+int(s[i])\n",
    "        if (not s[i].isdigit() and not s[i].isspace()) or i==len(s)-1:\n",
    "            if sign == \"+\":\n",
    "                stack.append(curr)\n",
    "            elif sign == \"-\":\n",
    "                stack.append(-curr)\n",
    "            elif sign == \"*\":\n",
    "                stack.append(stack.pop()*curr)\n",
    "            else:\n",
    "                temp = stack.pop()\n",
    "                if temp//curr < 0  and temp%curr != 0:\n",
    "                    stack.append(temp//curr+1)\n",
    "                else:\n",
    "                    stack.append(temp//curr)\n",
    "            sign = s[i]\n",
    "            curr = 0\n",
    "    return sum(stack)"
   ]
  },
  {
   "cell_type": "markdown",
   "metadata": {},
   "source": [
    "### Question 316: Remove Duplicate Letters\n",
    "Given a string s, remove duplicate letters so that every letter appears once and only once. You must make sure your result is the smallest in lexicographical order among all possible results."
   ]
  },
  {
   "cell_type": "code",
   "execution_count": null,
   "metadata": {},
   "outputs": [],
   "source": [
    "def removeDuplicateLetters(s):\n",
    "    lookup = {}\n",
    "    for i in range(len(s)):\n",
    "        lookup[s[i]] = i\n",
    "    stack = []\n",
    "    seen = set()\n",
    "    for i in range(len(s)):\n",
    "        if s[i] in seen:\n",
    "            continue\n",
    "        while stack and stack[-1] > s[i] and lookup[stack[-1]] > i:\n",
    "            seen.remove(stack[-1])\n",
    "            stack.pop()\n",
    "        stack.append(s[i])\n",
    "        seen.add(s[i])\n",
    "    return \"\".join(stack)"
   ]
  },
  {
   "cell_type": "markdown",
   "metadata": {},
   "source": [
    "### Question 1673: Find the Most Competitive Subsequence\n",
    "We define that a subsequence a is more competitive than a subsequence b (of the same length) if in the first position where a and b differ, subsequence a has a number less than the corresponding number in b"
   ]
  },
  {
   "cell_type": "code",
   "execution_count": null,
   "metadata": {},
   "outputs": [],
   "source": [
    "def mostCompetitive(self, nums: List[int], k: int) -> List[int]:\n",
    "    ans = []\n",
    "    rem = len(nums)-k\n",
    "    for num in nums:\n",
    "        while len(ans)>0 and rem>0 and num<ans[-1]:\n",
    "            ans.pop()\n",
    "            rem -= 1\n",
    "        ans.append(num)\n",
    "    while rem:\n",
    "        ans.pop()\n",
    "        rem -= 1\n",
    "    return ans"
   ]
  },
  {
   "cell_type": "markdown",
   "metadata": {},
   "source": [
    "### Question 726: Number of Atoms\n",
    "Return the count of all elements as a string in the following form: the first name (in sorted order), followed by its count (if that count is more than 1), followed by the second name (in sorted order), followed by its count (if that count is more than 1), and so on."
   ]
  },
  {
   "cell_type": "code",
   "execution_count": 15,
   "metadata": {},
   "outputs": [],
   "source": [
    "import collections\n",
    "def countOfAtoms(formula: str) -> str:\n",
    "    n = len(formula)\n",
    "    stack = [collections.Counter()]\n",
    "    i = 0\n",
    "    while i<n:\n",
    "        cur = formula[i]\n",
    "\n",
    "        if cur == \"(\":\n",
    "            stack.append(collections.Counter())\n",
    "            i += 1\n",
    "        elif cur == \")\":\n",
    "            cur_counter = stack.pop()\n",
    "            i += 1\n",
    "            # Then we need to find the multuplier\n",
    "            start = i\n",
    "            while i < n and formula[i].isdigit():\n",
    "                i += 1\n",
    "            multipler = int(formula[start:i]) if formula[start:i] else 1\n",
    "            # Multiply with atoms in the counter\n",
    "            for atom in cur_counter:\n",
    "                cur_count = cur_counter[atom]\n",
    "                stack[-1][atom] += cur_count*multipler\n",
    "        else:\n",
    "            # First find the atom\n",
    "            atom = cur\n",
    "            i += 1\n",
    "            start = i\n",
    "            while i < n and formula[i].islower():\n",
    "                i += 1\n",
    "            atom += formula[start:i]\n",
    "            # Find the multiplier\n",
    "            start = i\n",
    "            while i < n and formula[i].isdigit():\n",
    "                i += 1\n",
    "            count = int(formula[start:i]) if formula[start:i] else 1\n",
    "            stack[-1][atom] += count\n",
    "    # Constructing the final answer\n",
    "    ans = \"\"\n",
    "    counter = stack[-1]\n",
    "    for atom in sorted(counter):\n",
    "        ans += atom\n",
    "        if counter[atom]>1:\n",
    "            ans += str(counter[atom])\n",
    "    \n",
    "    return ans"
   ]
  },
  {
   "cell_type": "markdown",
   "metadata": {},
   "source": [
    "### Question 975: Odd Even Jump\n",
    "During odd-numbered jumps (i.e., jumps 1, 3, 5, ...), you jump to the index j such that arr[i] <= arr[j] and arr[j] is the smallest possible value. If there are multiple such indices j, you can only jump to the smallest such index j.\n",
    "\n",
    "During even-numbered jumps (i.e., jumps 2, 4, 6, ...), you jump to the index j such that arr[i] >= arr[j] and arr[j] is the largest possible value. If there are multiple such indices j, you can only jump to the smallest such index j.\n",
    "\n",
    "A starting index is good if, starting from that index, you can reach the end of the array (index arr.length - 1) by jumping some number of times (possibly 0 or more than once).\n",
    "\n",
    "Return the number of good starting indices."
   ]
  },
  {
   "cell_type": "code",
   "execution_count": 4,
   "metadata": {},
   "outputs": [],
   "source": [
    "# See Java Solution"
   ]
  },
  {
   "cell_type": "markdown",
   "metadata": {},
   "source": [
    "### Question 1944: Number of Visible People in a Queue\n",
    "A person can see another person to their right in the queue if everybody in between is shorter than both of them. More formally, the ith person can see the jth person if i < j and min(heights[i], heights[j]) > max(heights[i+1], heights[i+2], ..., heights[j-1]).\n",
    "\n",
    "Return an array answer of length n where answer[i] is the number of people the ith person can see to their right in the queue."
   ]
  },
  {
   "cell_type": "code",
   "execution_count": 61,
   "metadata": {},
   "outputs": [],
   "source": [
    "def canSeePersonsCount(heights):\n",
    "    n = len(heights)\n",
    "    res = [0 for i in range(n)]\n",
    "    stack = []\n",
    "    for i in range(n-1,-1,-1):\n",
    "        while stack and heighs[i] > stack[-1]:\n",
    "            stack.pop()\n",
    "            res[i] += 1\n",
    "        res[i] += 1 if stack else 0\n",
    "        stack.append(heights[i])\n",
    "    return res"
   ]
  },
  {
   "cell_type": "markdown",
   "metadata": {},
   "source": [
    "### Question 2289: Steps to Make Array Non-decreasing\n",
    "You are given a 0-indexed integer array nums. In one step, remove all elements nums[i] where nums[i - 1] > nums[i] for all 0 < i < nums.length.\n",
    "\n",
    "Return the number of steps performed until nums becomes a non-decreasing array."
   ]
  },
  {
   "cell_type": "code",
   "execution_count": 1,
   "metadata": {},
   "outputs": [],
   "source": [
    "def totalSteps(nums):\n",
    "    stack = [[nums[0],0]]\n",
    "    ans = 0\n",
    "    for num in nums[1:]:\n",
    "        t = 0\n",
    "        while stack and stack[-1][0] <= num:\n",
    "            t = max(t, stack[-1][1])\n",
    "            stack.pop()\n",
    "        if stack:\n",
    "            t += 1\n",
    "        else:\n",
    "            t = 0\n",
    "        ans = max(ans, t)\n",
    "        stack.append([num, t])\n",
    "    return ans"
   ]
  }
 ],
 "metadata": {
  "kernelspec": {
   "display_name": "Python 3",
   "language": "python",
   "name": "python3"
  },
  "language_info": {
   "codemirror_mode": {
    "name": "ipython",
    "version": 3
   },
   "file_extension": ".py",
   "mimetype": "text/x-python",
   "name": "python",
   "nbconvert_exporter": "python",
   "pygments_lexer": "ipython3",
   "version": "3.8.5"
  }
 },
 "nbformat": 4,
 "nbformat_minor": 4
}
