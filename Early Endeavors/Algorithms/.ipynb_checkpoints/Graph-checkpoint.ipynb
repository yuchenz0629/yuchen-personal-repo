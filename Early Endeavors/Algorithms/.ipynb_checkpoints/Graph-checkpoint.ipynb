{
 "cells": [
  {
   "cell_type": "markdown",
   "metadata": {},
   "source": [
    "# Graphs"
   ]
  },
  {
   "cell_type": "markdown",
   "metadata": {},
   "source": [
    "### Question 133: Clone Graph"
   ]
  },
  {
   "cell_type": "code",
   "execution_count": null,
   "metadata": {},
   "outputs": [],
   "source": [
    "\"\"\"\n",
    "*\n",
    "\"\"\"\n",
    "def cloneGraph(node):\n",
    "    if not node:\n",
    "        return None\n",
    "    q = deque([node])\n",
    "    clones = {node.val: Node(node.val, [])}\n",
    "    while q:\n",
    "        node_temp = q.popleft()\n",
    "        node_clone = clones[node_temp.val]\n",
    "        for neighbor in node_temp.neighbors:\n",
    "            if neighbor.val not in clones:\n",
    "                clones[neighbor.val] = Node(neighbor.val,[])\n",
    "                q.append(neighbor)\n",
    "            node_clone.neighbors.append(clones[neighbor.val])\n",
    "    return clones[node.val]"
   ]
  },
  {
   "cell_type": "markdown",
   "metadata": {},
   "source": [
    "### Question 329: Longest Increasing Path in a Matrix\n",
    "Given an m x n integers matrix, return the length of the longest increasing path in matrix.\n",
    "\n",
    "From each cell, you can either move in four directions: left, right, up, or down. You may not move diagonally or move outside the boundary (i.e., wrap-around is not allowed)."
   ]
  },
  {
   "cell_type": "code",
   "execution_count": 14,
   "metadata": {},
   "outputs": [],
   "source": [
    "\"\"\"\n",
    "Basic idea: try from all coming directions\n",
    "\"\"\"\n",
    "def longestIncreasingPath(matrix):\n",
    "    ROW,COL = len(matrix),len(matrix[0])\n",
    "    Map={}\n",
    "    def dfs(r,c,prev):\n",
    "        if r<0 or c<0 or r==ROW or c==COL or matrix[r][c]<=prev:\n",
    "            return 0\n",
    "        if (r,c) in Map:\n",
    "            return Map[(r,c)]\n",
    "        res = 1\n",
    "        res = max(res,1+dfs(r+1,c,matrix[r][c]))\n",
    "        res = max(res,1+dfs(r,c+1,matrix[r][c])) \n",
    "        res = max(res,1+dfs(r-1,c,matrix[r][c])) \n",
    "        res = max(res,1+dfs(r,c-1,matrix[r][c])) \n",
    "        Map[(r,c)] = res\n",
    "        return res\n",
    "    for r in range(ROW):\n",
    "        for c in range(COL):\n",
    "            dfs(r,c,-1)\n",
    "    return Map.values()"
   ]
  },
  {
   "cell_type": "markdown",
   "metadata": {},
   "source": [
    "### Question 399: Evaluate Division\n",
    "You are given an array of variable pairs equations and an array of real numbers values, where equations[i] = [Ai, Bi] and values[i] represent the equation Ai / Bi = values[i]. Each Ai or Bi is a string that represents a single variable.\n",
    "\n",
    "Return answers to all queries"
   ]
  },
  {
   "cell_type": "code",
   "execution_count": null,
   "metadata": {},
   "outputs": [],
   "source": [
    "def calcEquation(equations,values,queries):\n",
    "    graph = collections.defaultdict(list)\n",
    "    def construct(equations,values):\n",
    "        def add_edge(m,n,value):\n",
    "            graph[m].append((n,value))\n",
    "        for vertices,value in zip(equations,values):\n",
    "            f,t = vertices\n",
    "            add_edge(f,t,value)\n",
    "            add_edge(t,f,1/value)\n",
    "    construct(equations,values)\n",
    "    def find_path(query):\n",
    "        start,end = query\n",
    "        if start not in graph or end not in graph:\n",
    "            return -1.0\n",
    "        q = collections.deque()\n",
    "        visited = set()\n",
    "        q.append((start,1.0))\n",
    "        while q:\n",
    "            front,curr = q.popleft()\n",
    "            if front == end:\n",
    "                return curr\n",
    "            visited.add(front)\n",
    "            for neighbor,value in graph[front]:\n",
    "                if neighbor not in visited:\n",
    "                    q.append((neighbor,curr*value))\n",
    "        return -1.0\n",
    "    return [find_path(q) for q in queries]"
   ]
  },
  {
   "cell_type": "markdown",
   "metadata": {},
   "source": [
    "### 684. Redundant Connection\n",
    "In this problem, a tree is an undirected graph that is connected and has no cycles.\n",
    "\n",
    "Return an edge that can be removed so that the resulting graph is a tree of n nodes. If there are multiple answers, return the answer that occurs last in the input."
   ]
  },
  {
   "cell_type": "code",
   "execution_count": null,
   "metadata": {},
   "outputs": [],
   "source": [
    "def findRedundantConnection(edges):\n",
    "    parent = [i for i in range(len(edges)+1)]\n",
    "    rank = [1]*(len(edges)+1)\n",
    "    def find(n):\n",
    "        p = parent(n)\n",
    "        while parent(p) != p:\n",
    "            parent[p] = parent[parent[p]]\n",
    "            p = parent[p]\n",
    "        return p\n",
    "    def union(n1,n2):\n",
    "        p1,p2 = find(n1),find(n2)\n",
    "        if p1 == p2:\n",
    "            return False\n",
    "        if rank[p1] > rank[p2]:\n",
    "            rank[p1] += rank[p2]\n",
    "            parent[p2] = p1\n",
    "        else:\n",
    "            rank[p2] += rank[p1]\n",
    "            parent[p1] = p2\n",
    "        return True\n",
    "    for n1,n2 in edges:\n",
    "        if union(n1,n2) == False:\n",
    "            return False"
   ]
  },
  {
   "cell_type": "markdown",
   "metadata": {},
   "source": [
    "### Question 685: Redundant Connection II\n",
    "This time with directed graph"
   ]
  },
  {
   "cell_type": "code",
   "execution_count": null,
   "metadata": {},
   "outputs": [],
   "source": [
    "class Solution:\n",
    "    def union(self,a,b):\n",
    "        self.uf[self.find(b)] = self.find(a)\n",
    "    def find(self, a):\n",
    "        while self.uf[a] != a:\n",
    "            a = self.uf[a]\n",
    "        return a\n",
    "    def detectCycle(self, V):\n",
    "        self.visited[V] = True\n",
    "        for i in range(len(self.adjList[V])):\n",
    "            nextV = self.adjList[V][i]\n",
    "            if self.visited[nextV]:\n",
    "                return (V, nextV)\n",
    "            ret = self.detectCycle(nextV)\n",
    "            if ret[0]:\n",
    "                return ret\n",
    "        return (None, None)\n",
    "    def findRedundantDirectedConnection(self, edges: List[List[int]]) -> List[int]:\n",
    "        self.uf = [0] + [i + 1 for i in range(len(edges))]\n",
    "        self.adjList = [[] for i in range(len(edges) + 1)]\n",
    "        hasFather = [False] * (len(edges) + 1)\n",
    "        criticalEdge = None\n",
    "        for i, edge in enumerate(edges):\n",
    "            w, v = edge[0], edge[1]\n",
    "            self.adjList[w].append(v)\n",
    "            # If vertex has more than one parent: record last \n",
    "            if hasFather[v]:\n",
    "                criticalEdge = (w, v)\n",
    "            hasFather[v] = True\n",
    "            # Record the last edge in the loop\n",
    "            if self.find(w) == self.find(v):  \n",
    "                cycleEdge = (w,v)\n",
    "            self.union(w, v)\n",
    "        \n",
    "        # This is when there's loop but no edge with 1+ parents\n",
    "        if not criticalEdge:\n",
    "            return cycleEdge\n",
    "        self.visited = [False] * (len(edges) + 1)\n",
    "        (w, v) = self.detectCycle(criticalEdge[1])\n",
    "        return (w, v) if w else criticalEdge"
   ]
  },
  {
   "cell_type": "markdown",
   "metadata": {},
   "source": [
    "### Question 785: Is Graph Bipartite"
   ]
  },
  {
   "cell_type": "code",
   "execution_count": null,
   "metadata": {},
   "outputs": [],
   "source": [
    "def isBipartite(graph):\n",
    "    color = {}\n",
    "    def dfs(pos):\n",
    "        for i in graph[pos]:\n",
    "            if i in color:\n",
    "                if color[i] == color[pos]:\n",
    "                    return False\n",
    "            else:\n",
    "                color[i] = 1 - color[pos]\n",
    "                if not dfs(i):\n",
    "                    return False\n",
    "        return True\n",
    "    for i in range(len(graph)):\n",
    "        if i not in color:\n",
    "            color[i] = 0\n",
    "            if not dfs(i):\n",
    "                return False\n",
    "    return True"
   ]
  },
  {
   "cell_type": "markdown",
   "metadata": {},
   "source": [
    "### Question 787: Cheapest Flights Within K Stops\n",
    "There are n cities connected by some number of flights. You are given an array flights where flights[i] = [fromi, toi, pricei] indicates that there is a flight from city fromi to city toi with cost pricei.\n",
    "\n",
    "You are also given three integers src, dst, and k, return the cheapest price from src to dst with at most k stops. If there is no such route, return -1."
   ]
  },
  {
   "cell_type": "code",
   "execution_count": null,
   "metadata": {},
   "outputs": [],
   "source": [
    "def findCheapestPrice(n,flights,src,dest,k):\n",
    "    prices = [float(\"inf\")]*n\n",
    "    prices[src] = 0\n",
    "    for i in range(k+1):\n",
    "        prices_temp = prices.copy()\n",
    "        for start, end, price in flights:\n",
    "            if prices[start] == float(\"inf\"):\n",
    "                continue\n",
    "            if prices[start] + price < prices_temp[end]:\n",
    "                prices_temp[end] = prices[start] + price\n",
    "        prices = prices_temp\n",
    "    return prices[dst]"
   ]
  },
  {
   "cell_type": "markdown",
   "metadata": {},
   "source": [
    "### Question 834: Sum of Distances in Tree\n",
    "There is an undirected connected tree with n nodes labeled from 0 to n - 1 and n - 1 edges.\n",
    "\n",
    "You are given the integer n and the array edges where edges[i] = [ai, bi] indicates that there is an edge between nodes ai and bi in the tree.\n",
    "\n",
    "Return an array answer of length n where answer[i] is the sum of the distances between the ith node in the tree and all other nodes."
   ]
  },
  {
   "cell_type": "code",
   "execution_count": null,
   "metadata": {},
   "outputs": [],
   "source": [
    "import collections\n",
    "def sumOfDistancesInTree(n,edges):\n",
    "    # First we construct a prefix tree\n",
    "    prefix = collections.defaultdict(set)\n",
    "    for i,j in edges:\n",
    "        prefix[i].add(j)\n",
    "        prefix[j].add(i)\n",
    "    count = [1]*n\n",
    "    res = [0]*n\n",
    "    def dfs(root,pre):\n",
    "        for child in prefix[root]:\n",
    "            if child != pre:\n",
    "                dfs(child,root)\n",
    "                count[root] += count[child]\n",
    "                res[root] += count[child] + res[child]\n",
    "    def dfs2(root,pre):\n",
    "        for child in prefix[root]:\n",
    "            if child != pre:\n",
    "                res[child] = res[root] - count[child] + n - count[child]\n",
    "                dfs2(child,root)\n",
    "    dfs(0,-1)\n",
    "    dfs2(0,-1)\n",
    "    return res"
   ]
  },
  {
   "cell_type": "markdown",
   "metadata": {},
   "source": [
    "### Question 847: Shortest Path Visiting All Nodes\n",
    "You have an undirected, connected graph of n nodes labeled from 0 to n - 1. You are given an array graph where graph[i] is a list of all the nodes connected with node i by an edge.\n",
    "\n",
    "Return the length of the shortest path that visits every node. You may start and stop at any node, you may revisit nodes multiple times, and you may reuse edges."
   ]
  },
  {
   "cell_type": "code",
   "execution_count": null,
   "metadata": {},
   "outputs": [],
   "source": [
    "\"\"\"\n",
    "Binary expression of visited nodes:\n",
    "    0 denoting unvisited\n",
    "    1 denoting visited\n",
    "    \"0011\" means 0 and 1 are visited but 2 and 3 are not\n",
    "\"\"\"\n",
    "import collections\n",
    "def shortestPathLength(self, graph: List[List[int]]) -> int:\n",
    "    n = len(graph)\n",
    "    if n == 1:\n",
    "        return 0\n",
    "    finalstate = (1<<n)-1 # same as 2^n-1: 00...01 to 11...11\n",
    "    # Add all the nodes so that we can start anywhere\n",
    "    queue = collections.deque((x,1<<x) for x in range(n))\n",
    "    # Initialize the path. For every node, there are 1<<n possible visited permutations\n",
    "    path = collections.defaultdict(lambda: n*n)\n",
    "    for i in range(n):\n",
    "        path[i,1<<i] = 0\n",
    "    # Perform BFS\n",
    "    while queue:\n",
    "        cur_node, cur_path = queue.popleft()\n",
    "        cur_steps = path[cur_node, cur_path]\n",
    "        if cur_path == finalstate:\n",
    "            return cur_steps\n",
    "        for child in graph[cur_node]:\n",
    "            child_steps = cur_path | (1<<child) # Use the binary method\n",
    "            if path[child, child_steps] > cur_steps+1:\n",
    "                path[child, child_steps] = cur_steps+1\n",
    "                queue.append((child, child_steps))\n",
    "    return -1"
   ]
  },
  {
   "cell_type": "markdown",
   "metadata": {},
   "source": [
    "### Question 997: Find the Town Judge\n",
    "The town judge trusts nobody.\n",
    "Everybody (except for the town judge) trusts the town judge.\n",
    "There is exactly one person that satisfies properties 1 and 2."
   ]
  },
  {
   "cell_type": "code",
   "execution_count": null,
   "metadata": {},
   "outputs": [],
   "source": [
    "def findJudge(n, trust):\n",
    "    if not trust and n == 1:\n",
    "        return 1\n",
    "    Exdegree = Counter()\n",
    "    Indegree = Counter()\n",
    "    for Ex,In in trust:\n",
    "        Exdegree[Ex] += 1\n",
    "        Indegree[In] += 1\n",
    "    for person in Indegree:\n",
    "        if Exdegree[person] == 0 and Indegree[person] == n-1:\n",
    "            return person\n",
    "    return -1"
   ]
  },
  {
   "cell_type": "markdown",
   "metadata": {},
   "source": [
    "### Question 2242: Maximum Score of a Node Sequence\n",
    "There is an undirected graph with n nodes, numbered from 0 to n - 1.\n",
    "\n",
    "You are given a 0-indexed integer array scores of length n where scores[i] denotes the score of node i. You are also given a 2D integer array edges where edges[i] = [ai, bi] denotes that there exists an undirected edge connecting nodes ai and bi."
   ]
  },
  {
   "cell_type": "code",
   "execution_count": null,
   "metadata": {},
   "outputs": [],
   "source": [
    "def maximumScore(scores,edges):\n",
    "    n = len(scores)\n",
    "    edge = [[] for i in range(n)]\n",
    "    for u, v in edges:\n",
    "        edge[u].append(v)\n",
    "        edge[v].append(u)\n",
    "    for l in edge:\n",
    "        l.sort(key=lambda x:scores[x], reverse=True)\n",
    "    # Initialize the answer\n",
    "    ans = -1\n",
    "    for u, v in edges:\n",
    "        for i in range(min(3, len(edge[u]))):\n",
    "            for j in range(min(3, len(edge[u]))):\n",
    "                x = edge[u][i]\n",
    "                y = edge[v][j]\n",
    "                if x!=u and x!=v and y!=u and y!=v and x!=y:\n",
    "                    ans = max(ans,scores[u]+scores[v]+scores[x]+scores[y])\n",
    "    return ans"
   ]
  }
 ],
 "metadata": {
  "kernelspec": {
   "display_name": "Python 3",
   "language": "python",
   "name": "python3"
  },
  "language_info": {
   "codemirror_mode": {
    "name": "ipython",
    "version": 3
   },
   "file_extension": ".py",
   "mimetype": "text/x-python",
   "name": "python",
   "nbconvert_exporter": "python",
   "pygments_lexer": "ipython3",
   "version": "3.8.5"
  },
  "vscode": {
   "interpreter": {
    "hash": "31f2aee4e71d21fbe5cf8b01ff0e069b9275f58929596ceb00d14d90e3e16cd6"
   }
  }
 },
 "nbformat": 4,
 "nbformat_minor": 4
}
