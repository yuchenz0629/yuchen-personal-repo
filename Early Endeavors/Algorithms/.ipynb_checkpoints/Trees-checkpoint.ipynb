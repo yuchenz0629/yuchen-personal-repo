{
 "cells": [
  {
   "cell_type": "markdown",
   "metadata": {},
   "source": [
    "# Trees General"
   ]
  },
  {
   "cell_type": "markdown",
   "metadata": {},
   "source": [
    "### Question 94: Binary Tree Inorder Traversal\n",
    "Traverse the tree with order Left, Root, Right"
   ]
  },
  {
   "cell_type": "code",
   "execution_count": 1,
   "metadata": {},
   "outputs": [],
   "source": [
    "# Solution 1: using recursion\n",
    "def helper(root,res):\n",
    "    if root:\n",
    "        helper(root.left,res)\n",
    "        res.append(root.val)\n",
    "        helper(root.right,res)\n",
    "def inorder(root):\n",
    "    res = []\n",
    "    helper(root,res)\n",
    "    return res\n",
    "\n",
    "# Solution 2: using stack\n",
    "def inorder2(root):\n",
    "    res = []\n",
    "    stack = []\n",
    "    curr = root\n",
    "    while curr or stack:\n",
    "        while curr:\n",
    "            stack.append(curr)\n",
    "            curr = curr.left\n",
    "        curr = stack.pop()\n",
    "        res.append(curr.val)\n",
    "        stack.append(curr.right)\n",
    "    return res"
   ]
  },
  {
   "cell_type": "markdown",
   "metadata": {},
   "source": [
    "### Question 109: Convert Sorted List to Binary Search Tree"
   ]
  },
  {
   "cell_type": "code",
   "execution_count": null,
   "metadata": {},
   "outputs": [],
   "source": [
    "def sortedListToBST(self,head):\n",
    "    if not head:\n",
    "        return None\n",
    "    if not head.next:\n",
    "        return TreeNode(head.val)\n",
    "    slow = fast = head\n",
    "    pre = None\n",
    "    while fast and fast.next:\n",
    "        pre = slow\n",
    "        slow = slow.next\n",
    "        fast = fast.next.next\n",
    "    pre.next = None\n",
    "\n",
    "    root = TreeNode(slow.val)\n",
    "    root.left = self.sortedListToBST(head)\n",
    "    root.right = self.sortedListToBST(slow.next)\n",
    "    return root"
   ]
  },
  {
   "cell_type": "markdown",
   "metadata": {},
   "source": [
    "### Question 144: Binary Tree Preorder Traversal\n",
    "node, left, right"
   ]
  },
  {
   "cell_type": "code",
   "execution_count": 1,
   "metadata": {},
   "outputs": [],
   "source": [
    "def preorderTraversal(root):\n",
    "    ans = []\n",
    "    stack = [root]\n",
    "    while stack:\n",
    "        node = stack.pop()\n",
    "        if node:\n",
    "            ans.append(node.val)\n",
    "            stack.append(node.right)\n",
    "            stack.append(node.left)\n",
    "    return ans"
   ]
  },
  {
   "cell_type": "markdown",
   "metadata": {},
   "source": [
    "### Question 145: Binary Tree Postorder Traversal\n",
    "left,right,root"
   ]
  },
  {
   "cell_type": "code",
   "execution_count": 2,
   "metadata": {},
   "outputs": [],
   "source": [
    "def postorderTraversal(root):\n",
    "    ans = []\n",
    "    stack = [(root,False)]\n",
    "    while stack:\n",
    "        node,visited = stack.pop()\n",
    "        if node:\n",
    "            if visited:\n",
    "                ans.append(node.val)\n",
    "            else:\n",
    "                stack.append((node,True)\n",
    "                stack.append((node.right,True))\n",
    "                stack.append((node.left,True))\n",
    "    return ans"
   ]
  },
  {
   "cell_type": "markdown",
   "metadata": {},
   "source": [
    "### Question 105: Constructing trees from preorder and inorder traversal\n",
    "Given two integer arrays preorder and inorder where preorder is the preorder traversal of a binary tree and inorder is the inorder traversal of the same tree, construct and return the binary tree."
   ]
  },
  {
   "cell_type": "code",
   "execution_count": null,
   "metadata": {},
   "outputs": [],
   "source": [
    "\"\"\"\n",
    "Fact: Preorder always starts from root. Take out the root, do the rest recursively.\n",
    "Remove root from preorder, find it in the inorder array.\n",
    "    -> Every value left of it goes into the left subtree\n",
    "    -> Every value right of it goes into the right subtree\n",
    "Afterwards: partition the remaining into left and right in the preorder array\n",
    "\n",
    "\"\"\"\n",
    "def buildTree(preorder, inorder):\n",
    "    if not preorder or not inorder:\n",
    "        return None\n",
    "    root = TreeNode(preorder[0])\n",
    "    pos = inorder.index(preorder[0])\n",
    "    root.left = buildTree(preorder[1:pos+1], inorder[:pos])\n",
    "    root.right = buildTree(preorder[pos+1:], inorder[pos+1:])\n",
    "    return root"
   ]
  },
  {
   "cell_type": "markdown",
   "metadata": {},
   "source": [
    "### Question 108: Convert Sorted Array to Binary Search Tree\n",
    "Given an integer array nums where the elements are sorted in ascending order, convert it to a height-balanced binary search tree.\n",
    "\n",
    "A height-balanced binary tree is a binary tree in which the depth of the two subtrees of every node never differs by more than one."
   ]
  },
  {
   "cell_type": "code",
   "execution_count": null,
   "metadata": {},
   "outputs": [],
   "source": [
    "def sortedArrayToBST(nums):\n",
    "    def helper(left,right):\n",
    "        if left > right:\n",
    "            return None\n",
    "        mid = (left+right)//2\n",
    "        root = TreeNode(nums[mid])\n",
    "        root.left = helper(left,mid-1)\n",
    "        root.right = helper(mid+1,right)\n",
    "        return root\n",
    "    return helpere(0,len(nums)-1)"
   ]
  },
  {
   "cell_type": "markdown",
   "metadata": {},
   "source": [
    "### Question 96: Number of unique binary search trees\n",
    "Given an integer n, return the number of structurally unique BST's (binary search trees) which has exactly n nodes of unique values from 1 to n"
   ]
  },
  {
   "cell_type": "code",
   "execution_count": 5,
   "metadata": {},
   "outputs": [],
   "source": [
    "\"\"\"\n",
    "To compute numTrees(n):\n",
    "We need to sum up numTrees(k)*numTrees(n-k-1) for all k from 0 to n-1\n",
    "\"\"\"\n",
    "def numTrees(n):\n",
    "    # Use a vector to store the numbers\n",
    "    Num = [1]*(n+1)\n",
    "    for i in range(2,n+1):\n",
    "        # Count seperately for every number of nodes\n",
    "        total = 0\n",
    "        for j in range(1,i+1):\n",
    "            NumLeft = j-1\n",
    "            NumRight = i-j\n",
    "            total += Num[NumLeft]*Num[NumRight]\n",
    "        Num[i] = total\n",
    "    return Num[n]"
   ]
  },
  {
   "cell_type": "markdown",
   "metadata": {},
   "source": [
    "### Question 103: Binary Tree Zigzag Level Order Traversal\n",
    "Given the root of a binary tree, return the zigzag level order traversal of its nodes' values. (i.e., from left to right, then right to left for the next level and alternate between)."
   ]
  },
  {
   "cell_type": "code",
   "execution_count": 19,
   "metadata": {},
   "outputs": [],
   "source": [
    "import collections\n",
    "# Definition for a binary tree node.\n",
    "# class TreeNode:\n",
    "#     def __init__(self, val=0, left=None, right=None):\n",
    "#         self.val = val\n",
    "#         self.left = left\n",
    "#         self.right = right\n",
    "class Solution:\n",
    "    def zigzagLevelOrder(root):\n",
    "        q = collections.deque()\n",
    "        q.append(root)\n",
    "        i = 0\n",
    "        ans = []\n",
    "        while q:\n",
    "            # Create a new array denoting the specific level\n",
    "            level = []\n",
    "            # If level number % 2 == 0: popleft\n",
    "            if i % 2 == 0:\n",
    "                for j in range(len(q)):\n",
    "                    val = q.popleft()\n",
    "                    if val:\n",
    "                        level.append(val.val)\n",
    "                        q.append(val.left)\n",
    "                        q.append(val.right)\n",
    "                i += 1\n",
    "            else:\n",
    "                for j in range(len(q)):\n",
    "                    val = q.pop()\n",
    "                    if val:\n",
    "                        level.append(val.val)\n",
    "                        q.appendleft(val.right)\n",
    "                        q.appendleft(val.left)\n",
    "                i += 1\n",
    "            if level:\n",
    "                ans.append(level)\n",
    "        return ans"
   ]
  },
  {
   "cell_type": "markdown",
   "metadata": {},
   "source": [
    "### Question 101: Symmetric Tree\n",
    "Given the root of a binary tree, check whether it is a mirror of itself (i.e., symmetric around its center)."
   ]
  },
  {
   "cell_type": "code",
   "execution_count": null,
   "metadata": {},
   "outputs": [],
   "source": [
    "def isMirror(Node1,Node2):\n",
    "    if not Node1 and not Node2:\n",
    "        return True\n",
    "    if not Node1 or not Node2:\n",
    "        return False\n",
    "    bool1 = Node1.val == Node2.val\n",
    "    bool2 = isMirror(Node1.left,Node2.right)\n",
    "    bool3 = isMirror(Node1.right,Node2.left)\n",
    "    return bool1 and bool2 and bool3\n",
    "\n",
    "def isSymmetric(root) -> bool:\n",
    "    if not root.left and not root.right:\n",
    "        return True\n",
    "    if not root.left or not root.right:\n",
    "        return False\n",
    "    return isMirror(root.left,root.right)"
   ]
  },
  {
   "cell_type": "markdown",
   "metadata": {},
   "source": [
    "### Question 117: Populating Next Right Pointers in Each Node II\n",
    "The tree isn't necessarily balanced complete"
   ]
  },
  {
   "cell_type": "code",
   "execution_count": null,
   "metadata": {},
   "outputs": [],
   "source": [
    "def connect(root):\n",
    "    q = collections.deque()\n",
    "    if not root:\n",
    "        return None\n",
    "    q.append(root)\n",
    "    while q:\n",
    "        if len(q) == 1:\n",
    "            q[0].next = None\n",
    "        else: \n",
    "            for i in range(len(q)-1):\n",
    "                q[i].next = q[i+1]\n",
    "            q[-1].next = None\n",
    "        for i in range(len(q)):\n",
    "            node = q.popleft()\n",
    "            if node.left and node.right:\n",
    "                q.append(node.left)\n",
    "                q.append(node.right)\n",
    "            elif node.left:\n",
    "                q.append(node.left)\n",
    "            elif node.right:\n",
    "                q.append(node.right)\n",
    "    return root"
   ]
  },
  {
   "cell_type": "markdown",
   "metadata": {},
   "source": [
    "### Question 235: Lowest Common Ancestor"
   ]
  },
  {
   "cell_type": "code",
   "execution_count": null,
   "metadata": {},
   "outputs": [],
   "source": [
    "def lowestCommonAncestor(root, p, q):\n",
    "    curr = root\n",
    "    while curr:\n",
    "        if p.val > curr.val and q.val > curr.val:\n",
    "            curr = curr.right\n",
    "        elif p.val < curr.val and q.val < curr.val:\n",
    "            curr = curr.left\n",
    "        else:\n",
    "            return curr"
   ]
  },
  {
   "cell_type": "markdown",
   "metadata": {},
   "source": [
    "### Question 1028: Recover a Tree From Preorder Traversal\n",
    "We run a preorder depth-first search (DFS) on the root of a binary tree.\n",
    "\n",
    "At each node in this traversal, we output D dashes (where D is the depth of this node), then we output the value of this node.  If the depth of a node is D, the depth of its immediate child is D + 1.  The depth of the root node is 0.\n",
    "\n",
    "If a node has only one child, that child is guaranteed to be the left child.\n",
    "\n",
    "Given the output traversal of this traversal, recover the tree and return its root."
   ]
  },
  {
   "cell_type": "code",
   "execution_count": 101,
   "metadata": {},
   "outputs": [],
   "source": [
    "class TreeNode:\n",
    "    def __init__(self, val=0, left=None, right=None):\n",
    "        self.val = val\n",
    "        self.left = left\n",
    "        self.right = right\n",
    "        \n",
    "def bstFromPreorder(traversal):\n",
    "    L = len(traversal)\n",
    "    stack = []\n",
    "    i = 0\n",
    "    while i < L:\n",
    "        level = 0\n",
    "        while traversal[i] == \"-\":\n",
    "            i += 1\n",
    "            level += 1\n",
    "        start = i\n",
    "        while i < L and traversal[i].isdigit():\n",
    "            i += 1\n",
    "        num = int(traversal[start:i])\n",
    "        temp_node = TreeNode(num)\n",
    "        if len(stack) == 0:\n",
    "            stack.append(temp_node)\n",
    "            continue\n",
    "\n",
    "        while len(stack) > level:\n",
    "            stack.pop()\n",
    "            \n",
    "        if stack[-1].left:\n",
    "            stack[-1].right = temp_node\n",
    "        else:\n",
    "            stack[-1].left = temp_node\n",
    "            \n",
    "        # Push the node onto the stack\n",
    "        stack.append(temp_node)\n",
    "    \n",
    "    while len(stack) > 1:\n",
    "        stack.pop()\n",
    "\n",
    "    return stack[0]"
   ]
  },
  {
   "cell_type": "markdown",
   "metadata": {},
   "source": [
    "### Question 124: Binary Tree Maximum Path Sum\n",
    "A path in a binary tree is a sequence of nodes where each pair of adjacent nodes in the sequence has an edge connecting them. A node can only appear in the sequence at most once. Note that the path does not need to pass through the root.\n",
    "\n",
    "The path sum of a path is the sum of the node's values in the path.\n",
    "\n",
    "Given the root of a binary tree, return the maximum path sum of any non-empty path."
   ]
  },
  {
   "cell_type": "code",
   "execution_count": null,
   "metadata": {},
   "outputs": [],
   "source": [
    "def maxPathSum(root):\n",
    "    res = [root.val]\n",
    "    # The max from a node without splitting\n",
    "    def dfs(root):\n",
    "        if not root:\n",
    "            return 0\n",
    "        leftMax = max(0,dfs(root.left))\n",
    "        rightMax = max(0,dfs(root.right))\n",
    "        res[0] = max(res[0],root.val+leftMax+rightMax)\n",
    "        return root.val+max(leftMax+rightMax)\n",
    "    dfs(root)\n",
    "    return res[0]"
   ]
  },
  {
   "cell_type": "markdown",
   "metadata": {},
   "source": [
    "### Question 968: Binary Tree Cameras\n",
    "You are given the root of a binary tree. We install cameras on the tree nodes where each camera at a node can monitor its parent, itself, and its immediate children.\n",
    "\n",
    "Return the minimum number of cameras needed to monitor all nodes of the tree."
   ]
  },
  {
   "cell_type": "code",
   "execution_count": null,
   "metadata": {},
   "outputs": [],
   "source": [
    "def minCameraCover(root):\n",
    "    self.res = 0\n",
    "    def dfs(root):\n",
    "        if not root:\n",
    "            return 2\n",
    "        left,right = dfs(root.left),dfs(root.right)\n",
    "        if left == 0 or right == 0:\n",
    "            self.res += 1\n",
    "            return 1\n",
    "        return 2 if left == 1 or right == 1 else 0\n",
    "    return (dfs(root) == 0) + self.res"
   ]
  }
 ],
 "metadata": {
  "kernelspec": {
   "display_name": "Python 3",
   "language": "python",
   "name": "python3"
  },
  "language_info": {
   "codemirror_mode": {
    "name": "ipython",
    "version": 3
   },
   "file_extension": ".py",
   "mimetype": "text/x-python",
   "name": "python",
   "nbconvert_exporter": "python",
   "pygments_lexer": "ipython3",
   "version": "3.8.5"
  }
 },
 "nbformat": 4,
 "nbformat_minor": 4
}
