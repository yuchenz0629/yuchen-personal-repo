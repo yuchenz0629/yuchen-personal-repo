{
 "cells": [
  {
   "cell_type": "markdown",
   "metadata": {},
   "source": [
    "# Linked Lists"
   ]
  },
  {
   "cell_type": "markdown",
   "metadata": {},
   "source": [
    "### Question 24: Swap Nodes in Pairs\n",
    "Given a linked list, swap every two adjacent nodes and return its head. You must solve the problem without modifying the values in the list's nodes (i.e., only nodes themselves may be changed.)"
   ]
  },
  {
   "cell_type": "code",
   "execution_count": null,
   "metadata": {},
   "outputs": [],
   "source": [
    "\"\"\"\n",
    "First we want to reverse the current and previous node\n",
    "After the swap, have the first point to the third\n",
    "Then have the dummy point to the second node\n",
    "Pay attention to the order. We update prev.next after we swap cur and second.\n",
    "Finally, update cur and prev\n",
    "\"\"\"\n",
    "def swapPairs(head):\n",
    "    dummy = ListNode(0,head)\n",
    "    prev, cur = dummy, head\n",
    "    # Proceed this when there still is a next value\n",
    "    while cur and cur.next:\n",
    "        # Save the next two nodes as new variables for convenience\n",
    "        second = cur.next.next\n",
    "        first = cur.next\n",
    "        # Update the pointers\n",
    "        first.next = cur\n",
    "        cur.next = second\n",
    "        prev.next = first\n",
    "        # Update prev and cur: we set prev = cur because we already changed the order\n",
    "        prev = cur\n",
    "        cur = second\n",
    "    return dummy.next"
   ]
  },
  {
   "cell_type": "markdown",
   "metadata": {},
   "source": [
    "### Question 25: Reverse Nodes in k-Group\n",
    "Given the head of a linked list, reverse the nodes of the list k at a time, and return the modified list.\n",
    "\n",
    "k is a positive integer and is less than or equal to the length of the linked list. If the number of nodes is not a multiple of k then left-out nodes, in the end, should remain as it is.\n",
    "\n",
    "You may not alter the values in the list's nodes, only nodes themselves may be changed."
   ]
  },
  {
   "cell_type": "code",
   "execution_count": null,
   "metadata": {},
   "outputs": [],
   "source": [
    "\"\"\"\n",
    "General Idea:\n",
    "Reverse the nodes in each pair\n",
    "Change the next pointer for the first one to i+k\n",
    "\"\"\"\n",
    "def getnode(curr,k):\n",
    "        while curr and k>0:\n",
    "            curr = curr.next\n",
    "            k-=1\n",
    "        return curr\n",
    "def reverseKGroup(head,k):\n",
    "    dummy = ListNode(0,head)\n",
    "    # Need a pointer right before the first reversed group\n",
    "    groupPrev = dummy\n",
    "    while True:\n",
    "        kth = getnode(groupPrev,k)\n",
    "        if not kth:\n",
    "            break\n",
    "        # Store the group right after the kth index\n",
    "        groupNext = kth.next\n",
    "        # Reverse group. Initially kth.next==None\n",
    "        prev,curr = kth.next,groupPrev.next\n",
    "        # When it is not the last group\n",
    "        while curr!= groupNext:\n",
    "            temp = curr.next\n",
    "            curr.next = prev\n",
    "            prev = curr\n",
    "            curr = temp\n",
    "        temp = groupPrev.next\n",
    "        groupPrev.next = kth\n",
    "        groupPrev = temp\n",
    "    # Use a helper function to get the kth value from the current node\n",
    "    return dummy.next"
   ]
  },
  {
   "cell_type": "markdown",
   "metadata": {},
   "source": [
    "### Question 61: Rotate List\n",
    "Given the head of a linked list, rotate the list to the right by k places."
   ]
  },
  {
   "cell_type": "code",
   "execution_count": 3,
   "metadata": {},
   "outputs": [],
   "source": [
    "class ListNode:\n",
    "    def __init__(self, val=0, Next=None):\n",
    "        self.val = val\n",
    "        self.next = Next\n",
    "            \n",
    "class Solution:\n",
    "    def rotateRight(self, head, k):\n",
    "        dummy = ListNode(0,head)\n",
    "        curr = dummy.next\n",
    "        # Get the length\n",
    "        L = 1\n",
    "        while curr and curr.next:\n",
    "            L += 1\n",
    "            curr = curr.next\n",
    "        \n",
    "        if L == 0:\n",
    "            return None\n",
    "        elif k%L == 0:\n",
    "            return dummy.next\n",
    "        else:\n",
    "            index = L - k%L\n",
    "\n",
    "            i = 0\n",
    "            dummy = ListNode(0,head)\n",
    "            curr = dummy.next\n",
    "            temp = ListNode()\n",
    "            if L == 2:\n",
    "                # curr.next = None\n",
    "                temp = curr.next\n",
    "                curr.next = None\n",
    "            else: \n",
    "                while i < index:\n",
    "                    if i+1 == index:\n",
    "                        temp = curr.next\n",
    "                        curr.next = None\n",
    "                    else:\n",
    "                        curr = curr.next\n",
    "                    i+=1\n",
    "                         \n",
    "            dummy = ListNode(0,temp)\n",
    "            Next = dummy.next\n",
    "            while Next:\n",
    "                if Next.next:\n",
    "                    \n",
    "                    Next = Next.next\n",
    "                elif not Next.next:\n",
    "                    Next.next = head\n",
    "                    break\n",
    "\n",
    "            return dummy.next"
   ]
  },
  {
   "cell_type": "code",
   "execution_count": null,
   "metadata": {},
   "outputs": [],
   "source": [
    "class Solution:\n",
    "    def rotateRight(self, head: Optional[ListNode], k: int) -> Optional[ListNode]:\n",
    "        if head is None:\n",
    "            return None\n",
    "        n = 0\n",
    "        node = head\n",
    "        while node:\n",
    "            n += 1\n",
    "            node = node.next   \n",
    "        left = n - k % n\n",
    "        if left == n:\n",
    "            return head\n",
    "        c = 0\n",
    "        node = head\n",
    "        while node:\n",
    "            c += 1\n",
    "            if c == left:\n",
    "                new_tail = node\n",
    "                new_head = node.next\n",
    "            if c == n:\n",
    "                orig_tail = node\n",
    "            node = node.next  \n",
    "        orig_tail.next = head\n",
    "        new_tail.next = None\n",
    "        \n",
    "        return new_head"
   ]
  },
  {
   "cell_type": "markdown",
   "metadata": {},
   "source": [
    "### Question 83: Remove Duplicates from Sorted List\n",
    "Given the head of a sorted linked list, delete all duplicates such that each element appears only once. Return the linked list sorted as well."
   ]
  },
  {
   "cell_type": "code",
   "execution_count": null,
   "metadata": {},
   "outputs": [],
   "source": [
    "def deleteDuplicates(self, head: Optional[ListNode]) -> Optional[ListNode]:\n",
    "    if not head:\n",
    "        return None\n",
    "\n",
    "    dummy = ListNode(0,head)\n",
    "    prev,cur = dummy,head\n",
    "\n",
    "    while cur.next:\n",
    "        while cur.next.val == cur.val:\n",
    "            cur = cur.next\n",
    "\n",
    "            if not cur.next:\n",
    "                prev.next = cur\n",
    "                return dummy.next\n",
    "\n",
    "            if cur.next.val != cur.val:\n",
    "                break\n",
    "        temp = cur.next\n",
    "        prev.next = cur\n",
    "        prev = cur\n",
    "        cur = temp\n",
    "\n",
    "    return dummy.next"
   ]
  },
  {
   "cell_type": "markdown",
   "metadata": {},
   "source": [
    "### Question 86: Partition List\n",
    "Given the head of a linked list and a value x, partition it such that all nodes less than x come before nodes greater than or equal to x.\n",
    "\n",
    "You should preserve the original relative order of the nodes in each of the two partitions."
   ]
  },
  {
   "cell_type": "code",
   "execution_count": null,
   "metadata": {},
   "outputs": [],
   "source": [
    "def partition(head, x):\n",
    "    left = ListNode()\n",
    "    right = ListNode()\n",
    "    left_pointer, right_pointer,pointer = left,right,head\n",
    "    while head:\n",
    "        print(head.val)\n",
    "        if head.val < x:\n",
    "            left_pointer.next = ListNode(head.val,None)\n",
    "            left_pointer = left_pointer.next\n",
    "        elif head.val >= x:\n",
    "            right_pointer.next = ListNode(head.val,None)\n",
    "            right_pointer = right_pointer.next\n",
    "        head = head.next\n",
    "    if not left.next:\n",
    "        return right.next\n",
    "    if not right.next:\n",
    "        return left.next\n",
    "    dummy = ListNode(0,left.next)\n",
    "    while left and left.next:\n",
    "        left = left.next\n",
    "    left.next = right.next\n",
    "    return dummy.next"
   ]
  },
  {
   "cell_type": "markdown",
   "metadata": {},
   "source": [
    "### Question 148: Sort List\n",
    "Given the head of a linked list, return the list after sorting it in ascending order."
   ]
  },
  {
   "cell_type": "code",
   "execution_count": 2,
   "metadata": {},
   "outputs": [],
   "source": [
    "# class ListNode:\n",
    "#     def __init__(self, val=0, next=None):\n",
    "#         self.val = val\n",
    "#         self.next = next\n",
    "class Solution:\n",
    "    def sortList(self,head):\n",
    "        if not head or not head.next:\n",
    "            return head\n",
    "        right = self.findMid(head)\n",
    "        temp = right.next\n",
    "        right.next = None\n",
    "        right = temp\n",
    "        left = self.sortList(left)\n",
    "        right = self.sortList(right)\n",
    "        return self.merge(left,right)\n",
    "    def findMid(self,head):\n",
    "        fast = head.next\n",
    "        slow = head\n",
    "        while fast and fast.next:\n",
    "            slow = slow.next\n",
    "            fast = fast.next.next\n",
    "        return slow\n",
    "    def merge(self,list1,list2):\n",
    "        tail = dummy = ListNode()\n",
    "        while list1 and list2:\n",
    "            if list1.val < list2.val:\n",
    "                tail.next = list1\n",
    "                list1 = list1.next\n",
    "            else:\n",
    "                tail.next = list2\n",
    "                list2 = list2.next\n",
    "            tail = tail.next\n",
    "        if list1:\n",
    "            tail.next = list1\n",
    "        if list2:\n",
    "            tail.next = list2\n",
    "        return dummy.next"
   ]
  },
  {
   "cell_type": "markdown",
   "metadata": {},
   "source": [
    "### Question 160: Intersection of Two Linked Lists\n",
    "Given the heads of two singly linked-lists headA and headB, return the node at which the two lists intersect. If the two linked lists have no intersection at all, return null."
   ]
  },
  {
   "cell_type": "code",
   "execution_count": null,
   "metadata": {},
   "outputs": [],
   "source": [
    "def getIntersectionNode(headA,headB):\n",
    "    head1, head2 = headA, headB\n",
    "    while head1 != head2:\n",
    "        head1 = head1.next if head1 else headB\n",
    "        head2 = head2.next if head2 else headA\n",
    "    return head"
   ]
  },
  {
   "cell_type": "markdown",
   "metadata": {},
   "source": [
    "### Question 203: Remove Linked List Elements\n",
    "Given the head of a linked list and an integer val, remove all the nodes of the linked list that has Node.val == val, and return the new head."
   ]
  },
  {
   "cell_type": "code",
   "execution_count": null,
   "metadata": {},
   "outputs": [],
   "source": [
    "def removeElements(head, val):\n",
    "    dummy = ListNode(0,head)\n",
    "    pre = dummy\n",
    "    while head:\n",
    "        if head.val == val:\n",
    "            pre.next = head.next\n",
    "        else:\n",
    "            pre = pre.next\n",
    "        head = head.next\n",
    "    return dummy.next"
   ]
  },
  {
   "cell_type": "markdown",
   "metadata": {},
   "source": [
    "### Question 231: Palindrome Linked List\n",
    "Given the head of a singly linked list, return true if it is a palindrome."
   ]
  },
  {
   "cell_type": "code",
   "execution_count": null,
   "metadata": {},
   "outputs": [],
   "source": [
    "def isPalindrome(self, head: Optional[ListNode]) -> bool:\n",
    "    fast = head\n",
    "    slow = head\n",
    "    while fast and fast.next:\n",
    "        fast = fast.next.next\n",
    "        slow = slow.next\n",
    "    prev = None\n",
    "    while slow:\n",
    "        temp = slow.next\n",
    "        slow.next  = prev\n",
    "        prev = slow\n",
    "        slow = temp\n",
    "    left,right = head,prev\n",
    "    while right:\n",
    "        if left.val != right.val:\n",
    "            return False\n",
    "        left = left.next\n",
    "        right = right.next\n",
    "    return True"
   ]
  },
  {
   "cell_type": "markdown",
   "metadata": {},
   "source": [
    "### Question 237: Delete Node in a Linked List\n",
    "Write a function to delete a node in a singly-linked list. You will not be given access to the head of the list, instead you will be given access to the node to be deleted directly."
   ]
  },
  {
   "cell_type": "code",
   "execution_count": null,
   "metadata": {},
   "outputs": [],
   "source": [
    "def deleteNode(self, node):\n",
    "    prev = None\n",
    "    curr = node\n",
    "    nxt = node.next\n",
    "    while nxt:\n",
    "        temp = nxt.next\n",
    "        curr.val = nxt.val\n",
    "        prev = curr\n",
    "        curr,nxt = nxt,temp\n",
    "    prev.next = None"
   ]
  },
  {
   "cell_type": "markdown",
   "metadata": {},
   "source": [
    "### Question 1171: Remove Zero Sum Consecutive Nodes from Linked List\n",
    "Given the head of a linked list, we repeatedly delete consecutive sequences of nodes that sum to 0 until there are no such sequences.\n",
    "\n",
    "After doing so, return the head of the final linked list.  You may return any such answer."
   ]
  },
  {
   "cell_type": "code",
   "execution_count": 8,
   "metadata": {},
   "outputs": [],
   "source": [
    "def removeZeroSumSublists(head):\n",
    "    dummy = ListNode()\n",
    "    dummy.next = head\n",
    "    hashmap = {}\n",
    "    cumsum = 0\n",
    "    hashmap[cumsum] = dummy\n",
    "    while head:\n",
    "        cumsum += head.val\n",
    "        if cumsum in hashmap:\n",
    "            SUM = cumsum\n",
    "            Next = head.next\n",
    "            tobe_removed = hashmap[cumsum].next\n",
    "            # print(tobe_removed.next.val)\n",
    "            while tobe_removed != head:\n",
    "                SUM += tobe_removed.val\n",
    "                del hashmap[SUM]\n",
    "                tobe_removed = tobe_removed.next\n",
    "            # print(tobe_removed.next.val)\n",
    "            hashmap[cumsum].next = head.next\n",
    "            head = head.next\n",
    "        else:\n",
    "            hashmap[cumsum] = head\n",
    "            head = head.next\n",
    "    return dummy.next"
   ]
  },
  {
   "cell_type": "markdown",
   "metadata": {},
   "source": [
    "### Question 82: Remove Duplicates from Sorted List II\n",
    "Given the head of a sorted linked list, delete all nodes that have duplicate numbers, leaving only distinct numbers from the original list. Return the linked list sorted as well."
   ]
  },
  {
   "cell_type": "code",
   "execution_count": null,
   "metadata": {},
   "outputs": [],
   "source": [
    "def deleteDuplicates(head):\n",
    "    dummy = ListNode()\n",
    "    dummy.next = head\n",
    "    pre = dummy\n",
    "    while head and head.next:\n",
    "        if head.val == head.next.val:\n",
    "            while head and head.next and head.val == head.next.val:\n",
    "                head = head.next\n",
    "            head = head.next\n",
    "            pre.next = head\n",
    "        else:\n",
    "            pre = pre.next\n",
    "            head = head.next\n",
    "    return dummy.next"
   ]
  },
  {
   "cell_type": "markdown",
   "metadata": {},
   "source": [
    "### Question 143: Reorder List\n",
    "1-2-3-4-5-6-7 becomes 1-7-2-6-3-5-4, etc."
   ]
  },
  {
   "cell_type": "code",
   "execution_count": 2,
   "metadata": {},
   "outputs": [],
   "source": [
    "def reorderList(head):\n",
    "    slow,fast = head,head.next\n",
    "    while fast and fast.next:\n",
    "        slow = slow.next\n",
    "        fast = fast.next.next\n",
    "    second = slow.next\n",
    "    prev = slow.next = None\n",
    "    while second: \n",
    "        temp = second.next\n",
    "        second.next = prev\n",
    "        prev = second\n",
    "        secnd = temp\n",
    "    first,second = head,prev\n",
    "    while second:\n",
    "        temp1,temp2 = first.next,second.next\n",
    "        first.next = second\n",
    "        second.next = temp1\n",
    "        first,second = temp1,temp2"
   ]
  }
 ],
 "metadata": {
  "kernelspec": {
   "display_name": "Python 3",
   "language": "python",
   "name": "python3"
  },
  "language_info": {
   "codemirror_mode": {
    "name": "ipython",
    "version": 3
   },
   "file_extension": ".py",
   "mimetype": "text/x-python",
   "name": "python",
   "nbconvert_exporter": "python",
   "pygments_lexer": "ipython3",
   "version": "3.8.5"
  }
 },
 "nbformat": 4,
 "nbformat_minor": 4
}
