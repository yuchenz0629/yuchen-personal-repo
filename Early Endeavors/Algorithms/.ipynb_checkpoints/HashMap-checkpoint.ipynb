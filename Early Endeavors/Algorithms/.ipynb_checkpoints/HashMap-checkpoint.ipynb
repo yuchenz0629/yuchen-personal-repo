{
 "cells": [
  {
   "cell_type": "markdown",
   "metadata": {},
   "source": [
    "# Hash Maps"
   ]
  },
  {
   "cell_type": "markdown",
   "metadata": {},
   "source": [
    "### Question 41: Smallest Missing Positive\n",
    "Given an unsorted integer array nums, return the smallest missing positive integer.\n",
    "You must implement an algorithm that runs in O(n) time and uses constant extra space."
   ]
  },
  {
   "cell_type": "code",
   "execution_count": 113,
   "metadata": {},
   "outputs": [],
   "source": [
    "\"\"\"\n",
    "Idea: use input array as hash set\n",
    "Use [1,2,...,len(A)] to map to the 0th...(n-1)th element of input array A\n",
    "Goal: use constant time to tell if a value exist in input array?\n",
    "    -> solutiion: give an index value i = value - 1\n",
    "    -> The corresponding index value of the input array. If negative: then the value exists.\n",
    "Replace all negatives with 0\n",
    "    -> Start from the beginning: assume value = val. Go to the (abs(val)-1)th index of input array\n",
    "    -> If it is not already negative: change to negative.\n",
    "       (example: after all the negatives are changed to 0, a negative at (i-1)th pos means that i exists in input)\n",
    "If we go out of bounds: neglect.\n",
    "If already negative: do not change.\n",
    "Finally: iterate i througn 1 to len(A). If the corresponding (i-1)th term in above is not negative: then\n",
    "    this does not exist, and is the smallest missing positive.\n",
    "\"\"\"\n",
    "import numpy as np\n",
    "def firstMissingPositive(nums):\n",
    "    nums = (nums > np.zeros(len(nums))).astype(int)*nums\n",
    "    for i in range(len(nums)):\n",
    "        val = abs(nums[i])\n",
    "        if 1 <= val <= len(nums):\n",
    "            if nums[val-1] > 0:\n",
    "                nums[val-1] *= -1\n",
    "            elif nums[val-1] == 0:\n",
    "                nums[val-1] = -len(nums)-1\n",
    "        \n",
    "    for j in range(1, len(nums)+1):\n",
    "        if nums[j-1] >= 0:\n",
    "            return j\n",
    "    return len(nums)+1"
   ]
  },
  {
   "cell_type": "markdown",
   "metadata": {},
   "source": [
    "### Question 1296: Path Crossing\n",
    "Given a string path, where path[i] = 'N', 'S', 'E' or 'W', each representing moving one unit north, south, east, or west, respectively. You start at the origin (0, 0) on a 2D plane and walk on the path specified by path.\n",
    "\n",
    "Return true if the path crosses itself at any point, that is, if at any time you are on a location you have previously visited. Return false otherwise."
   ]
  },
  {
   "cell_type": "code",
   "execution_count": 15,
   "metadata": {},
   "outputs": [],
   "source": [
    "def isPathCrossing(path):\n",
    "    # Initialize the starting point\n",
    "    x = 0\n",
    "    y = 0\n",
    "    pos = set([str(x)+\",\"+str(y)])\n",
    "    for i in range(len(path)):\n",
    "        if path[i] == \"N\":\n",
    "            y += 1\n",
    "        elif path[i] == \"S\":\n",
    "            y -= 1\n",
    "        elif path[i] == \"E\":\n",
    "            x += 1\n",
    "        else:\n",
    "            x -= 1\n",
    "        position = str(x)+\",\"+str(y)\n",
    "        if position in pos:\n",
    "            return True\n",
    "        pos.add(position)\n",
    "    return False"
   ]
  },
  {
   "cell_type": "markdown",
   "metadata": {},
   "source": [
    "### Question 30: Substring with Concatenation of All Words\n",
    "You are given a string s and an array of strings words of the same length. Return all starting indices of substring(s) in s that is a concatenation of each word in words exactly once, in any order, and without any intervening characters."
   ]
  },
  {
   "cell_type": "code",
   "execution_count": 103,
   "metadata": {},
   "outputs": [],
   "source": [
    "\"\"\"\n",
    "We use a hash map to keep track of the occurrence of the words\n",
    "Two pointers: \n",
    "i denote the start of the string from which we observe\n",
    "j denote the start of unit we try to see if it matches the words\n",
    "\"\"\"\n",
    "def findSubstring(s, words):\n",
    "    ans = []\n",
    "    if len(words)*len(words[0])>len(s):\n",
    "        return ans\n",
    "    Dict = dict()\n",
    "    for i in words:\n",
    "        if i not in Dict:\n",
    "            Dict[i] = 1\n",
    "        else:\n",
    "            Dict[i] += 1\n",
    "    D = Dict.copy()\n",
    "    i,j = 0,0\n",
    "    L = len(words[0])\n",
    "    while i <= len(s)-len(words)*L+1:\n",
    "        d = D.copy()\n",
    "        # If the first three not in the dictionary: proceed\n",
    "        if s[i:i+L] not in Dict:\n",
    "            i+=1\n",
    "            j+=1\n",
    "        else:\n",
    "            while s[j:j+L] in Dict and Dict[s[j:j+L]] == 1:\n",
    "                Dict[s[j:j+L]] -= 1\n",
    "                if sum(Dict.values()) == 0:\n",
    "                    ans.append(i)\n",
    "                    break\n",
    "                j += L\n",
    "                if s[j:j+L] not in Dict or Dict[s[j:j+L]] == -1:\n",
    "                    break\n",
    "                if j+L > len(s)+1:\n",
    "                    break\n",
    "            Dict = d\n",
    "            i+=1\n",
    "            j=i\n",
    "    return ans"
   ]
  },
  {
   "cell_type": "markdown",
   "metadata": {},
   "source": [
    "### Question 128. Longest Consecutive Sequence\n",
    "Given an unsorted array of integers nums, return the length of the longest consecutive elements sequence."
   ]
  },
  {
   "cell_type": "code",
   "execution_count": null,
   "metadata": {},
   "outputs": [],
   "source": [
    "def longestConsecutive(nums):\n",
    "    hashSet = set(nums)\n",
    "    l = 0\n",
    "    for num in nums:\n",
    "        if (num-1) not in hashSet:\n",
    "            length = 0\n",
    "            while num+length in hashSet:\n",
    "                length += 1\n",
    "            l = max(l,length)\n",
    "    return l"
   ]
  },
  {
   "cell_type": "markdown",
   "metadata": {},
   "source": [
    "### Question 149: Max Points on a Line\n",
    "Given an array of points where points[i] = [xi, yi] represents a point on the X-Y plane, return the maximum number of points that lie on the same straight line."
   ]
  },
  {
   "cell_type": "code",
   "execution_count": 60,
   "metadata": {},
   "outputs": [],
   "source": [
    "import numpy as np\n",
    "from fractions import Fraction\n",
    "def maxPoints(points):\n",
    "    Dict = {}\n",
    "    L = len(points)\n",
    "    # Consider the base cases\n",
    "    if L == 0:\n",
    "        return 0\n",
    "    if L == 1:\n",
    "        return 1\n",
    "    for i in range(L-1):\n",
    "        for j in range(i+1,L):\n",
    "            if points[j][0] == points[i][0]:\n",
    "                slope_temp = np.inf\n",
    "                intercept_temp = points[j][0]\n",
    "            else:\n",
    "                slope_temp = Fraction(points[j][1]-points[i][1],(points[j][0]-points[i][0]))\n",
    "                intercept_temp = points[j][1] - points[j][0]*slope_temp\n",
    "            if (slope_temp,intercept_temp) not in Dict:\n",
    "                Dict[slope_temp,intercept_temp] = 1\n",
    "            else:\n",
    "                Dict[slope_temp,intercept_temp] += 1\n",
    "    M = max(Dict.values())\n",
    "    return int(((8*M+1)**0.5+1)/2)"
   ]
  },
  {
   "cell_type": "code",
   "execution_count": null,
   "metadata": {},
   "outputs": [],
   "source": [
    "def maxPoints(self, points: List[List[int]]) -> int:\n",
    "    def helper(curr_points, points):\n",
    "        slopes_map = collections.defaultdict(int)\n",
    "        duplicates = 0\n",
    "        max_points = 0\n",
    "        (x1, y1) = curr_points\n",
    "\n",
    "        for (x2, y2) in points:\n",
    "            # Edge case: Duplicates\n",
    "            if x1 == x2 and y1 == y2:\n",
    "                # If the points are same inc duplicate counter\n",
    "                duplicates += 1\n",
    "                continue\n",
    "            # Calculate slope and add to dictionary\n",
    "            # else find the slop and add in dic\n",
    "            slope = (x2 - x1) / (y2 - y1) if y2 != y1 else 'inf'\n",
    "            slopes_map[slope]+= 1\n",
    "            max_points = max(max_points, slopes_map[slope])\n",
    "\n",
    "        return max_points + 1 + duplicates # plus one to include starting point\n",
    "\n",
    "    result = 0 # Max points.\n",
    "\n",
    "    while points:\n",
    "        curr_points = points.pop()\n",
    "        curr_max = helper(curr_points, points)\n",
    "        result = max(result, curr_max)\n",
    "\n",
    "    return result"
   ]
  },
  {
   "cell_type": "markdown",
   "metadata": {},
   "source": [
    "### Question 202: Happy Number\n",
    "Starting with any positive integer, replace the number by the sum of the squares of its digits.\n",
    "\n",
    "Repeat the process until the number equals 1 (where it will stay), or it loops endlessly in a cycle which does not include 1.\n",
    "\n",
    "Those numbers for which this process ends in 1 are happy."
   ]
  },
  {
   "cell_type": "code",
   "execution_count": 1,
   "metadata": {},
   "outputs": [],
   "source": [
    "def isHappy(n: int) -> bool:\n",
    "    visited = set()\n",
    "    while n not in visited:\n",
    "        visited.add(n)\n",
    "        n = sumOfSq(n)\n",
    "        if n == 1:\n",
    "            return True\n",
    "    return False\n",
    "\n",
    "def sumOfSq(n):\n",
    "    n = str(n)\n",
    "    return sum([int(n[i])**2 for i in range(len(n))])"
   ]
  },
  {
   "cell_type": "markdown",
   "metadata": {},
   "source": [
    "### Question 205: Isomorphic Strings"
   ]
  },
  {
   "cell_type": "code",
   "execution_count": null,
   "metadata": {},
   "outputs": [],
   "source": [
    "def isIsomorphic(s: str, t: str):\n",
    "    Hash = {}\n",
    "    for i in range(len(s)):\n",
    "        if s[i] not in Hash:\n",
    "            if t[i] not in Hash.values():\n",
    "                Hash[s[i]] = t[i]\n",
    "            else:\n",
    "                return False\n",
    "            continue\n",
    "        else:\n",
    "            if t[i] == Hash[s[i]]:\n",
    "                continue\n",
    "            else:\n",
    "                return False\n",
    "    return True"
   ]
  },
  {
   "cell_type": "markdown",
   "metadata": {},
   "source": [
    "### Question 387: First Unique Character in a String"
   ]
  },
  {
   "cell_type": "code",
   "execution_count": null,
   "metadata": {},
   "outputs": [],
   "source": [
    "def firstUniqChar(s):\n",
    "    D = collections.defaultdict()\n",
    "    visited = set()\n",
    "    for i in range(len(s)):\n",
    "        if s[i] in visited:\n",
    "            continue\n",
    "        if s[i] in D:\n",
    "            del D[s[i]]\n",
    "            visited.add(s[i])\n",
    "        else:\n",
    "            D[s[i]] = i\n",
    "    return D[min(D, key=D.get)] if D else -1"
   ]
  },
  {
   "cell_type": "markdown",
   "metadata": {},
   "source": [
    "### Question 506: Relative Ranks"
   ]
  },
  {
   "cell_type": "code",
   "execution_count": null,
   "metadata": {},
   "outputs": [],
   "source": [
    "def findRelativeRanks(score):\n",
    "    M = max(score)\n",
    "    score_dupe = [M-score[i] for i in range(len(score))]\n",
    "    heapq.heapify(score_dupe)\n",
    "    i = 1\n",
    "    Dict = {}\n",
    "    while score_dupe:\n",
    "        score_temp = heapq.heappop(score_dupe)\n",
    "        Dict[M-score_temp] = i\n",
    "        i += 1\n",
    "    ans = []\n",
    "    for i in score:\n",
    "        if Dict[i] == 1:\n",
    "            ans.append(\"Gold Medal\")\n",
    "        elif Dict[i] == 2:\n",
    "            ans.append(\"Silver Medal\")\n",
    "        elif Dict[i] == 3:\n",
    "            ans.append(\"Bronze Medal\")\n",
    "        else:\n",
    "            ans.append(str(Dict[i]))\n",
    "    return ans"
   ]
  },
  {
   "cell_type": "markdown",
   "metadata": {},
   "source": [
    "### Question 2306: Naming a Company\n",
    "You are given an array of strings ideas that represents a list of names to be used in the process of naming a company. The process of naming a company is as follows:\n",
    "\n",
    "Choose 2 distinct names from ideas, call them ideaA and ideaB.\n",
    "Swap the first letters of ideaA and ideaB with each other.\n",
    "If both of the new names are not found in the original ideas, then the name ideaA ideaB (the concatenation of ideaA and ideaB, separated by a space) is a valid company name.\n",
    "Otherwise, it is not a valid name.\n",
    "Return the number of distinct valid names for the company."
   ]
  },
  {
   "cell_type": "code",
   "execution_count": 8,
   "metadata": {},
   "outputs": [],
   "source": [
    "\"\"\"\n",
    "Idea: first put them in hash maps according to their initials\n",
    "If ideas from different sets have different suffices: valid\n",
    "\"\"\"\n",
    "def distinctNames(ideas):\n",
    "    # group by their initials\n",
    "    Map = [set() for _ in range(26)]\n",
    "    for word in ideas:\n",
    "        Map[ord(word[0])-ord(\"a\")].add(word[1:])\n",
    "    ans = 0\n",
    "    for i in range(25):\n",
    "        for j in range(i+1,26):\n",
    "            dupe = len(Map[i] & Map[j])\n",
    "            ans += 2*(len(Map[i])-dupe)*(len(Map[j])-dupe)\n",
    "    return ans"
   ]
  },
  {
   "cell_type": "markdown",
   "metadata": {},
   "source": [
    "### Question 2025: Max Ways to Partition an Array\n",
    "You are given a 0-indexed integer array nums of length n. You are also given an integer k. You can choose to change the value of one element of nums to k, or to leave the array unchanged.\n",
    "\n",
    "Return the maximum possible number of ways to partition nums to satisfy both conditions after changing at most one element."
   ]
  },
  {
   "cell_type": "code",
   "execution_count": 11,
   "metadata": {},
   "outputs": [],
   "source": [
    "def waysToPartition(nums,k):\n",
    "    presum = list(itertools.accumulate(nums))\n",
    "    # Create a dictionary that stores the differences for each split\n",
    "    left = collections.Counter()\n",
    "    right = collections.Counter()\n",
    "    n = len(nums)\n",
    "    for i in range(1,n):\n",
    "        diff = presum[i-1]-(presum[-1]-presum[i-1])\n",
    "        right[diff] += 1\n",
    "    # If we don't change any number\n",
    "    ans = right[0]\n",
    "    \n",
    "    # Now try to change each number to k\n",
    "    for i in range(n):\n",
    "        diff = k-nums[i]\n",
    "        # Search for diff in the left side or -diff on the right side\n",
    "        # So that difference = 0 after the change\n",
    "        ans = max(ans,left[diff]+right[-diff])\n",
    "        origDiff = presum[i]-(presum[-1]-presum[i])\n",
    "        left[origDiff] += 1\n",
    "        right[origDiff] -= 1\n",
    "    return ans"
   ]
  },
  {
   "cell_type": "markdown",
   "metadata": {},
   "source": [
    "### Question 1036: Escape a Large Maze\n",
    "Each move, we can walk one square north, east, south, or west if the square is not in the array of blocked squares. We are also not allowed to walk outside of the grid.\n",
    "\n",
    "Return true if and only if it is possible to reach the target square from the source square through a sequence of valid moves."
   ]
  },
  {
   "cell_type": "code",
   "execution_count": 9,
   "metadata": {},
   "outputs": [],
   "source": [
    "dirs = [[0,1],[0,-1],[1,0],[-1,0]]\n",
    "class Solution:\n",
    "    def isEscapePossible(self, blocked, source, target) -> bool:\n",
    "        block = set()\n",
    "        for point in blocked:\n",
    "            block.add(str(point[0])+\"->\"+str(point[1]))\n",
    "        \n",
    "        return self.dfs(source,target,source,blocked,set()) and self.dfs(target,source,target,blocked,set())\n",
    "    \n",
    "    def dfs(self,source,target,curr,blocked,visited):\n",
    "        if curr == target:\n",
    "            return True\n",
    "        # If distance > 200: guaranteed to be successful\n",
    "        if abs(source[0]-curr[0])+abs(source[1]-curr[1])>200:\n",
    "            return True\n",
    "        visited.add(str(curr[0])+\"->\"+str(curr[1]))\n",
    "        for dx,dy in dirs:\n",
    "            x,y = curr[0]+dx,curr[1]+dy\n",
    "            new_pos = [x,y]\n",
    "            new_post_str = str(x)+\"->\"+str(y)\n",
    "            if (0<=x<10**6 and 0<=y<10**6 and new_post_str not in visited \n",
    "                and new_pos not in blocked):\n",
    "                if self.dfs(source,target,new_pos,blocked,visited):\n",
    "                    return True\n",
    "        return False"
   ]
  },
  {
   "cell_type": "markdown",
   "metadata": {},
   "source": [
    "### Question 454: 4Sum II\n",
    "Given four integer arrays nums1, nums2, nums3, and nums4 all of length n, return the number of tuples (i, j, k, l) such that:\n",
    "\n",
    "0 <= i, j, k, l < n\n",
    "nums1[i] + nums2[j] + nums3[k] + nums4[l] == 0"
   ]
  },
  {
   "cell_type": "code",
   "execution_count": 11,
   "metadata": {},
   "outputs": [],
   "source": [
    "def fourSumCount(nums1, nums2, nums3, nums4):\n",
    "    len1,len2,len3,len4 = len(nums1),len(nums2),len(nums3),len(nums4)\n",
    "    hashTable = {}\n",
    "    for i in range(len1):\n",
    "        for j in range(len2):\n",
    "            if (nums1[i]+nums2[j]) not in hashTable:\n",
    "                hashTable[nums1[i]+nums2[j]] = 1\n",
    "            else:\n",
    "                hashTable[nums1[i]+nums2[j]] += 1\n",
    "    ans = 0\n",
    "    for i in range(len3):\n",
    "        for j in range(len4):\n",
    "            if -1*(nums3[i] + nums4[j]) in hashTable:\n",
    "                ans += hashTable[-1*(nums3[i] + nums4[j])]\n",
    "    return ans"
   ]
  },
  {
   "cell_type": "markdown",
   "metadata": {},
   "source": [
    "### Question 336: Palindrome Pairs\n",
    "Given a list of unique words, return all the pairs of the distinct indices (i, j) in the given list, so that the concatenation of the two words words[i] + words[j] is a palindrome."
   ]
  },
  {
   "cell_type": "code",
   "execution_count": 20,
   "metadata": {},
   "outputs": [],
   "source": [
    "def palindromePairs(words):\n",
    "    def isPalindrome(word):\n",
    "        return word == word[::-1]\n",
    "    words = {word: i for i, word in enumerate(words)}\n",
    "    valid_pals = []\n",
    "    for word, k in words.items():\n",
    "        n = len(word)\n",
    "        for j in range(n+1):\n",
    "            prefix = word[:j]\n",
    "            suffix = word[j:]\n",
    "            # If prefix is palindrome: if exists reverse of suffix\n",
    "            # Then append it in front of the palindrome prefix\n",
    "            if isPalindrome(prefix):\n",
    "                suffix_rev = suffix[::-1]\n",
    "                if suffix_rev != word and suffix_rev in words:\n",
    "                    valid_pals.append([words[suffix_rev], k])\n",
    "            if j != n and isPalindrome(suffix):\n",
    "                prefix_rev = prefix[::-1]\n",
    "                if prefix_rev != word and prefix_rev in words:\n",
    "                    valid_pals.append([k, words[prefix_rev]])\n",
    "    return valid_pals"
   ]
  }
 ],
 "metadata": {
  "kernelspec": {
   "display_name": "Python 3",
   "language": "python",
   "name": "python3"
  },
  "language_info": {
   "codemirror_mode": {
    "name": "ipython",
    "version": 3
   },
   "file_extension": ".py",
   "mimetype": "text/x-python",
   "name": "python",
   "nbconvert_exporter": "python",
   "pygments_lexer": "ipython3",
   "version": "3.8.5"
  }
 },
 "nbformat": 4,
 "nbformat_minor": 4
}
