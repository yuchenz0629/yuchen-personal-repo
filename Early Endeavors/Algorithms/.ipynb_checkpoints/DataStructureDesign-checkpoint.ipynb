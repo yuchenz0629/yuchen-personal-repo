{
 "cells": [
  {
   "cell_type": "markdown",
   "metadata": {},
   "source": [
    "# Designing Data Structures"
   ]
  },
  {
   "cell_type": "markdown",
   "metadata": {},
   "source": [
    "### Question 146: LRU Cache\n",
    "LRUCache(int capacity) Initialize the LRU cache with positive size capacity.\n",
    "int get(int key) Return the value of the key if the key exists, otherwise return -1.\n",
    "void put(int key, int value) Update the value of the key if the key exists. Otherwise, add the key-value pair to the cache. If the number of keys exceeds the capacity from this operation, evict the least recently used key."
   ]
  },
  {
   "cell_type": "code",
   "execution_count": 1,
   "metadata": {},
   "outputs": [],
   "source": [
    "class LRUCache:\n",
    "    def __init__(self, capacity: int):\n",
    "        self.numOfOperation = 0\n",
    "        self.numOfPut = 0\n",
    "        self.recencyList = dict()\n",
    "        self.Dict = dict()\n",
    "        self.maxSize = capacity\n",
    "        self.currSize = 0\n",
    "    def get(self, key: int) -> int:\n",
    "        if key in self.Dict:\n",
    "            self.numOfOperation += 1\n",
    "            self.recencyList[key] = self.numOfOperation\n",
    "            return self.Dict[key]\n",
    "        else:\n",
    "            return -1\n",
    "\n",
    "    def put(self, key: int, value: int) -> None:\n",
    "        self.numOfOperation += 1\n",
    "        if key in self.Dict:\n",
    "            self.Dict[key] = value\n",
    "            self.recencyList[key] = self.numOfOperation\n",
    "        else:\n",
    "            if self.currSize < self.maxSize:\n",
    "                self.numOfPut += 1\n",
    "                self.Dict[key] = value\n",
    "                self.currSize += 1\n",
    "                self.recencyList[key] = self.numOfOperation\n",
    "            else:\n",
    "                del self.Dict[min(self.Dict, key=self.recencyList.get)]\n",
    "                self.Dict[key] = value\n",
    "                self.recencyList[key] = self.numOfOperation"
   ]
  },
  {
   "cell_type": "markdown",
   "metadata": {},
   "source": [
    "### Question 225: Implement stacks using queues"
   ]
  },
  {
   "cell_type": "code",
   "execution_count": null,
   "metadata": {},
   "outputs": [],
   "source": [
    "class MyStack:\n",
    "\n",
    "    def __init__(self):\n",
    "        self.queue = deque()\n",
    "\n",
    "    def push(self, x: int) -> None:\n",
    "        self.queue.append(x)\n",
    "\n",
    "    def pop(self) -> int:\n",
    "        for i in range(len(self.queue)-1):\n",
    "            self.push(self.queue.popleft())\n",
    "        return self.queue.popleft()\n",
    "\n",
    "    def top(self) -> int:\n",
    "        return self.queue[-1]\n",
    "\n",
    "    def empty(self) -> bool:\n",
    "        return len(self.queue) == 0"
   ]
  },
  {
   "cell_type": "markdown",
   "metadata": {},
   "source": [
    "### Leetcode 2241: Designing an ATM Machine\n",
    "There is an ATM machine that stores banknotes of 5 denominations: 20, 50, 100, 200, and 500 dollars. Initially the ATM is empty. The user can use the machine to deposit or withdraw any amount of money.\n",
    "\n",
    "When withdrawing, the machine prioritizes using banknotes of larger values.\n",
    "\n",
    "ATM() Initializes the ATM object.\n",
    "\n",
    "void deposit(int[] banknotesCount) Deposits new banknotes in the order $20, $50, $100, $200, and $500.\n",
    "\n",
    "int[] withdraw(int amount) Returns an array of length 5 of the number of banknotes that will be handed to the user in the order $20, $50, $100, $200, and $500, and update the number of banknotes in the ATM after withdrawing. Returns [-1] if it is not possible (do not withdraw any banknotes in this case)."
   ]
  },
  {
   "cell_type": "code",
   "execution_count": 77,
   "metadata": {},
   "outputs": [],
   "source": [
    "class ATM:\n",
    "\n",
    "    def __init__(self):\n",
    "        self.bank = {20:0,50:0,100:0,200:0,500:0}\n",
    "        self.banknotes = [20,50,100,200,500]\n",
    "\n",
    "    def deposit(self, banknotesCount: List[int]) -> None:\n",
    "        for i in range(5):\n",
    "            self.bank[self.banknotes[i]]+=banknotesCount[i]\n",
    "\n",
    "    def withdraw(self, amount: int) -> List[int]:\n",
    "        res = []\n",
    "        for i in list(reversed(self.banknotes)):\n",
    "            amount_prime = int(max(amount-i*self.bank[i],amount%i))\n",
    "            if amount-i*self.bank[i] >= amount%i:\n",
    "                res.append(int(self.bank[i]))\n",
    "                self.bank[i] = 0\n",
    "                amount = amount_prime\n",
    "            else:\n",
    "                res.append(int((amount - amount%i)/i))\n",
    "                self.bank[i] -= int((amount - amount%i)/i)\n",
    "                amount = amount_prime\n",
    "        if amount == 0:\n",
    "            return list(reversed(res))\n",
    "        else:\n",
    "            for i in range(5):\n",
    "                self.bank[self.banknotes[i]]+=list(reversed(res))[i]\n",
    "            return [-1]"
   ]
  },
  {
   "cell_type": "markdown",
   "metadata": {},
   "source": [
    "### Question 295: Find Median from Data Stream\n",
    "Implement the MedianFinder class:\n",
    "\n",
    "MedianFinder() initializes the MedianFinder object.\n",
    "\n",
    "void addNum(int num) adds the integer num from the data stream to the data structure.\n",
    "\n",
    "double findMedian() returns the median of all elements so far. Answers within 10-5 of the actual answer will be accepted."
   ]
  },
  {
   "cell_type": "code",
   "execution_count": 19,
   "metadata": {},
   "outputs": [],
   "source": [
    "\"\"\"\n",
    "Use heaps to solve it\n",
    "A Small Heap and a Large Heap\n",
    "Default adding to small heap, but if len small > len large:\n",
    "    Find the largest number in Small Heap and move it to Large Heap\n",
    "Then find largest of Small Heap, min of the large heap.\n",
    "    If former greater than latter: move the former to latter\n",
    "Lastly, if length of Large is at two larger than Small: move its smallest to Small\n",
    "\"\"\"\n",
    "class MedianFinder:\n",
    "\n",
    "    def __init__(self):\n",
    "        # The small is actually the large numbers heap\n",
    "        self.small,self.large = [],[]\n",
    "\n",
    "    def addNum(self,num) -> None:\n",
    "        heapq.heappush(self.small,-1*num)\n",
    "        \n",
    "        if (self.small and self.large and -1*self.small[0]>self.large[0]):\n",
    "            val = -1*heapq.heappop(self.small)\n",
    "            heapq.heappush(self.large,val)\n",
    "        # Check for unequilibrated lengths\n",
    "        if len(self.small) - len(self.large) >= 2:\n",
    "            val = -1*heapq.heappop(self.small)\n",
    "            heapq.heappush(self.large,val)\n",
    "        if len(self.large) - len(self.small) >= 2:\n",
    "            val = -1*heapq.heappop(self.large)\n",
    "            heapq.heappush(self.small,val)\n",
    "\n",
    "    def findMedian(self) -> float:\n",
    "        if len(self.small)>len(self.large):\n",
    "            return -1*self.small[0]\n",
    "        elif len(self.large)>len(self.small):\n",
    "            return self.large[0]\n",
    "        else: \n",
    "            return (-1*self.small[0] + self.large[0])/2"
   ]
  },
  {
   "cell_type": "markdown",
   "metadata": {},
   "source": [
    "### Question 173: Binary Search Tree Iterator\n",
    "Implement the BSTIterator class that represents an iterator over the in-order traversal of a binary search tree (BST):\n",
    "\n",
    "BSTIterator(TreeNode root) Initializes an object of the BSTIterator class. The root of the BST is given as part of the constructor. The pointer should be initialized to a non-existent number smaller than any element in the BST.\n",
    "\n",
    "boolean hasNext() Returns true if there exists a number in the traversal to the right of the pointer, otherwise returns false.\n",
    "\n",
    "int next() Moves the pointer to the right, then returns the number at the pointer."
   ]
  },
  {
   "cell_type": "code",
   "execution_count": null,
   "metadata": {},
   "outputs": [],
   "source": [
    "\"\"\"\n",
    "General idea:\n",
    "Pop elements from the stack. Whenever there is a right child: append it\n",
    "\"\"\"\n",
    "class BSTIterator:\n",
    "\n",
    "    def __init__(self, root: Optional[TreeNode]):\n",
    "        self.stack = []\n",
    "        cur = root\n",
    "        while cur:\n",
    "            self.stack.append(cur)\n",
    "            cur = cur.left\n",
    "            \n",
    "    def next(self) -> int:\n",
    "        res = self.stack.pop()\n",
    "        cur = res.right\n",
    "        while cur:\n",
    "            self.stack.append(cur)\n",
    "            cur = cur.left\n",
    "        return cur.val\n",
    "\n",
    "    def hasNext(self) -> bool:\n",
    "        return self.stack != []"
   ]
  },
  {
   "cell_type": "markdown",
   "metadata": {},
   "source": [
    "### Question 211: Design Add and Search Words Data Structure\n",
    "Implement the WordDictionary class:\n",
    "\n",
    "WordDictionary() Initializes the object.\n",
    "\n",
    "void addWord(word) Adds word to the data structure, it can be matched later.\n",
    "\n",
    "bool search(word) Returns true if there is any string in the data structure that matches word or false otherwise. word may contain dots '.' where dots can be matched with any letter."
   ]
  },
  {
   "cell_type": "code",
   "execution_count": null,
   "metadata": {},
   "outputs": [],
   "source": [
    "class TrieNode:\n",
    "    def __init__(self):\n",
    "        self.children = {}\n",
    "        self.isEnd = False\n",
    "class WordDictionary:\n",
    "    def __init__(self):\n",
    "        self.root = TrieNode()\n",
    "    def addWord(self, word):\n",
    "        cur = self.root\n",
    "        for c in word:\n",
    "            if c not in cur.children:\n",
    "                cur.children[c] = TrieNode()\n",
    "            cur = cur.children[c]\n",
    "        # After inserting every intermediate character, set = True\n",
    "        cur.word = True\n",
    "    def search(self, word):\n",
    "        def dfs(j,root):\n",
    "            cur = root\n",
    "            for i in range(j,len(word)):\n",
    "                c = word[i]\n",
    "\n",
    "                if c == \".\":\n",
    "                    for child in cur.children.values():\n",
    "                        if dfs(i+1,child) == True:\n",
    "                            return True\n",
    "                    return False\n",
    "\n",
    "                else:\n",
    "                    if c not in cur.children:\n",
    "                        return False\n",
    "                    cur = cur.children[c]\n",
    "            return cur.word\n",
    "        return dfs(0,self.root)"
   ]
  },
  {
   "cell_type": "markdown",
   "metadata": {},
   "source": [
    "### Question 303: Range Sum Query - Immutable"
   ]
  },
  {
   "cell_type": "code",
   "execution_count": null,
   "metadata": {},
   "outputs": [],
   "source": [
    "class NumArray:\n",
    "\n",
    "    def __init__(self, nums: List[int]):\n",
    "        self.prefix = [nums[0]]\n",
    "        for i in range(1,len(nums)):\n",
    "            self.prefix.append(nums[i]+self.prefix[-1])\n",
    "\n",
    "    def sumRange(self, left: int, right: int) -> int:\n",
    "        if left == 0:\n",
    "            return self.prefix[right]\n",
    "        return self.prefix[right] - self.prefix[left-1]"
   ]
  },
  {
   "cell_type": "markdown",
   "metadata": {},
   "source": [
    "### Question 1483: Kth Ancestor of a Tree Node\n",
    "Implement the TreeAncestor class:\n",
    "\n",
    "TreeAncestor(int n, int[] parent) Initializes the object with the number of nodes in the tree and the parent array.\n",
    "int getKthAncestor(int node, int k) return the kth ancestor of the given node node. If there is no such ancestor, return -1."
   ]
  },
  {
   "cell_type": "code",
   "execution_count": 1,
   "metadata": {},
   "outputs": [],
   "source": [
    "class TreeAncestor:\n",
    "    def __init__(self,n,parent):\n",
    "        m = int(log2(n))+1\n",
    "        self.dp = [[-1]*m for _ in range(n)]\n",
    "        for i in range(n):\n",
    "            dp[i][0]=parent[i]\n",
    "        for i in range(n):\n",
    "            for j in range(1,m):\n",
    "                if self.dp[i][j-1] != -1:\n",
    "                    self.dp[i][j] = self.dp[self.dp[i][j-1]][j-1]\n",
    "    def getKthAncestor(self,node,k):\n",
    "        while k > 0 and node != -1:\n",
    "            j = int(log2(k))\n",
    "            node = self.dp[node][j]\n",
    "            k -= (1<<j)\n",
    "        return node"
   ]
  },
  {
   "cell_type": "markdown",
   "metadata": {},
   "source": [
    "### Question 1172: Dinner Plate Stacks\n",
    "DinnerPlates(int capacity) Initializes the object with the maximum capacity of the stacks capacity.\n",
    "\n",
    "void push(int val) Pushes the given integer val into the leftmost stack with a size less than capacity.\n",
    "\n",
    "int pop() Returns the value at the top of the rightmost non-empty stack and removes it from that stack, and returns -1 if all the stacks are empty.\n",
    "\n",
    "int popAtStack(int index) Returns the value at the top of the stack with the given index index and removes it from that stack or returns -1 if the stack with that given index is empty."
   ]
  },
  {
   "cell_type": "code",
   "execution_count": null,
   "metadata": {},
   "outputs": [],
   "source": [
    "class DinnerPlates:\n",
    "\n",
    "    def __init__(self, capacity: int):\n",
    "        self.c = capacity\n",
    "        self.q = []\n",
    "        self.stack = []\n",
    "\n",
    "    def push(self, val: int) -> None:\n",
    "        while self.q and self.q[0]<len(self.stack) and len(self.stack[self.q[0]]) == self.c:\n",
    "            heapq.heappop(self.q)\n",
    "        if not self.q:\n",
    "            heapq.heappush(self.q, len(self.stack))\n",
    "        if self.q[0] == len(self.stack):\n",
    "            self.stack.append([])\n",
    "        self.stack[self.q[0]].append(val)\n",
    "\n",
    "    def pop(self) -> int:\n",
    "        while self.stack and not self.stack[-1]:\n",
    "            self.stack.pop()\n",
    "        return self.popAtStack(len(self.stack) - 1)\n",
    "        \n",
    "\n",
    "    def popAtStack(self, index: int) -> int:\n",
    "        if 0 <= index < len(self.stack) and self.stack[index]:\n",
    "            heapq.heappush(self.q, index)\n",
    "            return self.stack[index].pop()\n",
    "        return -1"
   ]
  },
  {
   "cell_type": "markdown",
   "metadata": {},
   "source": [
    "### Question 710: Random Pick with Blacklist\n",
    "You are given an integer n and an array of unique integers blacklist. Design an algorithm to pick a random integer in the range [0, n - 1] that is not in blacklist. Any integer that is in the mentioned range and not in blacklist should be equally likely to be returned."
   ]
  },
  {
   "cell_type": "code",
   "execution_count": 63,
   "metadata": {},
   "outputs": [],
   "source": [
    "import random\n",
    "class Solution:\n",
    "    def __init__(self, n, blacklist):\n",
    "        blacklist = set(blacklist)\n",
    "        self.n = n - len(blacklist)\n",
    "        self.size = n - len(blacklist)\n",
    "        keys = [x for x in blacklist if x < n - len(blacklist)]\n",
    "        vals = [x for x in range(n - len(blacklist), n) if x not in blacklist]\n",
    "        self.mapping = dict(zip(keys,vals))\n",
    "    def pick(self) -> int:\n",
    "        index = random.randint(0, self.n - 1)\n",
    "        return self.mapping.get(index,index)"
   ]
  }
 ],
 "metadata": {
  "kernelspec": {
   "display_name": "Python 3",
   "language": "python",
   "name": "python3"
  },
  "language_info": {
   "codemirror_mode": {
    "name": "ipython",
    "version": 3
   },
   "file_extension": ".py",
   "mimetype": "text/x-python",
   "name": "python",
   "nbconvert_exporter": "python",
   "pygments_lexer": "ipython3",
   "version": "3.8.5"
  },
  "vscode": {
   "interpreter": {
    "hash": "31f2aee4e71d21fbe5cf8b01ff0e069b9275f58929596ceb00d14d90e3e16cd6"
   }
  }
 },
 "nbformat": 4,
 "nbformat_minor": 4
}
