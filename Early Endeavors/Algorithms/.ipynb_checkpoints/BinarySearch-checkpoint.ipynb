{
 "cells": [
  {
   "cell_type": "markdown",
   "metadata": {},
   "source": [
    "# Binary Search"
   ]
  },
  {
   "cell_type": "markdown",
   "metadata": {},
   "source": [
    "### Question 33: Search in Rotated Sorted Array\n",
    "There is an integer array nums sorted in ascending order (with distinct values). Given the array nums after the possible rotation and an integer target, return the index of target if it is in nums, or -1 if it is not in nums."
   ]
  },
  {
   "cell_type": "code",
   "execution_count": null,
   "metadata": {},
   "outputs": [],
   "source": [
    "class Solution:\n",
    "    def search(self, nums: List[int], target: int) -> int:\n",
    "        if nums[0] <= nums[-1]:\n",
    "            L,R = 0,len(nums)-1\n",
    "            while L <= R:\n",
    "                mid = (L+R)//2\n",
    "                if nums[mid] == target:\n",
    "                    return mid\n",
    "                if nums[mid] < target:\n",
    "                    L = mid + 1\n",
    "                else:\n",
    "                    R = mid - 1\n",
    "            return -1\n",
    "        left = 0\n",
    "        right = len(nums)-1\n",
    "        l,r = nums[left],nums[right]\n",
    "        while left < right:\n",
    "            if right - left == 1:\n",
    "                if nums[left] == l:\n",
    "                    left,right = 1,0\n",
    "                elif nums[right] == r:\n",
    "                    left,right = len(nums)-1,len(nums)-2\n",
    "                else:\n",
    "                    left,right = right,left\n",
    "                    print(left,right)\n",
    "                break\n",
    "            mid = (left + right)//2\n",
    "            if nums[mid] > l:\n",
    "                left = mid\n",
    "            elif nums[mid] < r:\n",
    "                right = mid\n",
    "        if target <= r:\n",
    "            L,R = left,len(nums)-1\n",
    "        elif target >= l:\n",
    "            L,R = 0,right\n",
    "        else:\n",
    "            return -1\n",
    "        while L <= R:\n",
    "            mid = (L+R)//2\n",
    "            if target == nums[mid]:\n",
    "                return mid\n",
    "            if target > nums[mid]:\n",
    "                L = mid + 1\n",
    "            else:\n",
    "                R = mid - 1\n",
    "        return -1"
   ]
  },
  {
   "cell_type": "markdown",
   "metadata": {},
   "source": [
    "### Question 34: Find First and Last Position of Element in Sorted Array"
   ]
  },
  {
   "cell_type": "code",
   "execution_count": 72,
   "metadata": {},
   "outputs": [],
   "source": [
    "def searchRange(nums, target):\n",
    "    n = len(nums)\n",
    "    left = 0\n",
    "    right = n-1\n",
    "    while left <= right:\n",
    "        mid = (left+right)//2\n",
    "        if nums[mid] < target:\n",
    "            left = mid+1\n",
    "        else:\n",
    "            right = mid-1\n",
    "    left_end = left\n",
    "    left = 0\n",
    "    right = n-1\n",
    "    while left <= right:\n",
    "        mid = (left+right)//2\n",
    "        if nums[mid] <= target:\n",
    "            left = mid+1\n",
    "        else:\n",
    "            right = mid-1\n",
    "    right_end = right\n",
    "    return [-1,-1] if left_end > right_end else [left_end,right_end]"
   ]
  },
  {
   "cell_type": "markdown",
   "metadata": {},
   "source": [
    "### Question 74: Search Matrix\n",
    "Write an efficient algorithm that searches for a value target in an m x n integer matrix matrix. This matrix has the following properties:\n",
    "\n",
    "Integers in each row are sorted from left to right.\n",
    "The first integer of each row is greater than the last integer of the previous row."
   ]
  },
  {
   "cell_type": "code",
   "execution_count": 2,
   "metadata": {},
   "outputs": [
    {
     "data": {
      "text/plain": [
       "5"
      ]
     },
     "execution_count": 2,
     "metadata": {},
     "output_type": "execute_result"
    }
   ],
   "source": [
    "def searchMatrix(matrix, target):\n",
    "    rows,cols = len(matrix),len(matrix[0])\n",
    "    left,right = 0,rows*cols-1\n",
    "    while left <= right:\n",
    "        mid = (left+right)//2\n",
    "        if matrix[mid//cols][mid%cols] < target:\n",
    "            left = mid + 1\n",
    "        elif matrix[mid//cols][mid%cols] > target:\n",
    "            right = mid - 1\n",
    "        else:\n",
    "            return True\n",
    "    return False"
   ]
  },
  {
   "cell_type": "markdown",
   "metadata": {},
   "source": [
    "### Question 154: Find Minimum in Rotated Sorted Array II\n",
    "Suppose an array of length n sorted in ascending order is rotated between 1 and n times. Given the sorted rotated array nums that may contain duplicates, return the minimum element of this array."
   ]
  },
  {
   "cell_type": "code",
   "execution_count": 5,
   "metadata": {},
   "outputs": [],
   "source": [
    "def findMin(self, nums: List[int]) -> int:\n",
    "    # If the array was rotated n times\n",
    "    if nums[-1]>nums[0]:\n",
    "        return nums[0]\n",
    "    if len(nums) == 2:\n",
    "        return min(nums)\n",
    "    # If rotated not n times\n",
    "    l = 0\n",
    "    r = len(nums)-1\n",
    "    while l < r-1:\n",
    "        mid = (l+r)//2\n",
    "        if nums[mid] == nums[l] == nums[r]:\n",
    "            return min(self.findMin(nums[0:mid+1]),self.findMin(nums[mid:]))\n",
    "        else:\n",
    "            if nums[mid] <= nums[r]:\n",
    "                r = mid\n",
    "            elif nums[mid] >= nums[l]:\n",
    "                l = mid\n",
    "        if l == r-1:\n",
    "            break\n",
    "    return nums[r]"
   ]
  },
  {
   "cell_type": "markdown",
   "metadata": {},
   "source": [
    "### Question 278: First Bad Version\n",
    "You are given an API bool isBadVersion(version) which returns whether version is bad. Implement a function to find the first bad version. You should minimize the number of calls to the API."
   ]
  },
  {
   "cell_type": "code",
   "execution_count": null,
   "metadata": {},
   "outputs": [],
   "source": [
    "def firstBadVersion(n):\n",
    "    left,right = 0,n-1\n",
    "    while left <= right:\n",
    "        mid = (left+right)//2\n",
    "        if isBadVersion(mid):\n",
    "            right = mid-1\n",
    "        else:\n",
    "            left = mid+1\n",
    "    return left"
   ]
  },
  {
   "cell_type": "markdown",
   "metadata": {},
   "source": [
    "### Question 315: Count of smaller numbers after self\n",
    "You are given an integer array nums and you have to return a new counts array. The counts array has the property where counts[i] is the number of smaller elements to the right of nums[i]."
   ]
  },
  {
   "cell_type": "code",
   "execution_count": 27,
   "metadata": {},
   "outputs": [],
   "source": [
    "class BIT:\n",
    "    def __init__(self,n):\n",
    "        self.sums = [0]*(n+1)\n",
    "    def update(self,i,v):\n",
    "        while i < len(self.sums):\n",
    "            self.sums[i] +=v\n",
    "            i += (i&-i)\n",
    "    def query(self,i):\n",
    "        res = 0\n",
    "        while i>0:\n",
    "            res += self.sums[i]\n",
    "            i -= (i&-i)\n",
    "        return res\n",
    "    \n",
    "def countSmaller(nums):\n",
    "    n = len(nums)\n",
    "    e = {v:i for i,v in enumerate(sorted(set(nums)))}\n",
    "    b = BIT(n)\n",
    "    ans = []\n",
    "    indices = [e[n] for n in nums]\n",
    "    for i in indices[::-1]:\n",
    "        res = b.query(i)\n",
    "        ans.append(res)\n",
    "        b.update(i+1,1)\n",
    "    ans.reverse()\n",
    "    return ans"
   ]
  },
  {
   "cell_type": "markdown",
   "metadata": {},
   "source": [
    "### Question 367: Valid Perfect Square\n",
    "Given a positive integer num, write a function which returns True if num is a perfect square else False."
   ]
  },
  {
   "cell_type": "code",
   "execution_count": null,
   "metadata": {},
   "outputs": [],
   "source": [
    "def isPerfectSquare(num):\n",
    "    left,right = 0,num\n",
    "    while left <= right:\n",
    "        mid = (left+right)//2\n",
    "        if mid**2 == num:\n",
    "            return True\n",
    "        if mid**2 < num:\n",
    "            left = mid + 1\n",
    "        else:\n",
    "            right = mid - 1\n",
    "    return False"
   ]
  },
  {
   "cell_type": "markdown",
   "metadata": {},
   "source": [
    "### Question 410: Split Array Largest Sum\n",
    "Given an array nums which consists of non-negative integers and an integer m, you can split the array into m non-empty continuous subarrays.\n",
    "\n",
    "Write an algorithm to minimize the largest sum among these m subarrays."
   ]
  },
  {
   "cell_type": "code",
   "execution_count": 44,
   "metadata": {},
   "outputs": [],
   "source": [
    "\"\"\"\n",
    "Define a helper function that returns whether an array is splittable by mid value\n",
    "into less than m subsets whose sums are all less than mid\n",
    "Then perform binary search on the largest of the numbers and the sum of numbers\n",
    "Stop until upper and lower boundaries meet\n",
    "\"\"\"\n",
    "import math\n",
    "class Solution:\n",
    "    # Define a helper function\n",
    "    def splittable(self,nums,mid,m):\n",
    "        # Initialize the number of sets\n",
    "        total = 1\n",
    "        tempsum = 0\n",
    "        num_copy = nums.copy()\n",
    "        while num_copy:\n",
    "            num = num_copy.pop(0)\n",
    "            tempsum += num\n",
    "            if tempsum > mid:\n",
    "                tempsum = num\n",
    "                total += 1\n",
    "            if total > m:\n",
    "                return False\n",
    "        return True\n",
    "    \n",
    "    def splitArray(self, nums, m):\n",
    "        small = max(nums)\n",
    "        large = sum(nums)\n",
    "        mid = math.floor((small+large)/2)\n",
    "\n",
    "        while small < large-1:\n",
    "            if self.splittable(nums,mid,m):\n",
    "                large = mid\n",
    "                mid = math.floor((small+large)/2)\n",
    "            else:\n",
    "                small = mid\n",
    "                mid = math.floor((small+large)/2)\n",
    "\n",
    "        if self.splittable(nums,mid,m):\n",
    "            return mid\n",
    "        else:\n",
    "            return mid+1"
   ]
  },
  {
   "cell_type": "markdown",
   "metadata": {},
   "source": [
    "### Question 327: Count of Range Sum\n",
    "Given an integer array nums and two integers lower and upper, return the number of range sums that lie in [lower, upper] inclusive.\n",
    "\n",
    "Range sum S(i, j) is defined as the sum of the elements in nums between indices i and j inclusive, where i <= j."
   ]
  },
  {
   "cell_type": "code",
   "execution_count": 50,
   "metadata": {},
   "outputs": [],
   "source": [
    "def merge(Sum,low1,high1,low2,high2):\n",
    "    helper = []\n",
    "    index1 = low1\n",
    "    index2 = low2\n",
    "    while index1 <= high1 and index2 <= high2:\n",
    "        if Sum[index1] <= Sum[index2]:\n",
    "            helper.append(Sum[index1])\n",
    "            index1 += 1\n",
    "        else:\n",
    "            helper.append(Sum[index2])\n",
    "            index2 += 1\n",
    "    while index1 <= high1:\n",
    "        helper.append(Sum[index1])\n",
    "        index1 += 1\n",
    "    while index2 <= high2:\n",
    "        helper.append(Sum[index2])\n",
    "        index2 += 1\n",
    "    Sum[low1:high2+1] = helper\n",
    "\n",
    "def mergeSort(Sum,low,high,lower,upper):\n",
    "    if low >= high:\n",
    "        return 0\n",
    "    mid = (high+1+low)//2\n",
    "    count = mergeSort(Sum,low,mid-1,lower,upper)+mergeSort(Sum,mid,high,lower,upper)\n",
    "    startIndex = mid\n",
    "    endIndex = mid\n",
    "    for i in range(low,mid):\n",
    "        while startIndex <= high and Sum[startIndex] - Sum[i] < lower:\n",
    "            startIndex += 1\n",
    "        while endIndex <= high and Sum[endIndex] - Sum[i] <= upper:\n",
    "            endIndex += 1\n",
    "        count += endIndex - startIndex\n",
    "    merge(Sum,low,mid-1,mid,high)\n",
    "    return count\n",
    "\n",
    "def countRangeSum(nums, lower: int, upper: int) -> int:\n",
    "    n = len(nums)\n",
    "    Sum = [0]\n",
    "    for i in range(n):\n",
    "        Sum.append(Sum[-1]+nums[i])\n",
    "    return mergeSort(Sum,0,n,lower,upper)"
   ]
  },
  {
   "cell_type": "markdown",
   "metadata": {},
   "source": [
    "### Question 1044: Longest Duplicate Substring\n",
    "Given a string s, consider all duplicated substrings: (contiguous) substrings of s that occur 2 or more times. The occurrences may overlap.\n",
    "\n",
    "Return any duplicated substring that has the longest possible length. If s does not have a duplicated substring, the answer is \"\"."
   ]
  },
  {
   "cell_type": "code",
   "execution_count": null,
   "metadata": {},
   "outputs": [],
   "source": [
    "def longestDupSubstring(self, s: str) -> str:\n",
    "    p = 2**63-1\n",
    "    # This finds the first time when a substring\n",
    "    # of length mid is found repeated in a string\n",
    "    def rabin_karp(mid):\n",
    "        curr_hash = 0\n",
    "        for i in range(mid):\n",
    "            curr_hash = (curr_hash*26+nums[i])%p\n",
    "        hashes = {curr_hash}\n",
    "        pos = -1\n",
    "        max_pow = pow(26,mid,p)\n",
    "        for i in range(mid,len(s)):\n",
    "            curr_hash = (26*curr_hash - nums[i-mid]*max_pow + nums[i])%p\n",
    "            if curr_hash in hashes:\n",
    "                pos = i+1-mid\n",
    "            hashes.add(curr_hash)\n",
    "        return pos\n",
    "    nums = [ord(c) for c in s]\n",
    "    l,r = 0,len(s)-1\n",
    "    start,end = 0,0\n",
    "    while l<=r:\n",
    "        mid = (l+r)//2\n",
    "        pos = rabin_karp(mid)\n",
    "        if pos == -1:\n",
    "            r = mid-1\n",
    "        else:\n",
    "            start,end = pos,pos+mid\n",
    "            l = mid+1\n",
    "\n",
    "    return s[start:start+l-1]"
   ]
  },
  {
   "cell_type": "markdown",
   "metadata": {},
   "source": [
    "### Question 483: Smallest Good Base\n",
    "Given an integer n represented as a string, return the smallest good base of n.\n",
    "\n",
    "We call k >= 2 a good base of n, if all digits of n base k are 1's."
   ]
  },
  {
   "cell_type": "code",
   "execution_count": 10,
   "metadata": {},
   "outputs": [],
   "source": [
    "import math\n",
    "def smallestGoodBase(n):\n",
    "    n = int(n)\n",
    "    max_m = int(math.log(n,2))\n",
    "    for m in range(max_m,1,-1):\n",
    "        k = int(n**(1/m))\n",
    "        # print(n,(k**(m+1)-1)//(k-1))\n",
    "        if (k**(m+1)-1)//(k - 1) == n:\n",
    "            return str(k)\n",
    "    return str(n-1)"
   ]
  }
 ],
 "metadata": {
  "kernelspec": {
   "display_name": "Python 3",
   "language": "python",
   "name": "python3"
  },
  "language_info": {
   "codemirror_mode": {
    "name": "ipython",
    "version": 3
   },
   "file_extension": ".py",
   "mimetype": "text/x-python",
   "name": "python",
   "nbconvert_exporter": "python",
   "pygments_lexer": "ipython3",
   "version": "3.8.5"
  }
 },
 "nbformat": 4,
 "nbformat_minor": 4
}
