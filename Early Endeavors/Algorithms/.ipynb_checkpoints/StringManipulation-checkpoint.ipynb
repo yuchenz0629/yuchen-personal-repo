{
 "cells": [
  {
   "cell_type": "markdown",
   "metadata": {},
   "source": [
    "# String Manipulations"
   ]
  },
  {
   "cell_type": "code",
   "execution_count": null,
   "metadata": {},
   "outputs": [],
   "source": []
  },
  {
   "cell_type": "markdown",
   "metadata": {},
   "source": [
    "### Question 6: Zigzag Conversion"
   ]
  },
  {
   "cell_type": "code",
   "execution_count": 6,
   "metadata": {},
   "outputs": [],
   "source": [
    "def convert(s, numRows):\n",
    "    if numRows == 1 or numRows >= len(s):\n",
    "        return s\n",
    "    L = [''] * numRows\n",
    "    index, step = 0, 1\n",
    "    for x in s:\n",
    "        L[index] += x\n",
    "        if index == 0:\n",
    "            step = 1\n",
    "        elif index == numRows -1:\n",
    "            step = -1\n",
    "        index += step\n",
    "        print(L)\n",
    "    return ''.join(L)"
   ]
  },
  {
   "cell_type": "markdown",
   "metadata": {},
   "source": [
    "### Question 8: String to Integer (atoi)\n",
    "Implement the myAtoi(string s) function, which converts a string to a 32-bit signed integer (similar to C/C++'s atoi function).\n",
    "\n",
    "Ignore any leading whitespace.\n",
    "Check if the next character is '-' or '+'.\n",
    "Read in next the characters until the next non-digit character or the end of the input is reached.\n",
    "Convert these digits into an integer.\n",
    "If the integer is out of the 32-bit signed integer range [-231, 231 - 1], then clamp the integer so that it remains in the range.\n",
    "Return the integer as the final result."
   ]
  },
  {
   "cell_type": "code",
   "execution_count": 7,
   "metadata": {},
   "outputs": [],
   "source": [
    "def myAtoi(self, s: str) -> int:\n",
    "    if len(s) == 0:\n",
    "        return 0\n",
    "    l = list(s.strip())\n",
    "    if l == []:\n",
    "        return 0\n",
    "    sign = -1 if l[0] == \"-\" else 1\n",
    "    if l[0] in ['-','+']: del l[0]\n",
    "    ans,index = 0,0\n",
    "    while index < len(l) and l[i].isdigit():\n",
    "        ans = 10*ans + int(l[i])\n",
    "        i += 1\n",
    "    return max(-2**31,min(2**31-1,sign*ans))"
   ]
  },
  {
   "cell_type": "markdown",
   "metadata": {},
   "source": [
    "### Question 12: Integer to Roman"
   ]
  },
  {
   "cell_type": "code",
   "execution_count": 17,
   "metadata": {},
   "outputs": [],
   "source": [
    "def intToRoman(num):\n",
    "    # Reasons for list instead of hash map: need to do in descending order\n",
    "    symlist = [[\"I\",1],[\"IV\",4],[\"V\",5],[\"IX\",9],[\"X\",10],[\"XL\",40],[\"L\",50],[\"XC\",90],\n",
    "               [\"C\",100],[\"CD\",400],[\"D\",500],[\"CM\",900],[\"M\",1000]]\n",
    "    res = \"\"\n",
    "    for sym, val in reversed(symlist):\n",
    "        if num // val != 0:\n",
    "            count = num // val\n",
    "            res = res + count*sym\n",
    "            num = num - count * val\n",
    "    return res"
   ]
  },
  {
   "cell_type": "markdown",
   "metadata": {},
   "source": [
    "### Multiply Strings\n",
    "Given two non-negative integers num1 and num2 represented as strings, return the product of num1 and num2, also represented as a string."
   ]
  },
  {
   "cell_type": "code",
   "execution_count": null,
   "metadata": {},
   "outputs": [],
   "source": [
    "def multiply(num1, num2):\n",
    "    ans = 0\n",
    "    for i in range(len(num2)-1,-1,-1):\n",
    "        m1 = 10**(len(num2)-i-1)\n",
    "        temp = 0\n",
    "        inherit = 0\n",
    "        for j in range(len(num1)-1,-1,-1):\n",
    "            m2 = 10**(len(num1)-j-1)\n",
    "            temp += ((int(num2[i])*int(num1[j]) + inherit)%10)*m2\n",
    "            inherit = (int(num2[i])*int(num1[j]) + inherit)//10\n",
    "        temp += inherit*10**(len(num1))\n",
    "        ans += temp*m1\n",
    "    return str(ans)"
   ]
  },
  {
   "cell_type": "markdown",
   "metadata": {},
   "source": [
    "### Question 65: Valid Number\n",
    "A valid number can be split up into these components (in order):\n",
    "\n",
    "A decimal number or an integer.\n",
    "(Optional) An 'e' or 'E', followed by an integer."
   ]
  },
  {
   "cell_type": "code",
   "execution_count": null,
   "metadata": {},
   "outputs": [],
   "source": [
    "def isNumber(self, s: str) -> bool:\n",
    "    digitseen = False\n",
    "    eseen = False\n",
    "    dotseen = False\n",
    "    countplusminus = 0\n",
    "    digitset = {\"1\",\"2\",\"3\",\"4\",\"5\",\"6\",\"7\",\"8\",\"9\",\"0\"}\n",
    "    for i in range(len(s)):\n",
    "        char = s[i]\n",
    "        if char in digitset:\n",
    "            digitseen = True\n",
    "        # char could be digit, plus or minus, dot, or e\n",
    "        elif char == \"+\" or char == \"-\":\n",
    "            if countplusminus == 2:\n",
    "                return False\n",
    "            if i>0 and (s[i-1] != \"e\" and s[i-1] != \"E\"):\n",
    "                return False\n",
    "            if i == len(s)-1:\n",
    "                return False\n",
    "            countplusminus += 1\n",
    "        elif char == \".\":\n",
    "            if eseen or dotseen:\n",
    "                return False\n",
    "            if i == len(s)-1 and not digitseen:\n",
    "                return False\n",
    "            dotseen = True\n",
    "        elif char == \"e\" or char == \"E\":\n",
    "            if eseen or not digitseen or i == len(s)-1:\n",
    "                return False\n",
    "            eseen = True\n",
    "        else:\n",
    "            return False\n",
    "    return True"
   ]
  },
  {
   "cell_type": "markdown",
   "metadata": {},
   "source": [
    "### Question 67: Binary Addition¶\n",
    "Given two binary strings a and b, return their sum as a binary string."
   ]
  },
  {
   "cell_type": "code",
   "execution_count": null,
   "metadata": {},
   "outputs": [],
   "source": [
    "def addBinary(a, b):\n",
    "    res = \"\"\n",
    "    carry = 0\n",
    "    a = a[::-1]\n",
    "    b = b[::-1]\n",
    "    for i in range(max(len(a), len(b))):\n",
    "        digitA = ord(a[i])-ord(\"0\") if i < len(a) else 0\n",
    "        digitB = ord(b[i])-ord(\"0\") if i < len(b) else 0\n",
    "        total = digitA+digitB+carry\n",
    "        char = str(total%2)\n",
    "        res = char+res\n",
    "        carry = total//2\n",
    "    if carry == 1:\n",
    "        res = \"1\"+res\n",
    "    return res"
   ]
  },
  {
   "cell_type": "markdown",
   "metadata": {},
   "source": [
    "### Question 10: Regular Expression Matching\n",
    "Given an input string s and a pattern p, implement regular expression matching with support for '.' and '*' where:\n",
    "\n",
    "'.' Matches any single character.\n",
    "'*' Matches zero or more of the preceding element.\n",
    "The matching should cover the entire input string (not partial)"
   ]
  },
  {
   "cell_type": "code",
   "execution_count": null,
   "metadata": {},
   "outputs": [],
   "source": [
    "def isMatch(s,p):\n",
    "    cache = {}\n",
    "    # First define a helper function to track the pointers in s and p\n",
    "    def dfs(i,j):\n",
    "        # Check whether they are already in cache\n",
    "        if (i,j) in cache:\n",
    "            return cache[(i,j)]\n",
    "        # If both out of bounds: means we're done with both of them\n",
    "        if i>=len(s) and j>=len(p):\n",
    "            return True\n",
    "        if j>=len(p):\n",
    "            return False\n",
    "        \n",
    "        match = i<len(s) and (s[i]==p[j] or p[j]==\".\")\n",
    "        if (j+1)<len(p) and p[j+1]==\"*\":\n",
    "            # Either not use the star or use the star if there s a match\n",
    "            cache[(i,j)] = dfs(i,j+2) or (match and dfs(i+1,j))\n",
    "            return cache[(i,j)]\n",
    "        if match:\n",
    "            cache[(i,j)] = dfs(i+1,j+1)\n",
    "            return cache[(i,j)]\n",
    "        cache[(i,j)] = False\n",
    "        return False\n",
    "    return dfs(0,0)"
   ]
  },
  {
   "cell_type": "markdown",
   "metadata": {},
   "source": [
    "### Question 168: Excel Sheet Column Title\n",
    "Given an integer columnNumber, return its corresponding column title as it appears in an Excel sheet."
   ]
  },
  {
   "cell_type": "code",
   "execution_count": 43,
   "metadata": {},
   "outputs": [],
   "source": [
    "def convertToTitle(columnNumber):\n",
    "    ans = []\n",
    "    while columnNumber > 0:\n",
    "        temp = columnNumber%26\n",
    "        if temp == 0:\n",
    "            ans.append(\"Z\")\n",
    "            columnNumber -= 26\n",
    "        else:\n",
    "            ans.append(chr(temp+64))\n",
    "            columnNumber -= temp\n",
    "        columnNumber = columnNumber//26\n",
    "    return \"\".join(ans[::-1])"
   ]
  },
  {
   "cell_type": "markdown",
   "metadata": {},
   "source": [
    "### Question 1392: Longest Happy Prefix\n",
    "A string is called a happy prefix if is a non-empty prefix which is also a suffix (excluding itself).\n",
    "\n",
    "Given a string s, return the longest happy prefix of s. Return an empty string \"\" if no such prefix exists."
   ]
  },
  {
   "cell_type": "code",
   "execution_count": null,
   "metadata": {},
   "outputs": [],
   "source": [
    "def longestPrefix(s):\n",
    "    n = len(s)\n",
    "    lps = [0]*n\n",
    "    # Initialize the left and right pointers\n",
    "    left = 0\n",
    "\n",
    "    for right in range(1,n):\n",
    "        \"\"\"\n",
    "        In case we encounter a mismatch:\n",
    "        we backtrack until there is a match or until the very start\n",
    "        \"\"\"\n",
    "        while s[left] != s[right] and left > 0:\n",
    "            left = lps[left-1]\n",
    "        \"\"\"\n",
    "        If there is a match: increment both pointers by 1\n",
    "        \"\"\"\n",
    "        if s[left] == s[right]:\n",
    "            lps[right] = left+1\n",
    "            left += 1\n",
    "\n",
    "    return s[:lps[-1]]"
   ]
  },
  {
   "cell_type": "markdown",
   "metadata": {},
   "source": [
    "### Question : Get Nearest Palindrome"
   ]
  },
  {
   "cell_type": "code",
   "execution_count": 26,
   "metadata": {},
   "outputs": [],
   "source": [
    "import numpy as np\n",
    "def nearestPalindromic(n):\n",
    "    def generate(s):\n",
    "        results = [i for i in s]\n",
    "        for i in range(len(s)//2):\n",
    "            results[len(s)-i-1] = s[i]\n",
    "        return int(''.join(results))\n",
    "    def loop(mid):\n",
    "        results = []\n",
    "        for i in range(-10,11):\n",
    "            if int(n[:mid]) + i > 0:\n",
    "                results.append(generate(str(int(n[:mid])+i) + n[mid:]))\n",
    "        return results\n",
    "    \n",
    "    mid = len(n)//2 + 1\n",
    "    index = 0\n",
    "    res = loop(mid)\n",
    "    res.sort(reverse = True)\n",
    "    minDiff = np.inf\n",
    "    for i in range(len(res)):\n",
    "        if res[i] != int(n) and abs(res[i] - int(n)) <= minDiff:\n",
    "            index = i\n",
    "            minDiff = abs(res[i] - int(n))\n",
    "    return str(res[index])"
   ]
  },
  {
   "cell_type": "markdown",
   "metadata": {},
   "source": [
    "### 214: Shortest Palindrome\n",
    "You are given a string s. You can convert s to a palindrome by adding characters in front of it.\n",
    "\n",
    "Return the shortest palindrome you can find by performing this transformation."
   ]
  },
  {
   "cell_type": "code",
   "execution_count": 13,
   "metadata": {},
   "outputs": [],
   "source": [
    "def shortestPalindrome(s):\n",
    "    # Reverse the string and add special character between to avoid overlap\n",
    "    rev = s[::-1]\n",
    "    str_total = s + \"_\" + rev\n",
    "    # p denotes for every prefix length\n",
    "    p = [0]*(len(str_total))\n",
    "    # Building the KMP table\n",
    "    for i in range(1,len(str_total)):\n",
    "        # This is the prefix boundary, which starts from j\n",
    "        j = p[i-1]\n",
    "        while j>0 and str_total[i] != str_total[j]:\n",
    "            j = p[j-1]\n",
    "            print(j)\n",
    "        # If prefix boundary matches suffix boundary: increase pref length\n",
    "        if str_total[i] == str_total[j]:\n",
    "            p[i] = j+1\n",
    "    return p,rev[:len(s)-p[len(str_total)-1]]+s"
   ]
  },
  {
   "cell_type": "markdown",
   "metadata": {},
   "source": [
    "### Question 2030: Smallest K-Length Subsequence With Occurrences of a Letter\n",
    "Return the lexicographically smallest subsequence of s of length k that has the letter letter appear at least repetition times. The test cases are generated so that the letter appears in s at least repetition times."
   ]
  },
  {
   "cell_type": "code",
   "execution_count": 6,
   "metadata": {},
   "outputs": [],
   "source": [
    "def smallestSubsequence(s, k, letter, repetition):\n",
    "    n_letters = len([c for c in s if c == letter])\n",
    "    stack = []\n",
    "    for index,char in enumerate(s):\n",
    "        while (stack and stack[-1] > char and (len(s) - index + len(stack) > k) \n",
    "               and (stack[-1] != letter or n_letters > repetition)):\n",
    "            c = stack.pop()\n",
    "            if c == letter:\n",
    "                repetition += 1\n",
    "        if len(stack) < k:\n",
    "            if char == letter:\n",
    "                stack.append(char)\n",
    "                repetition -= 1\n",
    "            elif k - len(stack) > repetition:\n",
    "                stack.append(char)\n",
    "        if char == letter:\n",
    "            n_letters -= 1\n",
    "        # print(stack)\n",
    "    return ''.join(stack)"
   ]
  }
 ],
 "metadata": {
  "kernelspec": {
   "display_name": "Python 3",
   "language": "python",
   "name": "python3"
  },
  "language_info": {
   "codemirror_mode": {
    "name": "ipython",
    "version": 3
   },
   "file_extension": ".py",
   "mimetype": "text/x-python",
   "name": "python",
   "nbconvert_exporter": "python",
   "pygments_lexer": "ipython3",
   "version": "3.8.5"
  }
 },
 "nbformat": 4,
 "nbformat_minor": 4
}
