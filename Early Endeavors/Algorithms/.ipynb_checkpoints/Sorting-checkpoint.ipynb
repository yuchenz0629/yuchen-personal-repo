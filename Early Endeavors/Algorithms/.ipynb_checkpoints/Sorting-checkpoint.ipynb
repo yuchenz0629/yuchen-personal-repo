{
 "cells": [
  {
   "cell_type": "markdown",
   "metadata": {},
   "source": [
    "# Sorting"
   ]
  },
  {
   "cell_type": "markdown",
   "metadata": {},
   "source": [
    "### Question 49: Group Anagrams (Hash Map)\n",
    "Given an array of strings strs, group the anagrams together. You can return the answer in any order.\n",
    "An Anagram is a word or phrase formed by rearranging the letters of a different word or phrase, typically using all the original letters exactly once."
   ]
  },
  {
   "cell_type": "code",
   "execution_count": 211,
   "metadata": {},
   "outputs": [],
   "source": [
    "\"\"\"\n",
    "My solution: check for unque dictionaries\n",
    "If new: add new to the dictionary hash sets\n",
    "Otherwise: add to the corresponding lists of words\n",
    "\"\"\"\n",
    "import collections\n",
    "def groupAnagrams(strs):\n",
    "    ans = []\n",
    "    a = collections.defaultdict(set)\n",
    "    a_pointer = 0\n",
    "    for i in range(len(strs)):\n",
    "        word_temp = strs[i]\n",
    "        letter_reserve = []\n",
    "        dict_temp = {}\n",
    "        for i in range(len(word_temp)):\n",
    "            if word_temp[i] not in letter_reserve:\n",
    "                dict_temp[word_temp[i]] = 1\n",
    "                letter_reserve.append(word_temp[i])\n",
    "            else:\n",
    "                dict_temp[word_temp[i]] += 1\n",
    "            \n",
    "        # After we obtian the dict: we check whether there exist \n",
    "        if all(a[k+1] != dict_temp for k in range(len(a))):\n",
    "            a_pointer += 1\n",
    "            a[a_pointer] = dict_temp\n",
    "            ans.append([word_temp])\n",
    "        else:\n",
    "            index = 0\n",
    "            while a[index+1] != dict_temp:\n",
    "                index += 1\n",
    "                if a[index+1] == dict_temp:\n",
    "                    break\n",
    "            ans[index].append(word_temp)\n",
    "    return ans"
   ]
  },
  {
   "cell_type": "code",
   "execution_count": 228,
   "metadata": {},
   "outputs": [],
   "source": [
    "\"\"\"\n",
    "Solution 2\n",
    "Use how many of which letters are there in a string as key for hash map\n",
    "\"\"\"\n",
    "def groupAnagrams2(strs):\n",
    "    res = collections.defaultdict(list)\n",
    "    for s in strs:\n",
    "        count = [0]*26 # lower case a to lower case z\n",
    "        for c in s:\n",
    "            count[ord(c)-ord(\"a\")] += 1\n",
    "        res[tuple(count)].append(s)\n",
    "    return res.values()"
   ]
  },
  {
   "cell_type": "markdown",
   "metadata": {},
   "source": [
    "### Question 56: Merging Intervals\n",
    "Given an array of intervals where intervals[i] = [starti, endi], merge all overlapping intervals, and return an array of the non-overlapping intervals that cover all the intervals in the input"
   ]
  },
  {
   "cell_type": "code",
   "execution_count": 30,
   "metadata": {},
   "outputs": [],
   "source": [
    "\"\"\"\n",
    "First we need to sort the intervals with respect to start\n",
    "Then loop through all the intervals in linear time\n",
    "    -> If start of next is within the current interval: update end\n",
    "    -> If not: then add it as a new interval\n",
    "\"\"\"\n",
    "def merge(intervals):\n",
    "    intervals.sort(key = lambda x:x[0])\n",
    "    Int = [intervals[0]]\n",
    "    for i in range(1, len(intervals)):\n",
    "        if intervals[i][0] <= Int[-1][1]:\n",
    "            Int[-1][1] = max(Int[-1][1],intervals[i][1])\n",
    "        else:\n",
    "            Int = Int + [intervals[i]]\n",
    "    return Int"
   ]
  },
  {
   "cell_type": "markdown",
   "metadata": {},
   "source": [
    "### Question 169: Majority Element\n",
    "Given an array nums of size n, return the majority element.\n",
    "\n",
    "The majority element is the element that appears more than ⌊n / 2⌋ times. You may assume that the majority element always exists in the array."
   ]
  },
  {
   "cell_type": "code",
   "execution_count": null,
   "metadata": {},
   "outputs": [],
   "source": [
    "def majorityElement(nums) -> int:\n",
    "    major=nums[0]\n",
    "    count = 1;\n",
    "    for i in range(1,len(nums)):\n",
    "        if count == 0:\n",
    "            count += 1;\n",
    "            major = nums[i];\n",
    "        elif major == nums[i]:\n",
    "            count += 1;\n",
    "        else:\n",
    "            count -= 1;\n",
    "    return major;"
   ]
  },
  {
   "cell_type": "markdown",
   "metadata": {},
   "source": [
    "### Question 164: Maximum Gap\n",
    "Given an integer array nums, return the maximum difference between two successive elements in its sorted form. If the array contains less than two elements, return 0.\n",
    "\n",
    "You must write an algorithm that runs in linear time and uses linear extra space."
   ]
  },
  {
   "cell_type": "code",
   "execution_count": 127,
   "metadata": {},
   "outputs": [],
   "source": [
    "\"\"\"\n",
    "We use the bucket sort algorithm.\n",
    "According to the pigeon hole principle, the maximum difference \n",
    "must occur between the buckets for n-1 number of buckets\n",
    "\"\"\"\n",
    "import collections,numpy as np\n",
    "def maximumGap(nums):\n",
    "    if len(nums)<2:\n",
    "        return 0\n",
    "    buckets = collections.defaultdict(list)\n",
    "    high,low,length = max(nums),min(nums),len(nums)\n",
    "    Range = (max(nums)-min(nums))/(len(nums)-1)\n",
    "    for i in nums:\n",
    "        if i == high:\n",
    "            index = length-1\n",
    "        else:\n",
    "            index = abs(i-min(nums))//(high-low)\n",
    "        buckets[index].append(i)\n",
    "    bucket_2 = []\n",
    "    for i in range(length+1):\n",
    "        if buckets[i]:\n",
    "            bucket_2.append(buckets[i])\n",
    "    max_gap = 0\n",
    "    \"\"\"\n",
    "    for i in range(len(bucket_2)-1):\n",
    "        max_gap = max(max_gap,bucket_2[i+1][1]-bucket_2[i][-1])   \n",
    "    \"\"\"\n",
    "    return max_gap"
   ]
  },
  {
   "cell_type": "markdown",
   "metadata": {},
   "source": [
    "### Question 179: Largest Number"
   ]
  },
  {
   "cell_type": "code",
   "execution_count": 33,
   "metadata": {},
   "outputs": [],
   "source": [
    "def largestNumber(nums) -> str:\n",
    "    for i, n in enumerate(nums):\n",
    "        nums[i] = str(n)\n",
    "    def compare(n1, n2):\n",
    "        if n1 + n2 > n2 + n1:\n",
    "            return -1\n",
    "        else:\n",
    "            return 1\n",
    "    nums = sorted(nums, key = cmp_to_key(compare))\n",
    "    return str(int(\"\".join(nums)))"
   ]
  },
  {
   "cell_type": "markdown",
   "metadata": {},
   "source": [
    "### Question 220: Contains Duplicate III\n",
    "Given an integer array nums and two integers k and t, return true if there are two distinct indices i and j in the array such that abs(nums[i] - nums[j]) <= t and abs(i - j) <= k."
   ]
  },
  {
   "cell_type": "code",
   "execution_count": null,
   "metadata": {},
   "outputs": [],
   "source": [
    "def containsNearbyAlmostDuplicate(nums, k, t):\n",
    "    cache = {}\n",
    "    for i in range(len(nums)):\n",
    "        if i-k > 0:\n",
    "            del cache[nums[i-k-1]//(t+1)]\n",
    "        ID = nums[i]//(t+1)\n",
    "        C1 = (ID in cache)\n",
    "        C2 = ((ID-1 in cache and abs(cache[ID-1]-nums[i])<= t))\n",
    "        C3 = ((ID+1 in cache and abs(cache[ID+1]-nums[i])<= t))\n",
    "        if C1 or C2 or C3:\n",
    "            return True\n",
    "\n",
    "        cache[ID] = nums[i]\n",
    "        print((\"add\",ID,cache[ID]))\n",
    "    return False"
   ]
  },
  {
   "cell_type": "markdown",
   "metadata": {},
   "source": [
    "### Question 354: Russian Doll Envelopes\n",
    "You are given a 2D array of integers envelopes where envelopes[i] = [wi, hi] represents the width and the height of an envelope.\n",
    "\n",
    "One envelope can fit into another if and only if both the width and height of one envelope are greater than the other envelope's width and height.\n",
    "\n",
    "Return the maximum number of envelopes you can Russian doll (i.e., put one inside the other)."
   ]
  },
  {
   "cell_type": "code",
   "execution_count": 33,
   "metadata": {},
   "outputs": [],
   "source": [
    "# Dynamic Programming Solution\n",
    "def maxEnvelopes(envelopes):\n",
    "    n = len(envelopes)\n",
    "    if n==0:\n",
    "        return 0\n",
    "    envelopes.sort()\n",
    "    max_size = 1\n",
    "    DP = [1]*(n+1)\n",
    "    for i in range(1,n):\n",
    "        for j in range(0,i):\n",
    "            if (envelopes[i][0]>envelopes[j][0] and \n",
    "                envelopes[i][1]>envelopes[j][1] and \n",
    "                DP[i]<DP[j]+1):\n",
    "                DP[i]=DP[j]+1\n",
    "            if max_size < DP[i]:\n",
    "                max_size = DP[i]\n",
    "    return max(DP)"
   ]
  },
  {
   "cell_type": "code",
   "execution_count": 36,
   "metadata": {},
   "outputs": [],
   "source": [
    "# Longest Increasing Subsequence Solution\n",
    "def maxEnvelopes(envelopes):\n",
    "    # Sort with ascending first value and descending second value\n",
    "    envelopes.sort(key = lambda x: (x[0], -x[1]))\n",
    "    height = []\n",
    "    for w, h in envelopes:\n",
    "        height.append(h)\n",
    "    def LIS(array):\n",
    "        n = len(array)\n",
    "        top = [0 for _ in range(n)]\n",
    "        outcomes = 0\n",
    "        for i in range(n):\n",
    "            l = 0\n",
    "            r = outcomes\n",
    "            while l < r:\n",
    "                m = l+(r-l)//2\n",
    "                if top[m] < array[i]:\n",
    "                    l = m + 1\n",
    "                else:\n",
    "                    r = m\n",
    "            if l == outcomes:            \n",
    "                outcomes += 1              \n",
    "            top[l] = array[i]\n",
    "        return outcomes\n",
    "    return LIS(height)"
   ]
  },
  {
   "cell_type": "markdown",
   "metadata": {},
   "source": [
    "### Question 147: Insertion Sort\n",
    "Given the head of a singly linked list, sort the list using insertion sort, and return the sorted list's head.\n",
    "\n",
    "The steps of the insertion sort algorithm:\n",
    "\n",
    "Insertion sort iterates, consuming one input element each repetition and growing a sorted output list.\n",
    "At each iteration, insertion sort removes one element from the input data, finds the location it belongs within the sorted list and inserts it there.\n",
    "It repeats until no input elements remain."
   ]
  },
  {
   "cell_type": "code",
   "execution_count": null,
   "metadata": {},
   "outputs": [],
   "source": [
    "def insertionSortList(head):\n",
    "    dummy = ListNode(0,head)\n",
    "    prev,cur = head, head.next\n",
    "\n",
    "    while cur:\n",
    "        if cur.val >= prev.val:\n",
    "            prev,cur = cur,cur.next\n",
    "            continue\n",
    "        temp = dummy\n",
    "        while temp.next.val < cur.val:\n",
    "            temp = temp.next\n",
    "        prev.next = cur.next\n",
    "        cur.next = temp.next\n",
    "        temp.next = cur\n",
    "        cur = prev.next\n",
    "    return dummy.next"
   ]
  },
  {
   "cell_type": "markdown",
   "metadata": {},
   "source": [
    "### Question 88: Merge Sorted Array\n",
    "You are given two integer arrays nums1 and nums2, sorted in non-decreasing order, and two integers m and n, representing the number of elements in nums1 and nums2 respectively."
   ]
  },
  {
   "cell_type": "code",
   "execution_count": 45,
   "metadata": {},
   "outputs": [],
   "source": [
    "def merge(nums1, m, nums2, n):\n",
    "    i = m-1\n",
    "    j = n-1\n",
    "    index = m + n -1\n",
    "    while i >= 0 and j >= 0:\n",
    "        if(nums1[i] > nums2[j]):\n",
    "            nums1[index] = nums1[i]\n",
    "            index -= 1\n",
    "            i -= 1\n",
    "        else:\n",
    "            nums1[index] = nums2[j]\n",
    "            index -= 1\n",
    "            j -= 1\n",
    "    while i >= 0:\n",
    "        nums1[index] = nums1[i]\n",
    "        index -= 1\n",
    "        i -= 1      \n",
    "    while j >= 0:\n",
    "        nums1[index] = nums2[j]   \n",
    "        index -= 1\n",
    "        j -= 1"
   ]
  },
  {
   "cell_type": "markdown",
   "metadata": {},
   "source": [
    "### Question 455: Assign Cookies\n",
    "Each child i has a greed factor g[i], which is the minimum size of a cookie that the child will be content with; and each cookie j has a size s[j]. If s[j] >= g[i], we can assign the cookie j to the child i, and the child i will be content. Your goal is to maximize the number of your content children and output the maximum number."
   ]
  },
  {
   "cell_type": "code",
   "execution_count": null,
   "metadata": {},
   "outputs": [],
   "source": [
    "def findContentChildren(self, g: List[int], s: List[int]) -> int:\n",
    "    if not s:\n",
    "        return 0\n",
    "    g.sort()\n",
    "    s.sort()\n",
    "    ans = 0\n",
    "    pointer = 0\n",
    "    for i in range(len(g)):\n",
    "        if pointer >= len(s):\n",
    "            return ans\n",
    "        while s[pointer] < g[i]:\n",
    "            pointer += 1\n",
    "            if pointer == len(s):\n",
    "                return ans\n",
    "        ans += 1\n",
    "        pointer += 1\n",
    "        if i == len(g)-1:\n",
    "            return ans"
   ]
  },
  {
   "cell_type": "markdown",
   "metadata": {},
   "source": [
    "### Question 2122: Recover the Original Array\n",
    "lower[i] = arr[i] - k, for every index i where 0 <= i < n\n",
    "\n",
    "higher[i] = arr[i] + k, for every index i where 0 <= i < n\n",
    "\n",
    "Given an array nums consisting of 2n integers, where exactly n of the integers were present in lower and the remaining in higher, return the original array arr. In case the answer is not unique, return any valid array."
   ]
  },
  {
   "cell_type": "code",
   "execution_count": 17,
   "metadata": {},
   "outputs": [],
   "source": [
    "def recoverArray(self, nums):\n",
    "    # Define a helper function that does binary search on list\n",
    "    def Binary(num,L):\n",
    "        n = len(L)\n",
    "        left = 0\n",
    "        right = n-1\n",
    "        if L[0] == num:\n",
    "            return (True, 0)\n",
    "        if L[-1] == num:\n",
    "            return (True, right)\n",
    "        while left <= right:\n",
    "            mid = (left+right)//2\n",
    "            if L[mid] == num:\n",
    "                return (True, mid)\n",
    "            elif L[mid] > num:\n",
    "                right = mid-1\n",
    "            else:\n",
    "                left = mid+1\n",
    "        return (False,-1)\n",
    "\n",
    "    # Find all the possible k values after sorting\n",
    "    nums.sort()\n",
    "    kset = set([(nums[i]-nums[0])//2 for i in range(1,len(nums)) if (nums[i]-nums[0])%2 == 0])\n",
    "    if 0 in kset:\n",
    "        kset.remove(0)\n",
    "    for k in kset:\n",
    "        nums_temp = nums.copy()\n",
    "        arr = []\n",
    "        while nums_temp:\n",
    "            x = nums_temp.pop(0)\n",
    "            # Use the binary search to find corresponding original seq\n",
    "            Bool, Ind = Binary(x+2*k,nums_temp)\n",
    "            if Bool == False:\n",
    "                break\n",
    "            arr.append(x+k)\n",
    "            nums_temp.pop(Ind)\n",
    "        if not nums_temp:\n",
    "            return arr"
   ]
  },
  {
   "cell_type": "code",
   "execution_count": null,
   "metadata": {},
   "outputs": [],
   "source": [
    "def recoverArray(nums):\n",
    "    nums = sorted(nums)\n",
    "\n",
    "    possible_k = set()\n",
    "    for i in range(len(nums)):\n",
    "        diff = abs(nums[i]-nums[0])\n",
    "        if diff==0 or diff%2==1:\n",
    "            continue\n",
    "        possible_k.add(diff//2)\n",
    "\n",
    "    count = Counter(nums)\n",
    "\n",
    "    for k in possible_k:\n",
    "        ans = []\n",
    "        j = len(nums)-1\n",
    "        while j>=0:\n",
    "            num = nums[j]\n",
    "            if count[num]>0:\n",
    "                count[num]-=1\n",
    "                if count.get(num-2*k,0)>0:\n",
    "                    count[num-2*k]-=1\n",
    "                    ans.append(num-k)\n",
    "                else:\n",
    "                    count[num]+=1\n",
    "                    break\n",
    "            j-=1\n",
    "        if j==-1:\n",
    "            return ans\n",
    "        # Reset count\n",
    "        for v in ans:\n",
    "            count[v-k]+=1\n",
    "            count[v+k]+=1"
   ]
  },
  {
   "cell_type": "markdown",
   "metadata": {},
   "source": [
    "### Question 1402: Reducing Dishes\n",
    "A chef has collected data on the satisfaction level of his n dishes. Chef can cook any dish in 1 unit of time.\n",
    "\n",
    "Like-time coefficient of a dish is defined as the time taken to cook that dish including previous dishes multiplied by its satisfaction level i.e. time[i] * satisfaction[i].\n",
    "\n",
    "Return the maximum sum of like-time coefficient that the chef can obtain after dishes preparation."
   ]
  },
  {
   "cell_type": "code",
   "execution_count": 4,
   "metadata": {},
   "outputs": [],
   "source": [
    "def maxSatisfaction(satisfaction):\n",
    "    satisfaction.sort()\n",
    "    res = total = 0\n",
    "    while satisfaction and satisfaction[-1] + total > 0:\n",
    "        total += satisfaction.pop()\n",
    "        res += total\n",
    "    return res"
   ]
  },
  {
   "cell_type": "markdown",
   "metadata": {},
   "source": [
    "### Question 899: Orderly Queue\n",
    "You are given a string s and an integer k. You can choose one of the first k letters of s and append it at the end of the string..\n",
    "\n",
    "Return the lexicographically smallest string you could have after applying the mentioned step any number of moves."
   ]
  },
  {
   "cell_type": "code",
   "execution_count": 9,
   "metadata": {},
   "outputs": [],
   "source": [
    "def orderlyQueue(s,k):\n",
    "    if k < 2:\n",
    "        ans = s\n",
    "        for i in range(len(s)):\n",
    "            ans = min(ans,s[i:]+s[:i])\n",
    "        return ans\n",
    "    return \"\".join(sorted(s))"
   ]
  },
  {
   "cell_type": "markdown",
   "metadata": {},
   "source": [
    "### Question 857: Minimum Cost to Hire K Workers\n",
    "Every worker in the paid group should be paid in the ratio of their quality compared to other workers in the paid group.\n",
    "\n",
    "Every worker in the paid group must be paid at least their minimum wage expectation."
   ]
  },
  {
   "cell_type": "code",
   "execution_count": 24,
   "metadata": {},
   "outputs": [],
   "source": [
    "# In general, it is the max wage/quality of the group * total quality\n",
    "import heapq\n",
    "def mincostToHireWorkers(quality,wage,k):\n",
    "    quality_wage = []\n",
    "    for i in range(len(quality)):\n",
    "        quality_wage.append([wage[i]/quality[i],wage[i],quality[i]])\n",
    "    quality_wage.sort(key = lambda x:x[0])\n",
    "    cost,team,sum_quality = float(\"infinity\"),[],0\n",
    "    for ratio,w,q in quality_wage:\n",
    "        heapq.heappush(team,-q)\n",
    "        sum_quality += q\n",
    "        if len(team) > k:\n",
    "            sum_quality += heapq.heappop(team)\n",
    "        if len(team) == k:\n",
    "            cost = min(cost,sum_quality*ratio)\n",
    "    return cost"
   ]
  }
 ],
 "metadata": {
  "kernelspec": {
   "display_name": "Python 3",
   "language": "python",
   "name": "python3"
  },
  "language_info": {
   "codemirror_mode": {
    "name": "ipython",
    "version": 3
   },
   "file_extension": ".py",
   "mimetype": "text/x-python",
   "name": "python",
   "nbconvert_exporter": "python",
   "pygments_lexer": "ipython3",
   "version": "3.8.5"
  }
 },
 "nbformat": 4,
 "nbformat_minor": 4
}
