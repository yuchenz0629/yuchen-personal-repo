{
 "cells": [
  {
   "cell_type": "markdown",
   "metadata": {},
   "source": [
    "# Recursive algorithms general"
   ]
  },
  {
   "cell_type": "markdown",
   "metadata": {},
   "source": [
    "### Question 77: Combinations"
   ]
  },
  {
   "cell_type": "code",
   "execution_count": null,
   "metadata": {},
   "outputs": [],
   "source": [
    "def combine(self, n: int, k: int) -> List[List[int]]:\n",
    "    if k == 0:\n",
    "        return [[]]\n",
    "    return [pre + [i] for i in range(k, n+1) for pre in self.combine(i-1, k-1)]"
   ]
  },
  {
   "cell_type": "markdown",
   "metadata": {},
   "source": [
    "### Question 109: Convert Sorted List to Binary Search Tree"
   ]
  },
  {
   "cell_type": "code",
   "execution_count": null,
   "metadata": {},
   "outputs": [],
   "source": [
    "class Solution: \n",
    "    def sortedListToBST(head):\n",
    "        if not head:\n",
    "            return None\n",
    "        if not head.next:\n",
    "            return TreeNode(head.val)\n",
    "        slow = fast = head\n",
    "        pre = None\n",
    "        while fast and fast.next:\n",
    "            pre = slow\n",
    "            slow = slow.next\n",
    "            fast = fast.next.next\n",
    "        pre.next = None\n",
    "        \n",
    "        root = TreeNode(slow.val)\n",
    "        root.left = self.sortedListToBST(head)\n",
    "        root.right = self.sortedListToBST(slow.next)\n",
    "        return root"
   ]
  },
  {
   "cell_type": "markdown",
   "metadata": {},
   "source": [
    "### Question 206: Reverse Linked List\n",
    "Given the head of a singly linked list, reverse the list, and return the reversed list."
   ]
  },
  {
   "cell_type": "code",
   "execution_count": null,
   "metadata": {},
   "outputs": [],
   "source": [
    "def reverseList(head):\n",
    "    if not head:\n",
    "        return None\n",
    "    if not head.next:\n",
    "        return head\n",
    "    pre = ListNode(0)\n",
    "    nxt = head.next\n",
    "    while head and nxt:\n",
    "        head.next = pre\n",
    "        pre = head\n",
    "        head = nxt\n",
    "        nxt = nxt.next\n",
    "    head.next = pre\n",
    "    dummy = ListNode(0,head)\n",
    "    head = dummy\n",
    "    while head and head.next and head.next.next:\n",
    "        head = head.next\n",
    "    head.next = None\n",
    "    return dummy.next"
   ]
  },
  {
   "cell_type": "markdown",
   "metadata": {},
   "source": [
    "### Question 208, Recursive Tree (Trie)"
   ]
  },
  {
   "cell_type": "code",
   "execution_count": null,
   "metadata": {},
   "outputs": [],
   "source": [
    "class TrieNode:\n",
    "    def __init__(self):\n",
    "        self.children = {}  # Use a hash map to \n",
    "        self.EndOfWord = False  # Check whether a letter is the end of a word\n",
    "        # Inserting a node: children[\"a\"] = TrieNode()\n",
    "\n",
    "class Trie:\n",
    "    def __init__(self):\n",
    "        self.root = TrieNode()\n",
    "    def insert(self, word):\n",
    "        # Initially start at the root\n",
    "        cur = self.root\n",
    "        for c in word:\n",
    "            if c not in cur.children:\n",
    "                cur.children[c] = TrieNode()\n",
    "            # If already exists: move to the children\n",
    "            cur = cur.children[c]\n",
    "        # After looping over the length of the word: mark end\n",
    "        cur.EndOfWord = True\n",
    "    def search(self, word):\n",
    "        cur = self.root\n",
    "        for c in word:\n",
    "            if c not in cur.children:\n",
    "                return False\n",
    "            # Else: update the cur to the child node of that character\n",
    "            cur = cur.children[c]\n",
    "        # If the last one has EndOfWord variable true: return true. Else not.\n",
    "        return cur.EndOfWord\n",
    "    \n",
    "    def startsWith(self, prefix):\n",
    "        cur = self.root\n",
    "        \n",
    "        for c in prefix:\n",
    "            if c not in cur.children:\n",
    "                return False\n",
    "            cur = cur.children[c]\n",
    "        return True"
   ]
  },
  {
   "cell_type": "markdown",
   "metadata": {},
   "source": [
    "### Merging K sorted lists\n",
    "### Question 21/23\n",
    "### Heaps / Priority Queue"
   ]
  },
  {
   "cell_type": "code",
   "execution_count": null,
   "metadata": {},
   "outputs": [],
   "source": [
    "# First we need to define a function that merges two lists\n",
    "def mergeList(self, l1, l2):\n",
    "    dummy = ListNode()\n",
    "    tail = dummy\n",
    "    while l1 and l2:\n",
    "        if l1.val < l2.val:\n",
    "            tail.next = l1\n",
    "            l1 = l1.next\n",
    "        else:\n",
    "            tail.next = l2\n",
    "            l2 = l2.next\n",
    "        tail = tail.next\n",
    "    if l1:\n",
    "        tail.next = l1\n",
    "    if l2:\n",
    "        tail.next = l2\n",
    "    return dummy.next\n",
    "    \n",
    "def mergeKLists(self, lists):\n",
    "    if not lists or len(lists) == 0:\n",
    "        return None\n",
    "    # Else: taking two and merging them each time\n",
    "    # Repeat merging until there is only one remaining\n",
    "    while len(lists) > 1:\n",
    "        mergedList = []\n",
    "        \n",
    "        # Increment by 2 because we are iterating (merging) two at a time\n",
    "        for i in range(0, len(lists), 2):\n",
    "            l1 = lists[i]\n",
    "            l2 = lists[i+1] if (i+1) < len(lists) else None\n",
    "            mergedList.append(self.mergeList(l1, l2))\n",
    "        lists = mergedList\n",
    "    return lists[0]"
   ]
  },
  {
   "cell_type": "markdown",
   "metadata": {},
   "source": [
    "### Combination Sum\n",
    "### Question 39\n",
    "### Backtracking"
   ]
  },
  {
   "cell_type": "code",
   "execution_count": 13,
   "metadata": {},
   "outputs": [],
   "source": [
    "\"\"\"\n",
    "What if instead of adding up, subtract from the final result？\n",
    "Stop condition：No matter how we subtract, stop at only the candidates remaining\n",
    "\"\"\"\n",
    "def combinationSum(candidates, target):\n",
    "    ans = []\n",
    "    if len(candidates) == 0:\n",
    "        return []\n",
    "    elif len(candidates) == 1:\n",
    "        if candidates[0] == target:\n",
    "            return [candidates]\n",
    "        else:\n",
    "            return []\n",
    "    else:\n",
    "        for i in range(len(candidates)):\n",
    "            ans.append(combinationSum(candidates[:i] + candidates[i+1:], target - candidates[i]))\n",
    "    return ans"
   ]
  },
  {
   "cell_type": "code",
   "execution_count": 19,
   "metadata": {},
   "outputs": [],
   "source": [
    "def combinationSum(candidates, target):\n",
    "    ans = []\n",
    "    \n",
    "    def dfs(i, cur, total):\n",
    "        if total == target:\n",
    "            # Want to use cur for other purposes, so create a copy\n",
    "            ans.append(cur.copy())\n",
    "            return\n",
    "        elif i >= len(candidates) or total > target:\n",
    "            return\n",
    "        # First recursion: include the ith element\n",
    "        cur.append(candidates[i])\n",
    "        dfs(i, cur, total+candidates[i])\n",
    "        # Second recursion: not include the ith element\n",
    "        cur.pop()\n",
    "        dfs(i+1, cur, total)\n",
    "        \n",
    "    dfs(0,[],0)\n",
    "    return ans"
   ]
  },
  {
   "cell_type": "markdown",
   "metadata": {},
   "source": [
    "### Question 2240: Number of Ways to Buy Pens and Pencils\n",
    "You are given an integer total indicating the amount of money you have. You are also given two integers cost1 and cost2 indicating the price of a pen and pencil respectively. You can spend part or all of your money to buy multiple quantities (or none) of each kind of writing utensil.\n",
    "\n",
    "Return the number of distinct ways you can buy some number of pens and pencils."
   ]
  },
  {
   "cell_type": "code",
   "execution_count": null,
   "metadata": {},
   "outputs": [],
   "source": [
    "# Recursive algorithm\n",
    "def waysToBuyPensPencils(total, cost1,cost2):\n",
    "    return 0 if total < 0 else 1 + total//cost2 + self.waysToBuyPensPencils(total-cost1,cost1,cost2);"
   ]
  },
  {
   "cell_type": "code",
   "execution_count": null,
   "metadata": {},
   "outputs": [],
   "source": [
    "# simple way\n",
    "def waysToBuyPensPencils(total, cost1, cost2):\n",
    "    ans = 1\n",
    "    for i in range(total//cost1):\n",
    "        num_2 = (total-i*cost1)//cost2\n",
    "        ans+=(num_2+1)\n",
    "    return ans"
   ]
  },
  {
   "cell_type": "markdown",
   "metadata": {},
   "source": [
    "### Question 60: Permutation Sequence\n",
    "The set [1, 2, 3, ..., n] contains a total of n! unique permutations.Given n and k, return the kth permutation sequence."
   ]
  },
  {
   "cell_type": "code",
   "execution_count": 96,
   "metadata": {},
   "outputs": [],
   "source": [
    "import numpy as np\n",
    "import math\n",
    "def getPermutation(n: int, k: int):\n",
    "    L = list(np.arange(n)+1)\n",
    "    ans = \"\"\n",
    "    while L:\n",
    "        if k == 1:\n",
    "            for i in range(len(L)):\n",
    "                ans = ans + str(L[i])\n",
    "            L = None\n",
    "        else:\n",
    "            index = (k-1)//math.factorial(len(L)-1)\n",
    "            k = k-(index)*math.factorial(len(L)-1)\n",
    "            ans = ans+str(L[index])\n",
    "            L.remove(L[index])\n",
    "    return ans"
   ]
  },
  {
   "cell_type": "markdown",
   "metadata": {},
   "source": [
    "### Question 221: Maximal Square\n",
    "Given an m x n binary matrix filled with 0's and 1's, find the largest square containing only 1's and return its area."
   ]
  },
  {
   "cell_type": "code",
   "execution_count": null,
   "metadata": {},
   "outputs": [],
   "source": [
    "\"\"\"\n",
    "Use recursion: start from the top left corner on all its three incoming directions\n",
    "\"\"\" \n",
    "def maximalSquare(matrix):\n",
    "    R, C = len(matrix),len(matrix[0])\n",
    "    cache = {} # Maps from the position to the max area from that position\n",
    "    \n",
    "    # Define a helper function that takes in values from all three directions\n",
    "    def helper(r,c):\n",
    "        if r>=R or c>=C:\n",
    "            return 0\n",
    "        if (r,c) not in cache:\n",
    "            down = helper(r+1,c)\n",
    "            right = helper(r,c+1)\n",
    "            diag = helper(r+1,c+1)\n",
    "            \n",
    "            cache[(r,c)] = 0\n",
    "            if matrix[r][c] == \"1\":\n",
    "                cache[(r,c)] = 1+min(down,right,diag)\n",
    "        return cache[(r,c)]\n",
    "    helper(0,0)\n",
    "    return max(cache.values())**2"
   ]
  },
  {
   "cell_type": "markdown",
   "metadata": {},
   "source": [
    "### Question 10: Regular Expression Matching\n",
    "Given an input string s and a pattern p, implement regular expression matching with support for '.' and '*' where:\n",
    "\n",
    "'.' Matches any single character.\n",
    "'*' Matches zero or more of the preceding element.\n",
    "The matching should cover the entire input string (not partial)"
   ]
  },
  {
   "cell_type": "code",
   "execution_count": null,
   "metadata": {},
   "outputs": [],
   "source": [
    "# Method 1: simple recursion\n",
    "def isMatch(s,p):\n",
    "    # First define a helper function to track the pointers in s and p\n",
    "    def dfs(i,j):\n",
    "        # If both out of bounds: means we're done with both of them\n",
    "        if i>=len(s) and j>=len(p):\n",
    "            return True\n",
    "        if j>=len(p):\n",
    "            return False\n",
    "        \n",
    "        match = i<len(s) and (s[i]==p[j] or p[j]==\".\")\n",
    "        if (j+1)<len(p) and p[j+1]==\"*\":\n",
    "            # Either not use the star or use the star if there s a match\n",
    "            return dfs(i,j+2) or (match and dfs(i+1,j))\n",
    "        if match:\n",
    "            return dfs(i+1,j+1)\n",
    "        return False\n",
    "    return dfs(0,0)"
   ]
  },
  {
   "cell_type": "code",
   "execution_count": null,
   "metadata": {},
   "outputs": [],
   "source": [
    "# Method 2: caching\n",
    "def isMatch(s,p):\n",
    "    cache = {}\n",
    "    # First define a helper function to track the pointers in s and p\n",
    "    def dfs(i,j):\n",
    "        # Check whether they are already in cache\n",
    "        if (i,j) in cache:\n",
    "            return cache[(i,j)]\n",
    "        # If both out of bounds: means we're done with both of them\n",
    "        if i>=len(s) and j>=len(p):\n",
    "            return True\n",
    "        if j>=len(p):\n",
    "            return False\n",
    "        \n",
    "        match = i<len(s) and (s[i]==p[j] or p[j]==\".\")\n",
    "        if (j+1)<len(p) and p[j+1]==\"*\":\n",
    "            # Either not use the star or use the star if there s a match\n",
    "            cache[(i,j)] = dfs(i,j+2) or (match and dfs(i+1,j))\n",
    "            return cache[(i,j)]\n",
    "        if match:\n",
    "            cache[(i,j)] = dfs(i+1,j+1)\n",
    "            return cache[(i,j)]\n",
    "        cache[(i,j)] = False\n",
    "        return False\n",
    "    return dfs(0,0)"
   ]
  },
  {
   "cell_type": "markdown",
   "metadata": {},
   "source": [
    "### Question 224: Basic Calculator\n",
    "Given a string s representing a valid expression, implement a basic calculator to evaluate it, and return the result of the evaluation."
   ]
  },
  {
   "cell_type": "code",
   "execution_count": 6,
   "metadata": {},
   "outputs": [],
   "source": [
    "def calculate(s):\n",
    "    output,cur,sign,stack = 0,0,1,[]\n",
    "    for c in s:\n",
    "        if c.isdigit():\n",
    "            cur = 10*cur+int(c)\n",
    "        elif c in \"+-\":\n",
    "            output += cur*sign\n",
    "            # cur = 0\n",
    "            if c == \"+\":\n",
    "                sign = 1\n",
    "            else:\n",
    "                sign = -1\n",
    "            cur = 0\n",
    "        elif c == \"(\":\n",
    "            stack.append(output)\n",
    "            stack.append(sign)\n",
    "            output = 0\n",
    "            sign = 1\n",
    "        elif c == \")\":\n",
    "            output += cur*sign\n",
    "            output *= stack.pop()\n",
    "            output += stack.pop()\n",
    "            cur = 0\n",
    "    return output + cur*sign"
   ]
  },
  {
   "cell_type": "markdown",
   "metadata": {},
   "source": [
    "### Question 233: Number of Digit One\n",
    "Given an integer n, count the total number of digit 1 appearing in all non-negative integers less than or equal to n."
   ]
  },
  {
   "cell_type": "code",
   "execution_count": 54,
   "metadata": {},
   "outputs": [],
   "source": [
    "def countOne(n):\n",
    "    if n < 10:\n",
    "        if n >= 1:\n",
    "            return 1\n",
    "        else:\n",
    "            return 0\n",
    "    count = [0]*(len(str(n))-1)\n",
    "    count[0] = 1\n",
    "    for i in range(1,len(count)):\n",
    "        count[i] = 10*count[i-1]+10**(i)\n",
    "    nums = [str(n)[i] for i in range(len(str(n))-1,-1,-1)]\n",
    "    total = 0\n",
    "    for i in range(len(nums)-1,0,-1):\n",
    "        temp = int(nums[i])\n",
    "        if temp > 1:\n",
    "            total += temp*count[i-1]+10**i\n",
    "        elif temp == 1:\n",
    "            total += count[i-1] + n%10**i+1\n",
    "        elif temp == 0:\n",
    "            continue\n",
    "    if int(nums[0]) >= 1:\n",
    "        total += 1\n",
    "    return total"
   ]
  },
  {
   "cell_type": "markdown",
   "metadata": {},
   "source": [
    "### Question 131: Palindrome Partitioning\n",
    "Given a string s, partition s such that every substring of the partition is a palindrome. Return all possible palindrome partitioning of s.\n",
    "\n",
    "A palindrome string is a string that reads the same backward as forward."
   ]
  },
  {
   "cell_type": "code",
   "execution_count": 36,
   "metadata": {},
   "outputs": [],
   "source": [
    "def isPalin(s,left,right):\n",
    "    while left <= right:\n",
    "        if s[left] != s[right]:\n",
    "            return False\n",
    "        if s[left] == s[right]:\n",
    "            left += 1\n",
    "            right -= 1\n",
    "    return True\n",
    "def minCut(s):\n",
    "    res = []\n",
    "    part = []\n",
    "    def dfs(i):\n",
    "        if i >= len(s):\n",
    "            res.append(part.copy())\n",
    "            return\n",
    "        for j in range(i,len(s)):\n",
    "            if isPalin(s,i,j):\n",
    "                part.append(s[i:j+1])\n",
    "                dfs(j+1)\n",
    "                part.pop()\n",
    "    dfs(0)\n",
    "    return res"
   ]
  },
  {
   "cell_type": "markdown",
   "metadata": {},
   "source": [
    "### Question 273: Integer to English Words\n",
    "Convert a non-negative integer num to its English words representation."
   ]
  },
  {
   "cell_type": "code",
   "execution_count": 3,
   "metadata": {},
   "outputs": [],
   "source": [
    "def numberToWords(num: int) -> str:\n",
    "    to19 = 'One Two Three Four Five Six Seven Eight Nine Ten Eleven Twelve Thirteen Fourteen Fifteen Sixteen Seventeen Eighteen Nineteen'.split(\" \")\n",
    "    tens = 'Twenty Thirty Forty Fifty Sixty Seventy Eighty Ninety'.split(\" \")\n",
    "    def words(n):\n",
    "        if n < 20:\n",
    "            return to19[n-1:n]\n",
    "        if n < 100:\n",
    "            return [tens[n//10-2]] + words(n%10)\n",
    "        if n < 1000:\n",
    "            return [to19[n//100-1]] + ['Hundred'] + words(n%100)\n",
    "        for p, w in enumerate(('Thousand', 'Million', 'Billion'), 1):\n",
    "            if n < 1000**(p+1):\n",
    "                return words(n//1000**p) + [w] + words(n%1000**p)\n",
    "    return ' '.join(words(num)) or 'Zero'"
   ]
  },
  {
   "cell_type": "markdown",
   "metadata": {},
   "source": [
    "### Question 326: Power of Three"
   ]
  },
  {
   "cell_type": "code",
   "execution_count": null,
   "metadata": {},
   "outputs": [],
   "source": [
    "def isPowerOfThree(n):\n",
    "    if n <= 0:\n",
    "        return False\n",
    "    while n > 1:\n",
    "        if n % 3 != 0:\n",
    "            return False\n",
    "        n = n//3\n",
    "    return True"
   ]
  },
  {
   "cell_type": "markdown",
   "metadata": {},
   "source": [
    "### Question 761: Special Binary String\n",
    "The number of 0's is equal to the number of 1's.\n",
    "\n",
    "Every prefix of the binary string has at least as many 1's as 0's.\n",
    "\n",
    "A move consists of choosing two consecutive, non-empty, special substrings of s, and swapping them. Two strings are consecutive if the last character of the first string is exactly one index before the first character of the second string.\n",
    "\n",
    "Return the lexicographically largest resulting string possible after applying the mentioned operations on the string."
   ]
  },
  {
   "cell_type": "code",
   "execution_count": null,
   "metadata": {},
   "outputs": [],
   "source": [
    "def makeLargestSpecial(s: str) -> str:\n",
    "    count, i = 0, 0\n",
    "    res = []\n",
    "    for j, v in enumerate(s):\n",
    "        if v == \"1\":\n",
    "            count += 1\n",
    "        else: \n",
    "            count -= 1\n",
    "        if count == 0:\n",
    "            res.append('1' + self.makeLargestSpecial(s[i + 1:j]) + '0')\n",
    "            i = j+1\n",
    "    return \"\".join(sorted(res)[::-1])"
   ]
  }
 ],
 "metadata": {
  "kernelspec": {
   "display_name": "Python 3",
   "language": "python",
   "name": "python3"
  },
  "language_info": {
   "codemirror_mode": {
    "name": "ipython",
    "version": 3
   },
   "file_extension": ".py",
   "mimetype": "text/x-python",
   "name": "python",
   "nbconvert_exporter": "python",
   "pygments_lexer": "ipython3",
   "version": "3.8.5"
  }
 },
 "nbformat": 4,
 "nbformat_minor": 4
}
