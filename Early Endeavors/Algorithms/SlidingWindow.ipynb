{
 "cells": [
  {
   "cell_type": "markdown",
   "metadata": {},
   "source": [
    "# Sliding Window"
   ]
  },
  {
   "cell_type": "code",
   "execution_count": null,
   "metadata": {},
   "outputs": [],
   "source": []
  },
  {
   "cell_type": "markdown",
   "metadata": {},
   "source": [
    "### Question 76: Minimum Window Substring\n",
    "Given two strings s and t of lengths m and n respectively, return the minimum window substring of s such that every character in t (including duplicates) is included in the window. If there is no such substring, return the empty string \"\"."
   ]
  },
  {
   "cell_type": "code",
   "execution_count": 29,
   "metadata": {},
   "outputs": [],
   "source": [
    "\"\"\"\n",
    "Define two hash maps that tracks T's components and how many of those in the window\n",
    "\"\"\"\n",
    "def minWindow(s,t):\n",
    "    if t == \"\": return \"\"\n",
    "    countT, window = {}, {}\n",
    "    # Initialize the countT hash map\n",
    "    for c in t:\n",
    "        countT[c] = countT.get(c,0)+1\n",
    "    # Initialize how much we have and how much characters we need\n",
    "    have, need = 0, len(countT)\n",
    "    # Initialze the result with left and right index\n",
    "    res = [-1, -1]\n",
    "    # Initialize left pointer and minimum result length\n",
    "    left, Len = 0, float(\"infinity\")\n",
    "    for i in range(len(s)):\n",
    "        c = s[i]\n",
    "        window[c] = window.get(c,0)+1\n",
    "        # Consider those that correspond to some in t\n",
    "        if c in countT and window[c] == countT[c]:\n",
    "            have += 1\n",
    "        # Run a while loop when they are equal, update left pointer to until they aren't\n",
    "        while have == need:\n",
    "            if (i-left+1) < Len:\n",
    "                res = [left, i]\n",
    "                Len = i-left+1\n",
    "            # Remove from the left side\n",
    "            window[s[left]] -= 1\n",
    "            if s[left] in countT and window[s[left]] < countT[s[left]]:\n",
    "                have -= 1\n",
    "            left += 1\n",
    "    left, right = res\n",
    "    return s[left:right+1] if Len < float(\"infinity\") else \"\""
   ]
  },
  {
   "cell_type": "markdown",
   "metadata": {},
   "source": [
    "### 187: Repeated DNA Sequences\n",
    "Given a string s that represents a DNA sequence, return all the 10-letter-long sequences (substrings) that occur more than once in a DNA molecule. You may return the answer in any order."
   ]
  },
  {
   "cell_type": "code",
   "execution_count": 3,
   "metadata": {},
   "outputs": [],
   "source": [
    "def findRepeatedDnaSequences(s):\n",
    "    ans = set()\n",
    "    Dict = {}\n",
    "    if len(s) < 10:\n",
    "        return []\n",
    "    window = sum([(ord(s[i])-ord(\"A\"))*26**(9-i) for i in range(10)])\n",
    "    Dict[window] = s[:10]\n",
    "    for i in range(1,len(s)-9):\n",
    "        window -= (ord(s[i-1])-ord(\"A\"))*26**9\n",
    "        window = window*26+ord(s[i+9])-ord(\"A\")\n",
    "        if window not in Dict:\n",
    "            Dict[window] = s[i:i+10]\n",
    "        else:\n",
    "            ans.add(Dict[window])\n",
    "    return ans"
   ]
  },
  {
   "cell_type": "markdown",
   "metadata": {},
   "source": [
    "### Question 209: Minimum Size Subarray Sum\n",
    "Given an array of positive integers nums and a positive integer target, return the minimal length of a contiguous subarray [numsl, numsl+1, ..., numsr-1, numsr] of which the sum is greater than or equal to target. If there is no such subarray, return 0 instead."
   ]
  },
  {
   "cell_type": "code",
   "execution_count": null,
   "metadata": {},
   "outputs": [],
   "source": [
    "def minSubArrayLen(target, nums):\n",
    "    left,right = 0,0\n",
    "    ans = float(\"infinity\")\n",
    "    cumsum = [0]\n",
    "    for i in range(len(nums)):\n",
    "        cumsum.append(cumsum[-1]+nums[i])\n",
    "    left = 0\n",
    "    for i in range(1,len(cumsum)):\n",
    "        if cumsum[i] - cumsum[left] < target:\n",
    "            continue\n",
    "        while cumsum[i] - cumsum[left] >= target:\n",
    "            left += 1\n",
    "        ans = min(ans,i-left+1)\n",
    "    return ans if ans != float(\"infinity\") else 0"
   ]
  },
  {
   "cell_type": "markdown",
   "metadata": {},
   "source": [
    "### Question 219: Contains Duplicate II\n",
    "Given an integer array nums and an integer k, return true if there are two distinct indices i and j in the array such that nums[i] == nums[j] and abs(i - j) <= k."
   ]
  },
  {
   "cell_type": "code",
   "execution_count": null,
   "metadata": {},
   "outputs": [],
   "source": [
    "def containsNearbyDuplicate(nums, k: int) -> bool:\n",
    "    Dict = {}\n",
    "    for i, n in enumerate(nums):\n",
    "        if n in Dict and i - Dict[n] <= k:\n",
    "            return True\n",
    "        Dict[n] = i\n",
    "    return False"
   ]
  },
  {
   "cell_type": "markdown",
   "metadata": {},
   "source": [
    "### Question 239: Sliding Window Maximum\n",
    "You are given an array of integers nums, there is a sliding window of size k which is moving from the very left of the array to the very right. You can only see the k numbers in the window. Each time the sliding window moves right by one position."
   ]
  },
  {
   "cell_type": "code",
   "execution_count": 32,
   "metadata": {},
   "outputs": [],
   "source": [
    "import collections\n",
    "def maxSlidingWindow(nums, k):\n",
    "    output = []\n",
    "    left = right = 0\n",
    "    q = collections.deque()\n",
    "    \n",
    "    while right < len(nums):\n",
    "        # Pop smaller values until the new input makes the smallest\n",
    "        while q and nums[q[-1]] < nums[right]:\n",
    "            q.pop()\n",
    "        q.append(right)\n",
    "        # Remove from left if it is out of bounds\n",
    "        if left > q[0]:\n",
    "            q.popleft()\n",
    "        # Make sure the window is at least size k\n",
    "        if (right+1) >= k:\n",
    "            output.append(nums[q[0]])\n",
    "            left += 1\n",
    "        right += 1\n",
    "    return output"
   ]
  },
  {
   "cell_type": "markdown",
   "metadata": {},
   "source": [
    "### Question 480: Sliding Window Median\n",
    "You are given an integer array nums and an integer k. There is a sliding window of size k which is moving from the very left of the array to the very right. You can only see the k numbers in the window. Each time the sliding window moves right by one position."
   ]
  },
  {
   "cell_type": "code",
   "execution_count": 71,
   "metadata": {},
   "outputs": [],
   "source": [
    "\"\"\"\n",
    "Use two heaps: min heap and max heap\n",
    "    min heap: from bottom to top: descending order\n",
    "    max heap: from bottom to top: ascending order\n",
    "    maintain that size of min heap is larger or equal to that of max heap\n",
    "For each insertion:\n",
    "    1. Insert to the min heap\n",
    "    2. Move the top element of min heap to max\n",
    "    3. If size of max is larger than that of min: move its top to min\n",
    "\"\"\"\n",
    "import heapq\n",
    "def medianSlidingWindow(nums,k):\n",
    "    # Construct a vector to store the medians\n",
    "    ans = []\n",
    "    \n",
    "    # Define an append function?\n",
    "    \n",
    "    Min,Max = [],[]\n",
    "    # Initialize the heaps\n",
    "    for i in range(k):\n",
    "        # Pop to the min heap\n",
    "        heapq.heappush(Min,nums[i])\n",
    "        # Move the first element of min heap to max\n",
    "        val = heapq.heappop(Min)\n",
    "        heapq.heappush(Max,-val)\n",
    "        if len(Max) > len(Min):\n",
    "            val = -heapq.heappop(Max)\n",
    "            heapq.heappush(Min,val)\n",
    "    if k%2 == 0:\n",
    "        ans.append((Min[0]-Max[0])/2)\n",
    "    if k%2 == 1:\n",
    "        ans.append(Min[0])\n",
    "\n",
    "    # Then: move the window to the end\n",
    "    for i in range(len(nums)-k):\n",
    "        # Remove the element that went out of bounds\n",
    "        if nums[i] in Min:\n",
    "            Min.remove(nums[i])\n",
    "            heapq.heapify(Min)\n",
    "        elif -nums[i] in Max:\n",
    "            Max.remove(-nums[i])\n",
    "            heapq.heapify(Max)\n",
    "        if len(Max) > len(Min):\n",
    "            val = -heapq.heappop(Max)\n",
    "            heapq.heappush(Min,val)\n",
    "        # Insert the new element\n",
    "        heapq.heappush(Min,nums[i+k])\n",
    "        val = heapq.heappop(Min)\n",
    "        heapq.heappush(Max,-val)\n",
    "        if len(Max) > len(Min):\n",
    "            val = -heapq.heappop(Max)\n",
    "            heapq.heappush(Min,val)\n",
    "        if k%2 == 0:\n",
    "            ans.append((Min[0]-Max[0])/2)\n",
    "        if k%2 == 1:\n",
    "            ans.append(Min[0])\n",
    "    return ans"
   ]
  },
  {
   "cell_type": "markdown",
   "metadata": {},
   "source": [
    "### Question 632: Smallest Range Covering Elements from K Lists\n",
    "You have k lists of sorted integers in non-decreasing order. Find the smallest range that includes at least one number from each of the k lists."
   ]
  },
  {
   "cell_type": "code",
   "execution_count": 25,
   "metadata": {},
   "outputs": [],
   "source": [
    "\"\"\"\n",
    "Use a priority queue to store the current window convering all lists\n",
    "and the list index of each element in the window\n",
    "\"\"\"\n",
    "import heapq\n",
    "def smallestRange(nums):\n",
    "    queue = []\n",
    "    n = len(nums)\n",
    "    Max = 0\n",
    "    # Initialize the queue\n",
    "    for i in n:\n",
    "        heapq.heappush(queue,(nums[i][0],i,0))\n",
    "        Max = max(Max,nums[i][0])\n",
    "    ans = [queue[0][0],Max]\n",
    "    while True:\n",
    "        _, list_index, num_index = heapq.heappop(queue)\n",
    "        # If it reaches the end\n",
    "        if num_index == len(num[list_index]) - 1:\n",
    "            break\n",
    "        # Find the next number and push it into the queue\n",
    "        next_num = nums[list_index][num_index+1]\n",
    "        Max = max(Max,next_num)\n",
    "        heapq.heappush(queue,(next_num,list_index,num_index+1))\n",
    "        # Compare the range\n",
    "        if Max-queue[0][0]<ans[1]-ans[0]:\n",
    "            ans = [queue[0][0],Max]\n",
    "    return ans"
   ]
  },
  {
   "cell_type": "markdown",
   "metadata": {},
   "source": [
    "### Question 643: Maximum Average Subarray I\n",
    "You are given an integer array nums consisting of n elements, and an integer k.\n",
    "Find a contiguous subarray whose length is equal to k that has the maximum average value and return this value"
   ]
  },
  {
   "cell_type": "code",
   "execution_count": null,
   "metadata": {},
   "outputs": [],
   "source": [
    "def findMaxAverage(nums, k):\n",
    "    if len(nums) == 1:\n",
    "        return nums[0]\n",
    "\n",
    "    window = sum(nums[:k])\n",
    "    M = window\n",
    "    for i in range(1,len(nums)-k+1):\n",
    "        window =  window-nums[i-1]+nums[i-1+k]\n",
    "        M = max(M,window)\n",
    "    return M/k"
   ]
  },
  {
   "cell_type": "markdown",
   "metadata": {},
   "source": [
    "### Question 862: Shortest Subarray with Sum at Least K\n",
    "Given an integer array nums and an integer k, return the length of the shortest non-empty subarray of nums with a sum of at least k. If there is no such subarray, return -1."
   ]
  },
  {
   "cell_type": "code",
   "execution_count": 19,
   "metadata": {},
   "outputs": [],
   "source": [
    "import collections\n",
    "def shortestSubarray(nums, k: int) -> int:\n",
    "    n = len(nums)\n",
    "    res = float(\"inf\")\n",
    "    presum = [0]*(n+1)\n",
    "    for i in range(n):\n",
    "        presum[i+1] = presum[i]+nums[i]\n",
    "    q = collections.deque()\n",
    "    \n",
    "    for i in range(n+1):\n",
    "        # Maintain that the entire thing is monotonically increasing\n",
    "        # while keeping the index\n",
    "        while q and presum[i] <= presum[q[-1]]:\n",
    "            q.pop()\n",
    "        # Find the min while popping\n",
    "        while q and presum[i] - presum[q[0]] >= k:\n",
    "            res = min(res,i-q.popleft())\n",
    "        q.append(i)\n",
    "    if res == float(\"inf\"):\n",
    "        return -1\n",
    "    return res"
   ]
  },
  {
   "cell_type": "markdown",
   "metadata": {},
   "source": [
    "### Question 2302: Count Subarrays With Score Less Than K\n",
    "Given a positive integer array nums and an integer k, return the number of non-empty subarrays of nums whose score is strictly less than k."
   ]
  },
  {
   "cell_type": "code",
   "execution_count": 18,
   "metadata": {},
   "outputs": [],
   "source": [
    "def countSubarrays(nums,k):\n",
    "    res = curr_sum = i = 0\n",
    "    for j in range(len(nums)):\n",
    "        curr_sum += nums[j]\n",
    "        while curr_sum * (j-i+1) >= k:\n",
    "            curr_sum -= nums[i]\n",
    "            i += 1\n",
    "        res += j-i+1\n",
    "    return res"
   ]
  }
 ],
 "metadata": {
  "kernelspec": {
   "display_name": "Python 3",
   "language": "python",
   "name": "python3"
  },
  "language_info": {
   "codemirror_mode": {
    "name": "ipython",
    "version": 3
   },
   "file_extension": ".py",
   "mimetype": "text/x-python",
   "name": "python",
   "nbconvert_exporter": "python",
   "pygments_lexer": "ipython3",
   "version": "3.8.5"
  }
 },
 "nbformat": 4,
 "nbformat_minor": 4
}
