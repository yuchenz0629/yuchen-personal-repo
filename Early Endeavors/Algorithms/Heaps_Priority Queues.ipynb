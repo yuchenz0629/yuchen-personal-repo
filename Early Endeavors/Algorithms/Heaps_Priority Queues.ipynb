{
 "cells": [
  {
   "cell_type": "markdown",
   "metadata": {},
   "source": [
    "# Heaps / Priority Queue"
   ]
  },
  {
   "cell_type": "markdown",
   "metadata": {},
   "source": [
    "### Question 215. Kth Largest Element in an Array\n",
    "Given an integer array nums and an integer k, return the kth largest element in the array."
   ]
  },
  {
   "cell_type": "code",
   "execution_count": 27,
   "metadata": {},
   "outputs": [],
   "source": [
    "import heapq\n",
    "def findKthLargest(nums,k):\n",
    "    heap = []\n",
    "    for i in range(k):\n",
    "        heapq.heappush(heap,nums[i])\n",
    "    for i in range(k,len(nums)):\n",
    "        if nums[i] <= heap[0]:\n",
    "            continue\n",
    "        else:\n",
    "            heapq.heappop(heap)\n",
    "            heapq.heappush(heap,nums[i])\n",
    "    a = heapq.heappop(heap)\n",
    "    return a"
   ]
  },
  {
   "cell_type": "markdown",
   "metadata": {},
   "source": [
    "### Question 347: k most elements"
   ]
  },
  {
   "cell_type": "code",
   "execution_count": null,
   "metadata": {},
   "outputs": [],
   "source": [
    "def topKFrequent(nums, k):\n",
    "    count = {}\n",
    "    freq = [[] for i in range(len(nums)+1)]\n",
    "    for num in nums:\n",
    "        count[num] = 1 + count.get(num,0)\n",
    "    for num,c in count.items():\n",
    "        freq[c].append(num)\n",
    "    res = []\n",
    "    for i in range(len(freq)-1,0,-1):\n",
    "        for n in freq[i]:\n",
    "            res.append(n)\n",
    "            if len(res) == k:\n",
    "                return res"
   ]
  },
  {
   "cell_type": "markdown",
   "metadata": {},
   "source": [
    "### Question 407: Trapping Rain Water II\n",
    "Given an m x n integer matrix heightMap representing the height of each unit cell in a 2D elevation map, return the volume of water it can trap after raining."
   ]
  },
  {
   "cell_type": "code",
   "execution_count": null,
   "metadata": {},
   "outputs": [],
   "source": [
    "import heapq\n",
    "class Solution:\n",
    "    def trapRainWater(heightMap):\n",
    "        if len(heightMap) < 3:\n",
    "            return 0\n",
    "        m = len(heightMap)\n",
    "        n = len(heightMap[0])\n",
    "        \n",
    "        heap = []\n",
    "        heapq.heapify(heap)\n",
    "        visited = {}\n",
    "        \n",
    "        for row in range(m):\n",
    "            for col in range(n):\n",
    "                if row == 0 or row == m-1 or col == 0 or col == n-1:\n",
    "                    heapq.heappush(heap, (heightMap[row][col],row,col))\n",
    "                    visited[(row,col)] = True\n",
    "        \n",
    "        def neighbor(row,col):\n",
    "            res = []\n",
    "            if row-1 > 0:\n",
    "                res.append((row-1,col))\n",
    "            if col-1 > 0:\n",
    "                res.append((row,col-1))\n",
    "            if row+1 < m:\n",
    "                res.append((row+1,col))\n",
    "            if col+1 < n:\n",
    "                res.append((row,col+1))\n",
    "            return res\n",
    "        \n",
    "        while heap:\n",
    "            height,row,col = heapq.heappop(heap)\n",
    "            for x, y in getnbr(row,col):\n",
    "                if (x,y) not in visited:  \n",
    "                    res += max(0, height-heightMap[x][y])\n",
    "                    heapq.heappush(heap, (max(height, heightMap[x][y]),x,y))\n",
    "                    visited[(dx,dy)] = True\n",
    "        return res"
   ]
  },
  {
   "cell_type": "markdown",
   "metadata": {},
   "source": [
    "### Question 414: Third Maximum Number"
   ]
  },
  {
   "cell_type": "code",
   "execution_count": null,
   "metadata": {},
   "outputs": [],
   "source": [
    "def thirdMax(nums):\n",
    "    heap = []\n",
    "    for i in nums:\n",
    "        if i in heap:\n",
    "            continue\n",
    "        elif len(heap) < 3:\n",
    "            heapq.heappush(heap,i)\n",
    "        else:\n",
    "            if i <= heap[0]:\n",
    "                continue\n",
    "            else:\n",
    "                heapq.heapreplace(heap,i)\n",
    "    if len(heap) < 3:\n",
    "        return heapq.nlargest(1,heap)[0]\n",
    "    return heap[0]"
   ]
  },
  {
   "cell_type": "markdown",
   "metadata": {},
   "source": [
    "### Question 703: Kth Largest Element in a Stream"
   ]
  },
  {
   "cell_type": "code",
   "execution_count": null,
   "metadata": {},
   "outputs": [],
   "source": [
    "class KthLargest:\n",
    "    def __init__(self, k: int, nums: List[int]):\n",
    "        self.pool = nums\n",
    "        self.k = k\n",
    "        heapq.heapify(self.pool)\n",
    "        while len(self.pool) > k:\n",
    "            heapq.heappop(self.pool)\n",
    "    def add(self, val: int) -> int:\n",
    "        if len(self.pool) < self.k:\n",
    "            heapq.heappush(self.pool,val)\n",
    "        elif val > self.pool[0]:\n",
    "            #return self.pool[0]\n",
    "            heapq.heapreplace(self.pool,val)\n",
    "        return self.pool[0]"
   ]
  },
  {
   "cell_type": "markdown",
   "metadata": {},
   "source": [
    "### Question 1046: Last Stone Weight"
   ]
  },
  {
   "cell_type": "code",
   "execution_count": null,
   "metadata": {},
   "outputs": [],
   "source": [
    "def lastStoneWeight(stones):\n",
    "    heap = []\n",
    "    for stone in stones:\n",
    "        heapq.heappush(heap,-stone)\n",
    "    while len(heap) > 1:\n",
    "        stone1 = heapq.heappop(heap)\n",
    "        stone2 = heapq.heappop(heap)\n",
    "        heapq.heappush(heap,-abs(stone1-stone2))\n",
    "    return -heap[0]"
   ]
  },
  {
   "cell_type": "markdown",
   "metadata": {},
   "source": [
    "### Question 1354: Construct Target Array With Multiple Sums\n",
    "You are given an array target of n integers. From a starting array arr consisting of n 1's, you may perform the following procedure :\n",
    "\n",
    "let x be the sum of all elements currently in your array.\n",
    "choose index i, such that 0 <= i < n and set the value of arr at index i to x.\n",
    "You may repeat this procedure as many times as needed.\n",
    "Return true if it is possible to construct the target array from arr, otherwise, return false."
   ]
  },
  {
   "cell_type": "code",
   "execution_count": 39,
   "metadata": {},
   "outputs": [],
   "source": [
    "import heapq\n",
    "def isPossible(target):\n",
    "    # When all of them are ones\n",
    "    if len(target) == sum(target):\n",
    "        return True\n",
    "    if len(target) == 1:\n",
    "        return False\n",
    "    total = sum(target)\n",
    "    heap = [-n for n in target]\n",
    "    heapq.heapify(heap)\n",
    "    while total != len(target):\n",
    "        cur_max = -1*heapq.heappop(heap)\n",
    "        rest = total - cur_max\n",
    "        new_num = cur_max - rest\n",
    "        if new_num <= 0:\n",
    "            return False\n",
    "        if new_num > rest:\n",
    "            new_num = new_num % rest + rest\n",
    "        heapq.heappush(heap,-1*new_num)\n",
    "        total = new_num + rest\n",
    "    return True"
   ]
  },
  {
   "cell_type": "markdown",
   "metadata": {},
   "source": [
    "### Question 778: Swim in Rising Water\n",
    "You are given an n x n integer matrix grid where each value grid[i][j] represents the elevation at that point (i, j).\n",
    "\n",
    "The rain starts to fall. At time t, the depth of the water everywhere is t. You can swim from a square to another 4-directionally adjacent square if and only if the elevation of both squares individually are at most t. You can swim infinite distances in zero time. Of course, you must stay within the boundaries of the grid during your swim.\n",
    "\n",
    "Return the least time until you can reach the bottom right square (n - 1, n - 1) if you start at the top left square (0, 0)."
   ]
  },
  {
   "cell_type": "code",
   "execution_count": null,
   "metadata": {},
   "outputs": [],
   "source": [
    "\"\"\"\n",
    "The idea would be to use a prority queue (heap) to advance with each neighbor\n",
    "    -> To pop a cell, add its neighbors. Update the height with the max of already visited\n",
    "Also use a hash map to keep track of visited cells\n",
    "\"\"\"\n",
    "def swimInWater(grid):\n",
    "    N = len(grid)\n",
    "    visited = set()\n",
    "    # We store the time and its two coordinate dimensions\n",
    "    Heap = [[grid[0][0],0,0]]\n",
    "    directions = [[0,1],[0,-1],[1,0],[-1,0]]\n",
    "    visited.add((0,0))\n",
    "    \n",
    "    while Heap:\n",
    "        time,row,col = heapq.heappop(Heap)\n",
    "        if row == N-1 and col == N-1:\n",
    "            return time\n",
    "        for dR, dC in directions:\n",
    "            neiR, neiC = row+dR, col+dC\n",
    "            if neiR < 0 or neiC < 0 or neiR == N or neiC == N or (neiR,neiC) in visited:\n",
    "                continue\n",
    "            visited.add((neiR,neiC))\n",
    "            heapq.heappush(Heap,[max(time,grid[neiR][neiC]),neiR,neiC])"
   ]
  },
  {
   "cell_type": "markdown",
   "metadata": {},
   "source": [
    "### Question 502: IPO\n",
    "You are given n projects where the ith project has a pure profit profits[i] and a minimum capital of capital[i] is needed to start it.\n",
    "\n",
    "Initially, you have w capital. When you finish a project, you will obtain its pure profit and the profit will be added to your total capital.\n",
    "\n",
    "Pick a list of at most k distinct projects from given projects to maximize your final capital, and return the final maximized capital."
   ]
  },
  {
   "cell_type": "code",
   "execution_count": 62,
   "metadata": {},
   "outputs": [],
   "source": [
    "import heapq\n",
    "def findMaximizedCapital(k,w,profits,capital):\n",
    "    if w > max(capital):\n",
    "        return w + sum(heapq.nlargest(k,profits))\n",
    "    projects = [[capital[i],profits[i]] for i in range(len(capital))]\n",
    "    projects.sort(key = lambda x:x[0])\n",
    "    print(projects)\n",
    "    # Initialize a heap that stores the projects that can be affored\n",
    "    heap = []\n",
    "    for i in range(k):\n",
    "        # Find all the projects that have capital less than current capital\n",
    "        while projects and projects[0][0] < w:\n",
    "            project_temp = heapq.heappop(projects)\n",
    "            heapq.heappush(heap,-1*project_temp[1])\n",
    "        # If there's no left, or in other words, k > number of projects\n",
    "        if not heap:\n",
    "            break\n",
    "        # Find the largest profit from the current max heap \n",
    "        # and convert it back to positive\n",
    "        profit = -1*heapq.heappop(heap)\n",
    "        # Update w so that we can potentially find new doable projects\n",
    "        # with the newly added profit\n",
    "        w += profit\n",
    "    return w"
   ]
  },
  {
   "cell_type": "markdown",
   "metadata": {},
   "source": [
    "### Question 218: The Skyline Problem\n",
    "lefti is the x coordinate of the left edge of the ith building.\n",
    "\n",
    "righti is the x coordinate of the right edge of the ith building.\n",
    "\n",
    "heighti is the height of the ith building.\n",
    "\n",
    "Given the locations and heights of all the buildings, return the skyline formed by these buildings collectively."
   ]
  },
  {
   "cell_type": "code",
   "execution_count": 25,
   "metadata": {},
   "outputs": [],
   "source": [
    "def getSkyline(buildings):\n",
    "    # We need to maintain a sorted list to document\n",
    "    # the highest point at a point\n",
    "    events = []\n",
    "    for left,right,height in buildings:\n",
    "        events.append((left,height,-1))\n",
    "        events.append((right,height,1))\n",
    "    events.sort()\n",
    "\n",
    "    active_heights = [0]\n",
    "    n = len(events)\n",
    "    i = 0\n",
    "    ans = []\n",
    "    while i < n:\n",
    "        curr_x = events[i][0]\n",
    "        # Consider scenarios with multiple same x values\n",
    "        while i < n and events[i][0] == curr_x:\n",
    "            x, h, t = events[i]\n",
    "            if t == -1:\n",
    "                heapq.heappush(active_heights,h)\n",
    "            elif t == 1:\n",
    "                active_heights.remove(h)\n",
    "            i += 1\n",
    "        # Check if the max height has changed\n",
    "        if not ans or heapq.nlargest(1, a)[0] != ans[-1][1]:\n",
    "            ans.append((curr_x, active_heights[-1]))\n",
    "    return ans"
   ]
  }
 ],
 "metadata": {
  "kernelspec": {
   "display_name": "Python 3",
   "language": "python",
   "name": "python3"
  },
  "language_info": {
   "codemirror_mode": {
    "name": "ipython",
    "version": 3
   },
   "file_extension": ".py",
   "mimetype": "text/x-python",
   "name": "python",
   "nbconvert_exporter": "python",
   "pygments_lexer": "ipython3",
   "version": "3.8.5"
  }
 },
 "nbformat": 4,
 "nbformat_minor": 4
}
