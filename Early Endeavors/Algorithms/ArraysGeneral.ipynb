{
 "cells": [
  {
   "cell_type": "markdown",
   "metadata": {},
   "source": [
    "# Arrays"
   ]
  },
  {
   "cell_type": "markdown",
   "metadata": {},
   "source": [
    "### Question 4: Median of Two Sorted Arrays\n",
    "Given two sorted arrays nums1 and nums2 of size m and n respectively, return the median of the two sorted arrays. The overall run time complexity should be O(log (m+n))."
   ]
  },
  {
   "cell_type": "code",
   "execution_count": null,
   "metadata": {},
   "outputs": [],
   "source": [
    "\"\"\"\n",
    "*\n",
    "\"\"\"\n",
    "def findMedianSortedArrays(nums1, nums2):\n",
    "    if len(nums1) < len(nums2):\n",
    "        A,B = nums1,nums2\n",
    "    else:\n",
    "        A,B = nums2,nums1\n",
    "    total = len(A) + len(B)\n",
    "    half = total // 2\n",
    "    left,right = 0,len(A)-1\n",
    "    while True:\n",
    "        i = (left+right)//2\n",
    "        j = half-i-2\n",
    "        Aleft = A[i] if i >= 0 else -float(\"infinity\")\n",
    "        Aright = A[i+1] if i < len(A)-1 else float(\"infinity\")\n",
    "        Bleft = B[j] if j >= 0 else -float(\"infinity\")\n",
    "        Bright = B[j+1] if j < len(B)-1 else float(\"infinity\")\n",
    "        if Aleft <= Bright and Bleft <= Aright:\n",
    "            if total % 2:\n",
    "                return min(Aright,Bright)\n",
    "            return (max(Aleft,Bleft) + min(Aright,Bright))/2\n",
    "        elif Aleft > Bright:\n",
    "            right = i - 1\n",
    "        else:\n",
    "            left = i + 1"
   ]
  },
  {
   "cell_type": "markdown",
   "metadata": {},
   "source": [
    "### Question 31: Next Permutation\n",
    "The next permutation of an array of integers is the next lexicographically greater permutation of its integer. If such arrangement is not possible, the array must be rearranged as the lowest possible order."
   ]
  },
  {
   "cell_type": "code",
   "execution_count": null,
   "metadata": {},
   "outputs": [],
   "source": [
    "def nextPermutation(nums):\n",
    "    n = len(nums)\n",
    "    right = n-1\n",
    "    while right >= 0 and nums[right-1] >= nums[right]:\n",
    "        right -= 1\n",
    "    if right == -1:\n",
    "        nums.sort()\n",
    "        return nums\n",
    "    anchor = nums[right-1]\n",
    "    index = n-1\n",
    "    while index > right-1 and nums[index] <= anchor:\n",
    "        index -= 1\n",
    "    nums[right-1],nums[index] = nums[index],nums[right-1]\n",
    "    nums[right:] = sorted(nums[right:])"
   ]
  },
  {
   "cell_type": "markdown",
   "metadata": {},
   "source": [
    "### Question 45: Jump Game II"
   ]
  },
  {
   "cell_type": "code",
   "execution_count": null,
   "metadata": {},
   "outputs": [],
   "source": [
    "def jump(nums):\n",
    "    if len(nums) <= 1: return 0\n",
    "    l, r = 0, nums[0]\n",
    "    times = 1\n",
    "    while r < len(nums) - 1:\n",
    "        times += 1\n",
    "        nxt = max(i + nums[i] for i in range(l, r + 1))\n",
    "        l, r = r, nxt\n",
    "    return times"
   ]
  },
  {
   "cell_type": "markdown",
   "metadata": {},
   "source": [
    "### Question 46: Permutations"
   ]
  },
  {
   "cell_type": "code",
   "execution_count": null,
   "metadata": {},
   "outputs": [],
   "source": [
    "def permute(nums):\n",
    "    res = []\n",
    "    if len(nums) == 1:\n",
    "        return [nums[:]]\n",
    "    for i in range(len(nums)):\n",
    "        num = nums.pop(0)\n",
    "        perms = permute(nums)\n",
    "        for perm in perms:\n",
    "            perm.append(num)\n",
    "        res.extend(perms)\n",
    "        nums.append(num)\n",
    "    return res"
   ]
  },
  {
   "cell_type": "markdown",
   "metadata": {},
   "source": [
    "### Question 53: Maximum Subarray"
   ]
  },
  {
   "cell_type": "code",
   "execution_count": null,
   "metadata": {},
   "outputs": [],
   "source": [
    "def maxSubArray(nums):\n",
    "    maxSub = nums[0]\n",
    "    curr = 0\n",
    "    for num in nums:\n",
    "        if curr < 0:\n",
    "            curr = 0\n",
    "        curr += num\n",
    "        maxSub = max(maxSub,curr)\n",
    "    return maxSub"
   ]
  },
  {
   "cell_type": "markdown",
   "metadata": {},
   "source": [
    "### Question. 54: Spiral Matrix"
   ]
  },
  {
   "cell_type": "code",
   "execution_count": 3,
   "metadata": {},
   "outputs": [],
   "source": [
    "def spiralOrder(matrix):\n",
    "    return matrix and list(matrix.pop(0)) + self.spiralOrder(list(zip(*matrix))[::-1])"
   ]
  },
  {
   "cell_type": "markdown",
   "metadata": {},
   "source": [
    "### Question 62: Unique Paths\n",
    "There is a robot on an m x n grid. The robot is initially located at the top-left corner (i.e., grid[0][0]). The robot tries to move to the bottom-right corner (i.e., grid[m - 1][n - 1]). The robot can only move either down or right at any point in time"
   ]
  },
  {
   "cell_type": "code",
   "execution_count": null,
   "metadata": {},
   "outputs": [],
   "source": [
    "import numpy as np\n",
    "def uniquePaths(m, n):\n",
    "    grid = np.zeros([m,n]).astype(int)\n",
    "    for i in range(n):\n",
    "        grid[0][i] = 1\n",
    "    for i in range(m):\n",
    "        grid[i][0] = 1\n",
    "        \n",
    "    for i in range(1,m):\n",
    "        for j in range(1,n):\n",
    "            grid[i][j] = grid[i-1][j]+grid[i][j-1]\n",
    "    return grid[-1][-1]"
   ]
  },
  {
   "cell_type": "markdown",
   "metadata": {},
   "source": [
    "### Question 63: Unique Paths with Obstacles\n",
    "An obstacle and space are marked as 1 or 0 respectively in grid. A path that the robot takes cannot include any square that is an obstacle."
   ]
  },
  {
   "cell_type": "code",
   "execution_count": null,
   "metadata": {},
   "outputs": [],
   "source": [
    "\"\"\"\n",
    "The first row and first column: if any of them is obstacle, then all following are zeros\n",
    "If an obstacle occurs: then outcome only comes from the other direction\n",
    "\"\"\"\n",
    "def uniquePathsWithObstacles(obstacleGrid):\n",
    "    row = len(obstacleGrid)\n",
    "    col = len(obstacleGrid[0])\n",
    "    grid = np.zeros([row,col]).astype(int)\n",
    "    grid[0][0] = 1-obstacleGrid[0][0]\n",
    "    for i in range(1,col):\n",
    "        if obstacleGrid[0][i] == 1:\n",
    "            grid[0][i] = 0\n",
    "        else:\n",
    "            grid[0][i] = grid[0][i-1]\n",
    "    for i in range(1,row):\n",
    "        if obstacleGrid[i][0] == 1:\n",
    "            grid[i][0] = 0\n",
    "        else:\n",
    "            grid[i][0] = grid[i-1][0]\n",
    "    for i in range(1,row):\n",
    "        for j in range(1,col):\n",
    "            if obstacleGrid[i][j] == 1:\n",
    "                grid[i][j] = 0\n",
    "            else:\n",
    "                if obstacleGrid[i-1][j] == 1:\n",
    "                    grid[i][j] = grid[i][j-1]\n",
    "                elif obstacleGrid[i][j-1] == 1:\n",
    "                    grid[i][j] = grid[i-1][j]\n",
    "                else:\n",
    "                    grid[i][j] = grid[i-1][j]+grid[i][j-1]\n",
    "    return grid[-1][-1]"
   ]
  },
  {
   "cell_type": "markdown",
   "metadata": {},
   "source": [
    "### Question 2239: Find Closest Number to Zero\n",
    "Given an integer array nums of size n, return the number with the value closest to 0 in nums. If there are multiple answers, return the number with the largest value."
   ]
  },
  {
   "cell_type": "code",
   "execution_count": null,
   "metadata": {},
   "outputs": [],
   "source": [
    "\"\"\"\n",
    "max of an array compares the values in sequential order. will be useful in some occasions\n",
    "\"\"\"\n",
    "def findClosestNumber(nums):\n",
    "    return max([-abs(a), a] for a in nums)[1]"
   ]
  },
  {
   "cell_type": "markdown",
   "metadata": {},
   "source": [
    "### Question 85: Largest Rectangle in Histogram\n",
    "Given an array of integers heights representing the histogram's bar height where the width of each bar is 1, return the area of the largest rectangle in the histogram."
   ]
  },
  {
   "cell_type": "code",
   "execution_count": null,
   "metadata": {},
   "outputs": [],
   "source": [
    "\"\"\"\n",
    "If the current height is smaller than the previous height in the stack:\n",
    "    pop the previous one\n",
    "However, we could extend the index of the smaller height backwards\n",
    "When we pop, re-calculate the max area\n",
    "\"\"\"\n",
    "def largestRectangleArea(heights):\n",
    "    max_area = 0\n",
    "    stack = []\n",
    "    for (i,h) in enumerate(heights):\n",
    "        start = i\n",
    "        while stack and stack[-1][1]>h:\n",
    "            index,height = stack.pop()\n",
    "            # height*abs(i-index) because we calculate the area right of height\n",
    "            max_area = max(max_area,height*abs(i-index))\n",
    "            start = index\n",
    "        stack.append((start,h))\n",
    "    for i, h in stack:\n",
    "        max_area = max(max_area,h*(len(heights)-i))\n",
    "    return max_area"
   ]
  },
  {
   "cell_type": "markdown",
   "metadata": {},
   "source": [
    "### Question 78: All possible subsets\n",
    "Given an integer array nums of unique elements, return all possible subsets (the power set).\n",
    "\n",
    "The solution set must not contain duplicate subsets. Return the solution in any order."
   ]
  },
  {
   "cell_type": "code",
   "execution_count": null,
   "metadata": {},
   "outputs": [],
   "source": [
    "def subsets(nums):\n",
    "    res = []\n",
    "    subset = []\n",
    "    def dfs(i):\n",
    "        if i >= len(nums):\n",
    "            res.append(subset.copy())\n",
    "            return \n",
    "        # Decision to include\n",
    "        subset.append(nums[i])\n",
    "        dfs(i+1)\n",
    "        # Decision to not include\n",
    "        subset.pop()\n",
    "        dfs(i+1)\n",
    "    dfs(0)\n",
    "    return res"
   ]
  },
  {
   "cell_type": "markdown",
   "metadata": {},
   "source": [
    "### Question 121: Best Time to Buy and Sell Stock\n",
    "You are given an array prices where prices[i] is the price of a given stock on the ith day.\n",
    "\n",
    "You want to maximize your profit by choosing a single day to buy one stock and choosing a different day in the future to sell that stock."
   ]
  },
  {
   "cell_type": "code",
   "execution_count": null,
   "metadata": {},
   "outputs": [],
   "source": [
    "def maxProfit(prices):\n",
    "    left = 0\n",
    "    right = 1\n",
    "    max_benefit = 0\n",
    "    while right < len(prices):\n",
    "        if prices[left] < prices[right]:\n",
    "            max_benefit = max(max_benefit,prices[right]-prices[left])\n",
    "        else:\n",
    "            left = right\n",
    "        right += 1\n",
    "    return max_benefit"
   ]
  },
  {
   "cell_type": "markdown",
   "metadata": {},
   "source": [
    "### Question 135: Candy\n",
    "There are n children standing in a line. Each child is assigned a rating value given in the integer array ratings.\n",
    "\n",
    "You are giving candies to these children subjected to the following requirements:\n",
    "\n",
    "Each child must have at least one candy.\n",
    "Children with a higher rating get more candies than their neighbors.\n",
    "Return the minimum number of candies you need to have to distribute the candies to the children."
   ]
  },
  {
   "cell_type": "code",
   "execution_count": null,
   "metadata": {},
   "outputs": [],
   "source": [
    "\"\"\"\n",
    "Traverse from left to right and from right to left\n",
    "\"\"\"\n",
    "def candy(ratings):\n",
    "    L = len(ratings)\n",
    "    if L == 1:\n",
    "        return 1\n",
    "    count = [1]*L\n",
    "    # traverse from left to right\n",
    "    for i in range(1,L):\n",
    "        if ratings[i] > ratings[i-1]:\n",
    "            count[i] = count[i-1]+1\n",
    "        else:\n",
    "            continue\n",
    "    # traverse from right to left\n",
    "    count2 = [1]*L\n",
    "    for j in range(L-2,-1,-1):\n",
    "        if ratings[j] > ratings[j+1]:\n",
    "            count2[j] = count2[j+1]+1\n",
    "        else:\n",
    "            continue\n",
    "    return sum(max(count[i],count2[i]) for i in range(L))"
   ]
  },
  {
   "cell_type": "markdown",
   "metadata": {},
   "source": [
    "### Question 2035： Partition Array Into Two Arrays to Minimize Sum Difference\n",
    "You are given an integer array nums of 2 * n integers. You need to partition nums into two arrays of length n to minimize the absolute difference of the sums of the arrays. To partition nums, put each element of nums into one of the two arrays.\n",
    "\n",
    "Return the minimum possible absolute difference."
   ]
  },
  {
   "cell_type": "code",
   "execution_count": null,
   "metadata": {},
   "outputs": [],
   "source": [
    "def kSum(self,nums):\n",
    "    l = len(nums)\n",
    "    res = [0]*(l+1)\n",
    "    for i in range(l+1):\n",
    "        res[i] = set()\n",
    "    n = 0\n",
    "    res[0].add(0)\n",
    "    for i in nums:\n",
    "        j = n\n",
    "        while j >= 0:\n",
    "            for element in res[j]:\n",
    "                res[j+1].add(element+i)\n",
    "            j -= 1\n",
    "        n += 1\n",
    "    for i in range(l+1):\n",
    "        res[i] = sorted(list(res[i]))\n",
    "    return res\n",
    "\n",
    "def minimumDifference(self, nums: List[int]) -> int:\n",
    "    total = sum(nums)\n",
    "    L = len(nums)\n",
    "    if L == 2:\n",
    "        return abs(nums[0]-nums[1])\n",
    "    # get the partial ksums for the halves of array\n",
    "    s1 = self.kSum(nums[:L//2])\n",
    "    s2 = self.kSum(nums[L//2:])\n",
    "    target = total/2\n",
    "    ans = np.inf\n",
    "    for i in range(L//2):\n",
    "        j = L//2-i\n",
    "        y = len(s2[j])-1\n",
    "        for x in s1[i]:\n",
    "            while y >= 0:\n",
    "                ans = min(ans, abs(total - 2*(x+s2[j][y])))\n",
    "                if s2[j][y]+x>target:\n",
    "                    y -= 1\n",
    "                else:\n",
    "                    break\n",
    "    return ans"
   ]
  },
  {
   "cell_type": "markdown",
   "metadata": {},
   "source": [
    "### Question 493: Reverse Pairs\n",
    "Given an integer array nums, return the number of reverse pairs in the array.\n",
    "\n",
    "A reverse pair is a pair (i, j) where 0 <= i < j < nums.length and nums[i] > 2 * nums[j]."
   ]
  },
  {
   "cell_type": "code",
   "execution_count": null,
   "metadata": {},
   "outputs": [],
   "source": [
    "def merge(nums,low,mid,high):\n",
    "    count = 0\n",
    "    # \n",
    "    a = [0]*(high-low+1)\n",
    "    # Define two pointers that points to \n",
    "    # left and right half of the array\n",
    "    p = low\n",
    "    q = mid + 1\n",
    "    count = 0\n",
    "    while p <= mid and q <= high:\n",
    "        if nums[p] > 2*nums[q]:\n",
    "            # All numbers in the left array before mid is larger\n",
    "            # Given that it is sorted\n",
    "            count += mid - p + 1\n",
    "            q += 1\n",
    "        else:\n",
    "            p += 1\n",
    "    # Rearrange the array\n",
    "    p = low\n",
    "    q = mid + 1\n",
    "    index = 0\n",
    "    while p <= mid and q <= high:\n",
    "        if nums[p] > nums[q]:\n",
    "            a[index] = nums[q]\n",
    "            index += 1\n",
    "            q += 1\n",
    "        else:\n",
    "            a[index] = nums[p]\n",
    "            index += 1\n",
    "            p += 1\n",
    "    # If there are leftovers on the left\n",
    "    while p <= mid:\n",
    "        a[index] = nums[p]\n",
    "        index += 1\n",
    "        p += 1\n",
    "    # If there are leftovers on the right\n",
    "    while q <= high:\n",
    "        a[index] = nums[q]\n",
    "        index += 1\n",
    "        q += 1\n",
    "    # Update the array to being already sorted\n",
    "    nums[low:high+1] = a\n",
    "    return count\n",
    "\n",
    "def mergeSort(nums,low,high):\n",
    "    if low >= high:\n",
    "        return 0\n",
    "    mid = low+(high-low)//2\n",
    "    res = 0\n",
    "    res += mergeSort(nums,low,mid)\n",
    "    res += mergeSort(nums,mid+1,high)\n",
    "    res += merge(nums,low,mid,high)\n",
    "    return res\n",
    "    \n",
    "\n",
    "def reversePairs(nums):\n",
    "    n = len(nums)\n",
    "    return mergeSort(nums,0,n-1)"
   ]
  },
  {
   "cell_type": "markdown",
   "metadata": {},
   "source": [
    "### Question 674: Longest Continuous Increasing Subsequence"
   ]
  },
  {
   "cell_type": "code",
   "execution_count": null,
   "metadata": {},
   "outputs": [],
   "source": [
    "def findLengthOfLCIS(self, nums: List[int]) -> int:\n",
    "    if not nums:\n",
    "        return 0\n",
    "    dp = [1]*len(nums)\n",
    "    for i in range(1,len(nums)):\n",
    "        if nums[i] - nums[i-1] > 0:\n",
    "            dp[i] = dp[i-1]+1\n",
    "    return max(dp)"
   ]
  },
  {
   "cell_type": "markdown",
   "metadata": {},
   "source": [
    "### Perfect Rectangles\n",
    "Given an array rectangles where rectangles[i] = [xi, yi, ai, bi] represents an axis-aligned rectangle. The bottom-left point of the rectangle is (xi, yi) and the top-right point of it is (ai, bi).\n",
    "\n",
    "Return true if all the rectangles together form an exact cover of a rectangular region."
   ]
  },
  {
   "cell_type": "code",
   "execution_count": null,
   "metadata": {},
   "outputs": [],
   "source": [
    "def isRectangleCover(rectangles) -> bool:\n",
    "    unique = set()\n",
    "    corners = set()\n",
    "    total_area = 0\n",
    "    for x1,y1,x2,y2 in rectangles:\n",
    "        if (x1,y1,x2,y2) in unique:\n",
    "            return False\n",
    "        unique.add((x1,y1,x2,y2))\n",
    "        b_left = (x1,y1)\n",
    "        b_right = (x2,y1)\n",
    "        u_left = (x1,y2)\n",
    "        u_right = (x2,y2)\n",
    "        area_temp = (x2 - x1)*(y2 - y1)\n",
    "        total_area += area_temp\n",
    "        for point in [b_left,b_right,u_left,u_right]:\n",
    "            if point in corners:\n",
    "                corners.remove(point)\n",
    "            else:\n",
    "                corners.add(point)\n",
    "    if len(corners) != 4:\n",
    "        return False\n",
    "    l = list(corners)\n",
    "    hor = max(abs(l[0][0]-l[1][0]),abs(l[0][0]-l[2][0]))\n",
    "    vert = max(abs(l[0][1]-l[1][1]),abs(l[0][1]-l[2][1]))\n",
    "    return l,hor*vert==total_area, total_area"
   ]
  },
  {
   "cell_type": "markdown",
   "metadata": {},
   "source": [
    "### Question 805: Split Array With Same Average\n",
    "You should move each element of nums into one of the two arrays A and B such that A and B are non-empty, and average(A) == average(B)."
   ]
  },
  {
   "cell_type": "code",
   "execution_count": null,
   "metadata": {},
   "outputs": [],
   "source": [
    "import numpy as np\n",
    "def splitArraySameAverage(nums):\n",
    "    N, S = len(nums), sum(nums)\n",
    "    p = np.zeros((N, S+1), dtype=bool)\n",
    "    p[0][0] = 1\n",
    "    for num in nums:\n",
    "        p[1:,num:] |= np.array(p[:-1,:-num or None])\n",
    "    for n in range(1,N):\n",
    "        if S*n%N == 0 and (S*n/N)%1 == 0.0 and p[n][int(S*n/N)]:\n",
    "            return True\n",
    "    return False"
   ]
  }
 ],
 "metadata": {
  "kernelspec": {
   "display_name": "Python 3",
   "language": "python",
   "name": "python3"
  },
  "language_info": {
   "codemirror_mode": {
    "name": "ipython",
    "version": 3
   },
   "file_extension": ".py",
   "mimetype": "text/x-python",
   "name": "python",
   "nbconvert_exporter": "python",
   "pygments_lexer": "ipython3",
   "version": "3.8.5"
  }
 },
 "nbformat": 4,
 "nbformat_minor": 4
}
