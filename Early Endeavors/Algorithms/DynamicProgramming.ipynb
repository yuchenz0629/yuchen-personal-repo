{
 "cells": [
  {
   "cell_type": "markdown",
   "metadata": {},
   "source": [
    "# Dynamic Programming"
   ]
  },
  {
   "cell_type": "markdown",
   "metadata": {},
   "source": [
    "### Question 55: Jump Game\n",
    "You are given an integer array nums. You are initially positioned at the array's first index, and each element in the array represents your maximum jump length at that position."
   ]
  },
  {
   "cell_type": "code",
   "execution_count": null,
   "metadata": {},
   "outputs": [],
   "source": [
    "\"\"\"\n",
    "*\n",
    "\"\"\"\n",
    "def canJump(self, nums: List[int]) -> bool:\n",
    "    if len(nums) == 1:\n",
    "        return True\n",
    "    n = len(nums)\n",
    "    left,right = 0,nums[0]\n",
    "    while left < right:\n",
    "        nxt = max(i+nums[i] for i in range(left,right+1) if i < n)\n",
    "        if nxt >= n-1:\n",
    "            return True\n",
    "        left,right = right,nxt\n",
    "    return False"
   ]
  },
  {
   "cell_type": "markdown",
   "metadata": {},
   "source": [
    "### Question 70: Climbing Stairs\n",
    "Each step takes either 1 or 2 steps"
   ]
  },
  {
   "cell_type": "code",
   "execution_count": null,
   "metadata": {},
   "outputs": [],
   "source": [
    "def climbStairs(n: int) -> int:\n",
    "    if n == 1:\n",
    "        return 1\n",
    "    ways = [0]*n\n",
    "    ways[0] = 1\n",
    "    ways[1] = 2\n",
    "    for i in range(2,n):\n",
    "        ways[i] = ways[i-1]+ways[i-2]\n",
    "    return ways[-1]"
   ]
  },
  {
   "cell_type": "markdown",
   "metadata": {},
   "source": [
    "### Question 279: Perfect Squares\n",
    "Given an integer n, return the least number of perfect square numbers that sum to n"
   ]
  },
  {
   "cell_type": "code",
   "execution_count": null,
   "metadata": {},
   "outputs": [],
   "source": [
    "def numSquares(n):\n",
    "    dp = [0]*(n+1)\n",
    "    dp[0] = 1\n",
    "    perfects = [i**2 for i in range(1,floor(sqrt(n))+1)]\n",
    "    for i in range(1,n+1):\n",
    "        temp = float(\"infinity\")\n",
    "        for perfect in perfects[::-1]:\n",
    "            if i - perfect < 0:\n",
    "                continue\n",
    "            if i - perfect == 0:\n",
    "                temp = 1\n",
    "                break\n",
    "            temp = min(temp,dp[i-perfect] + 1)\n",
    "        dp[i] = temp\n",
    "    return dp[-1]"
   ]
  },
  {
   "cell_type": "markdown",
   "metadata": {},
   "source": [
    "### Question 300: Longest Increasing Subsequence\n",
    "Return the length"
   ]
  },
  {
   "cell_type": "code",
   "execution_count": 5,
   "metadata": {},
   "outputs": [],
   "source": [
    "def LIS(nums):\n",
    "    L = len(nums)\n",
    "    if L==0:\n",
    "        return []\n",
    "    if L==1:\n",
    "        return 1\n",
    "    max_index = [1]\n",
    "    for i in range(1,L):\n",
    "        max_temp = 1\n",
    "        temp = nums[i]\n",
    "        for j in range(i):\n",
    "            if temp > nums[j]:\n",
    "                max_temp = max(max_temp,max_index[j]+1)\n",
    "        max_index.append(max_temp)\n",
    "    return max_index"
   ]
  },
  {
   "cell_type": "markdown",
   "metadata": {},
   "source": [
    "If we were to recover the longest subsequence itself:"
   ]
  },
  {
   "cell_type": "code",
   "execution_count": 171,
   "metadata": {},
   "outputs": [],
   "source": [
    "def LIS(nums):\n",
    "    L = len(nums)\n",
    "    if L==0:\n",
    "        return []\n",
    "    if L==1:\n",
    "        return nums\n",
    "    max_index = [1]\n",
    "    prev = [-1]\n",
    "    \n",
    "    for i in range(1,L):\n",
    "        max_temp = 1\n",
    "        temp = nums[i]\n",
    "        dict_temp = []\n",
    "        for j in range(i):\n",
    "            if temp > nums[j]:\n",
    "                max_temp = max(max_temp,max_index[j]+1)\n",
    "                dict_temp.append([j,nums[j],max_index[j]])\n",
    "        max_index.append(max_temp)\n",
    "        if dict_temp == []:\n",
    "            prev.append(-1)\n",
    "        else:\n",
    "            dict_temp.sort(key = lambda x:(x[2],x[1]),reverse = True)\n",
    "            prev.append(dict_temp[0][0])\n",
    "    \n",
    "    I = max_index.index(max(max_index))\n",
    "    ans = [I]\n",
    "    while prev[I] != I and prev[I] != -1:\n",
    "        ans.insert(0,nums[prev[I]])\n",
    "        I = prev[I]\n",
    "    return ans"
   ]
  },
  {
   "cell_type": "markdown",
   "metadata": {},
   "source": [
    "### Question 32: Longest Valid Parenthesis\n",
    "Given a string containing just the characters '(' and ')', find the length of the longest valid (well-formed) parentheses substring"
   ]
  },
  {
   "cell_type": "code",
   "execution_count": null,
   "metadata": {},
   "outputs": [],
   "source": [
    "\"\"\"\n",
    "Scan from left to right, if right > left: set count = 0\n",
    "Scan from right to left, if left > right: set count = 0\n",
    "\"\"\"\n",
    "def longestValidParentheses(s):\n",
    "    if len(s) == 0:\n",
    "        return 0\n",
    "    # Left traverse\n",
    "    left_count = [0]*len(s)\n",
    "    left_left = 0\n",
    "    left_right = 0\n",
    "    for i in range(len(s)):\n",
    "        if s[i] == \"(\":\n",
    "            left_left += 1\n",
    "        elif s[i] == \")\":\n",
    "            left_right += 1\n",
    "        if left_left == left_right:\n",
    "            left_count[i] = left_count[i-2*left_left] + 2*left_left\n",
    "            left_left = left_right = 0\n",
    "        if left_right > left_left:\n",
    "            left_left = left_right = 0\n",
    "            left_count[i] = 0\n",
    "    # Right traverse\n",
    "    right_count = [0]*len(s)\n",
    "    right_left = 0\n",
    "    right_right = 0\n",
    "    for i in range(len(s)):\n",
    "        if s[-(i+1)] == \"(\":\n",
    "            right_left += 1\n",
    "        elif s[-(i+1)] == \")\":\n",
    "            right_right += 1\n",
    "        if right_left == right_right:\n",
    "            right_count[-(i+1)] = right_count[-(i+1)+2*right_left] + 2*right_left\n",
    "            right_left = right_right = 0\n",
    "        if right_left > right_right:\n",
    "            right_left = right_right = 0\n",
    "            right_count[-(i+1)] = 0\n",
    "    return max(max(right_count), max(left_count))"
   ]
  },
  {
   "cell_type": "markdown",
   "metadata": {},
   "source": [
    "### Question 139: Word Break\n",
    "Given a string s and a dictionary of strings wordDict, return true if s can be segmented into a space-separated sequence of one or more dictionary words."
   ]
  },
  {
   "cell_type": "code",
   "execution_count": null,
   "metadata": {},
   "outputs": [],
   "source": [
    "def wordBreak(s, wordDict):\n",
    "    dp = [False]*(len(s)+1)\n",
    "    n = len(s)\n",
    "    dp[n] = True\n",
    "    for i in range(n-1,-1,-1):\n",
    "        for word in wordDict:\n",
    "            if len(word)+i <= n and s[i:i+len(word)] == word:\n",
    "                dp[i] = dp[i+len(word)]\n",
    "            if dp[i] == True:\n",
    "                break\n",
    "    return dp[0]"
   ]
  },
  {
   "cell_type": "markdown",
   "metadata": {},
   "source": [
    "### Question 44: Wildcard Matching\n",
    "Given an input string (s) and a pattern (p), implement wildcard pattern matching with support for '?' and '*' where:\n",
    "'?' Matches any single character.\n",
    "'*' Matches any sequence of characters (including the empty sequence).\n",
    "The matching should cover the entire input string (not partial)"
   ]
  },
  {
   "cell_type": "code",
   "execution_count": 62,
   "metadata": {},
   "outputs": [],
   "source": [
    "\"\"\"\n",
    "First we create an m*n matrix\n",
    "    -> If s[i] == p[j]: then corresponding boolean equals [i-1][j-1]th index\n",
    "    -> If p[j] == \"?\", then corresponding is true if [i-1][j-1] is true\n",
    "    -> If p[j] == \"*\", then if either [i-1][j] or [i][j-1] is true: corresponding is true\n",
    "\n",
    "Only at the very beginning of the string p do we have to consider cases which we\n",
    "change the first line of the matrix. Otherwise if s[i] == p[j], M[i+1][j+1] = M[i][j]\n",
    "Consider:\n",
    "  a * a d\n",
    "a\n",
    "b\n",
    "c\n",
    "d\n",
    "Then \"if p[j-1] == \"*\": M[i+1][j+1] = M[i+1][j] or M[i][j]\" would be invalid\n",
    "\"\"\"\n",
    "import numpy as np\n",
    "def isMatch(s, p):\n",
    "    # Initialize the matrix. The first row, first column are zeros besides the topleft index\n",
    "    M = np.zeros((len(s)+1,len(p)+1)).astype(int)\n",
    "    M[0][0] = 1\n",
    "    for i in range(len(p)):\n",
    "        if p[i] == \"*\":\n",
    "            M[0][i+1] = M[0][i]\n",
    "    for i in range(len(s)):\n",
    "        for j in range(len(p)):\n",
    "            if s[i] == p[j]:\n",
    "                #if p[j-1] == \"*\":\n",
    "                 #   M[i+1][j+1] = M[i+1][j] or M[i][j]\n",
    "                #else:\n",
    "                M[i+1][j+1] = M[i][j]\n",
    "            elif p[j] == \"?\":\n",
    "                M[i+1][j+1] = M[i][j]\n",
    "            elif p[j] == \"*\":\n",
    "                M[i+1][j+1] = M[i][j+1] or M[i+1][j] or M[i][j]\n",
    "            else:\n",
    "                M[i+1][j+1] = 0\n",
    "    return bool(M[-1][-1])"
   ]
  },
  {
   "cell_type": "markdown",
   "metadata": {},
   "source": [
    "### Question 118: Pascal's Triangle"
   ]
  },
  {
   "cell_type": "code",
   "execution_count": null,
   "metadata": {},
   "outputs": [],
   "source": [
    "def generate(numRows):\n",
    "    if numRows == 1:\n",
    "        return [[1]]\n",
    "    if numRows == 2:\n",
    "        return [[1],[1,1]]\n",
    "    curr_row = 2\n",
    "    triangle = [[1],[1,1]]\n",
    "    while curr_row < numRows:\n",
    "        triangle.append([1]+[triangle[-1][i]+triangle[-1][i+1] \n",
    "                             for i in range(len(triangle[-1])-1)]+[1])\n",
    "        curr_row += 1\n",
    "    return triangle"
   ]
  },
  {
   "cell_type": "markdown",
   "metadata": {},
   "source": [
    "### Question: KnapSack"
   ]
  },
  {
   "cell_type": "code",
   "execution_count": 22,
   "metadata": {},
   "outputs": [],
   "source": [
    "import numpy as np\n",
    "def knapSack(arr,total):\n",
    "    dp = np.zeros((len(arr)+1,total+1)).astype(int)\n",
    "    for i in range(1,len(dp)):\n",
    "        dp[i][0] = 1\n",
    "    for i in range(1,len(dp)):\n",
    "        for j in range(1,len(dp[0])):\n",
    "            dp[i][j] = (dp[i-1][j - arr[i-1]] if j - arr[i-1] >= 0 else 0) or dp[i-1][j]\n",
    "    return dp"
   ]
  },
  {
   "cell_type": "markdown",
   "metadata": {},
   "source": [
    "### Question 221: Maximal Square\n",
    "Given an m x n binary matrix filled with 0's and 1's, find the largest square containing only 1's and return its area."
   ]
  },
  {
   "cell_type": "code",
   "execution_count": 117,
   "metadata": {},
   "outputs": [],
   "source": [
    "\"\"\"\n",
    "Use backtracking: start from the bottom right corner\n",
    "When a cell's all three incoming directions are 1: add 1\n",
    "If any of them is zero: its value equals itself\n",
    "\"\"\" \n",
    "import numpy as np\n",
    "def maximalSquare(matrix):\n",
    "    # First we need to fill out the base cases\n",
    "    R,C = len(matrix),len(matrix[0])\n",
    "    mat = np.zeros((R,C)).astype(int)\n",
    "    # Case 1: When there are more rows than columns\n",
    "    if R > C:\n",
    "        for i in range(R-1,C-1,-1):\n",
    "            for j in range(len(matrix[0])-1,-1,-1):\n",
    "                if i == R-1 or j == C-1:\n",
    "                    mat[i][j]=matrix[i][j]\n",
    "                else:\n",
    "                    down = mat[i+1,j]\n",
    "                    right = mat[i,j+1]\n",
    "                    diag = mat[i+1,j+1]\n",
    "                    \n",
    "                    mat[i][j] = int(matrix[i][j])*(1+min(down,right,diag))\n",
    "    # Case 2: When there are more columns than rows\n",
    "    if C > R:\n",
    "        for i in range(R-1,-1,-1):\n",
    "            for j in range(C-1,R-1,-1):\n",
    "                if i == R-1 or j == C-1:\n",
    "                    mat[i][j]=matrix[i][j]\n",
    "                else:\n",
    "                    down = mat[i+1,j]\n",
    "                    right = mat[i,j+1]\n",
    "                    diag = mat[i+1,j+1]\n",
    "                    \n",
    "                    mat[i][j] = int(matrix[i][j])*(1+min(down,right,diag))\n",
    "    \n",
    "    # Base case for the remaining square\n",
    "    L = min(R,C)\n",
    "    # Case 1: if number of rows > number of columns\n",
    "    if len(matrix) > L:\n",
    "        mat[L-1][-1] = matrix[L-1][-1]\n",
    "        for i in range(len(matrix[0])-2,-1,-1):\n",
    "            mat[i][-1] = matrix[i][-1]\n",
    "            down = mat[L,i]\n",
    "            right = mat[L-1,i+1]\n",
    "            diag = mat[L,i+1]\n",
    "            mat[L-1][i] = int(matrix[L-1][i])*(1+min(down,right,diag))\n",
    "    # Case 2: if number of columns > column of rows\n",
    "    if len(matrix[0]) > L:\n",
    "        mat[L-1] = matrix[L-1]\n",
    "        for i in range(L-2,-1,-1):\n",
    "            down = mat[i+1,L-1]\n",
    "            right = mat[i,L]\n",
    "            diag = mat[i+1,L]\n",
    "            mat[i][L-1] = int(matrix[i][L-1])*(1+min(down,right,diag))\n",
    "    # Case 3: if number of rows = number of columns\n",
    "    if len(matrix) == len(matrix[0]) == L:\n",
    "        mat[-1] = matrix[-1]\n",
    "        for i in range(L):\n",
    "            mat[i][-1] = matrix[i][-1]\n",
    "    \n",
    "    # Then use dynamic programming to solve the remaining values\n",
    "    for i in range(L-2,-1,-1):\n",
    "        for j in range(i,-1,-1):\n",
    "            mat[i,j] = int(matrix[i][j])*(1+min(mat[i+1,j],mat[i,j+1],mat[i+1,j+1]))\n",
    "            mat[j,i] = int(matrix[j][i])*(1+min(mat[j+1,i],mat[j,i+1],mat[j+1,i+1]))\n",
    "    # Find the max in the matrix\n",
    "    M = 0\n",
    "    for i in mat:\n",
    "        M = max(M,max(i))\n",
    "    return M**2"
   ]
  },
  {
   "cell_type": "markdown",
   "metadata": {},
   "source": [
    "### Question: min number of coins"
   ]
  },
  {
   "cell_type": "code",
   "execution_count": 28,
   "metadata": {},
   "outputs": [],
   "source": [
    "def coinChange(coins,amount):\n",
    "    dp = [-1]*(amount+1)\n",
    "    dp[0] = 0\n",
    "    for money in range(1,amount+1):\n",
    "        temp = float(\"infinity\")\n",
    "        for coin in coins:\n",
    "            if money - coin < 0:\n",
    "                continue\n",
    "            if dp[money-coin] == -1:\n",
    "                continue\n",
    "            temp = min(temp, dp[money-coin] + 1)\n",
    "        if temp != float(\"infinity\"):\n",
    "            dp[money] = temp\n",
    "    return dp[-1]"
   ]
  },
  {
   "cell_type": "markdown",
   "metadata": {},
   "source": [
    "### Question 329: Longest Increasing Path in a Matrix\n",
    "Given an m x n integers matrix, return the length of the longest increasing path in matrix.\n",
    "\n",
    "From each cell, you can either move in four directions: left, right, up, or down. You may not move diagonally or move outside the boundary (i.e., wrap-around is not allowed)."
   ]
  },
  {
   "cell_type": "code",
   "execution_count": null,
   "metadata": {},
   "outputs": [],
   "source": [
    "\"\"\"\n",
    "Basic idea: try from all coming directions\n",
    "\"\"\"\n",
    "def longestIncreasingPath(matrix):\n",
    "    ROW,COL = len(matrix),len(matrix[0])\n",
    "    Map={}\n",
    "    def dfs(r,c,prev):\n",
    "        if r<0 or c<0 or r==ROW or c==COL or matrix[r][c]<=prev:\n",
    "            return 0\n",
    "        if (r,c) in Map:\n",
    "            return Map[(r,c)]\n",
    "        res = 1\n",
    "        res = max(res,1+dfs(r+1,c,matrix[r][c]))\n",
    "        res = max(res,1+dfs(r,c+1,matrix[r][c])) \n",
    "        res = max(res,1+dfs(r-1,c,matrix[r][c])) \n",
    "        res = max(res,1+dfs(r,c-1,matrix[r][c])) \n",
    "        Map[(r,c)] = res\n",
    "        return res\n",
    "    for r in range(ROW):\n",
    "        for c in range(COL):\n",
    "            dfs(r,c,-1)\n",
    "    return Map.values()"
   ]
  },
  {
   "cell_type": "markdown",
   "metadata": {},
   "source": [
    "### Question 72: Edit Distance\n",
    "Given two strings word1 and word2, return the minimum number of operations required to convert word1 to word2.\n",
    "\n",
    "You have the following three operations permitted on a word:\n",
    "\n",
    "Insert a character\n",
    "Delete a character\n",
    "Replace a character"
   ]
  },
  {
   "cell_type": "code",
   "execution_count": 36,
   "metadata": {},
   "outputs": [],
   "source": [
    "import numpy as np\n",
    "def minDistance(word1,word2):\n",
    "    E = np.zeros((len(word1)+1,len(word2)+1)).astype(int)\n",
    "    for i in range(len(word1)):\n",
    "        E[i+1][0] = i+1\n",
    "    for j in range(len(word2)):\n",
    "        E[0][j+1] = j+1\n",
    "    for i in range(len(word1)):\n",
    "        for j in range(len(word2)):\n",
    "            E[i+1][j+1] = min(E[i][j+1]+1,E[i+1][j]+1,E[i][j]+int(word1[i]!=word2[j]))\n",
    "    return E[-1][-1]\n",
    "\n",
    "def minDistance(word1,word2):\n",
    "    memo = dict()           \n",
    "    def _d(w1 ,w2):\n",
    "        if (w1,w2) in memo:\n",
    "            return memo[(w1,w2)]\n",
    "\n",
    "        if w1 == \"\" and w2 ==\"\":\n",
    "            res =  0\n",
    "        elif w1 == \"\":\n",
    "            res = len(w2)\n",
    "        elif w2 == \"\":\n",
    "            res = len(w1)\n",
    "        elif w1[0] != w2[0]:\n",
    "            res = min(_d(w1[1:], w2[1:]),  _d(w1, w2[1:]), _d(w1[1:], w2)) + 1\n",
    "        else:\n",
    "            res = _d(w1[1:], w2[1:])\n",
    "        memo[(w1,w2)] = res\n",
    "        return res\n",
    "\n",
    "    return _d(word1, word2)        "
   ]
  },
  {
   "cell_type": "markdown",
   "metadata": {},
   "source": [
    "### Question 312: Burst Balloons\n",
    "If you burst the ith balloon, you will get nums[i - 1] * nums[i] * nums[i + 1] coins. If i - 1 or i + 1 goes out of bounds of the array, then treat it as if there is a balloon with a 1 painted on it.\n",
    "\n",
    "Return the maximum coins you can collect by bursting the balloons wisely."
   ]
  },
  {
   "cell_type": "code",
   "execution_count": null,
   "metadata": {},
   "outputs": [],
   "source": [
    "def maxCoins(nums):\n",
    "    # Add in the boundary values of 1\n",
    "    nums = [1] + nums + [1]\n",
    "    # Create a cache\n",
    "    dp = {}\n",
    "    \n",
    "    # Define a depth first search method\n",
    "    def dfs(l, r):\n",
    "        if l >  r:\n",
    "            return 0\n",
    "        if (l, r) in dp:\n",
    "            return dp[(l, r)]\n",
    "        # Initially set the cache to 0\n",
    "        dp[(l,r)] = 0\n",
    "        for i in range(l, r+1):\n",
    "            coins = nums[i]*nums[l-1]*nums[r+1]\n",
    "            coins += dfs(l,i-1) + dfs(i+1,r)\n",
    "            dp[(l,r)] = max(dp[(l,r)], coins)\n",
    "        return dp[(l,r)]\n",
    "    return dfs(1, len(nums)-2)"
   ]
  },
  {
   "cell_type": "markdown",
   "metadata": {},
   "source": [
    "### Question 466: Count The Repetitions\n",
    "We define str = [s, n] as the string str which consists of the string s concatenated n times.\n",
    "\n",
    "You are given two strings s1 and s2 and two integers n1 and n2. You have the two strings str1 = [s1, n1] and str2 = [s2, n2].\n",
    "\n",
    "Return the maximum integer m such that str = [str2, m] can be obtained from str1."
   ]
  },
  {
   "cell_type": "code",
   "execution_count": null,
   "metadata": {},
   "outputs": [],
   "source": [
    "def getMaxRepetitions(self, s1: str, n1: int, s2: str, n2: int) -> int:\n",
    "    # We need to loop over at most len(s2) number of s1\n",
    "    len1,len2 = len(s1),len(s2)\n",
    "    s1_count,s2_count = 0,0\n",
    "    # Define a pointer that goes through string s2\n",
    "    index = 0\n",
    "    Dict = {}\n",
    "    # If reps of n1 is smaller than len2 then brute force through it\n",
    "    if n1 <= len2:\n",
    "        ans = 0\n",
    "        str1 = s1*n1\n",
    "        for i in range(len1*n1):\n",
    "            if str1[i] == s2[index]:\n",
    "                index += 1\n",
    "                if index == len2:\n",
    "                    ans += 1\n",
    "                    index = 0\n",
    "        return ans//n2\n",
    "    while s1_count <= len2:\n",
    "        for i in range(len1):\n",
    "            if s1[i] == s2[index]:\n",
    "                index += 1\n",
    "                if index == len2:\n",
    "                    s2_count += 1\n",
    "                    index = 0\n",
    "        s1_count += 1\n",
    "        if index in Dict:\n",
    "            gap_s1 = s1_count - Dict[index][0]\n",
    "            gap_s2 = s2_count - Dict[index][1]\n",
    "            ans = ((n1-Dict[index][0])//gap_s1)*gap_s2+Dict[index][1]\n",
    "            first_round = Dict[index][0]\n",
    "            if ((n1-first_round)%gap_s1) == 0:\n",
    "                return ans//n2\n",
    "            else:\n",
    "                # Then calculate the remaining parts\n",
    "                remainder = ((n1-first_round)%gap_s1)*s1\n",
    "                for i in range(len(remainder)):\n",
    "                    if remainder[i] == s2[index]:\n",
    "                        index += 1\n",
    "                        if index == len(s2):\n",
    "                            ans += 1\n",
    "                            index = 0\n",
    "                return ans//n2\n",
    "        Dict[index] = (s1_count,s2_count)\n",
    "    return 0"
   ]
  },
  {
   "cell_type": "markdown",
   "metadata": {},
   "source": [
    "### Question 741: Cherry Pickup\n",
    "Starting at the position (0, 0) and reaching (n - 1, n - 1) by moving right or down through valid path cells (cells with value 0 or 1).\n",
    "\n",
    "After reaching (n - 1, n - 1), returning to (0, 0) by moving left or up through valid path cells.\n",
    "\n",
    "When passing through a path cell containing a cherry, you pick it up, and the cell becomes an empty cell 0.\n",
    "\n",
    "If there is no valid path between (0, 0) and (n - 1, n - 1), then no cherries can be collected."
   ]
  },
  {
   "cell_type": "code",
   "execution_count": null,
   "metadata": {},
   "outputs": [],
   "source": [
    "def cherryPickup(grid):\n",
    "    n = len(grid)\n",
    "    directions = [(1,0),(0,1)]\n",
    "    def dp(r1,c1,r2,c2):\n",
    "        if (r1,c1,r2,c2) in visited:\n",
    "            return visited[(r1,c1,r2,c2)]\n",
    "        if (r1 > n-1 or r2 > n-1 or c1 > n-1 or c2 > n-1 or \n",
    "            grid[r1][c1] == -1 or grid[r2][c2] == -1):\n",
    "            return -float(\"infinity\")\n",
    "        if r1 == c1 == n-1:\n",
    "            return grid[r1][c1]\n",
    "\n",
    "        curr_cherries = 0\n",
    "        if r1 == r2 and c1 == c2:\n",
    "            curr_cherries = grid[r1][c1]\n",
    "        else:\n",
    "            curr_cherries = grid[r1][c1] + grid[r2][c2]\n",
    "        next_cherries = -float(\"infinity\")\n",
    "        for dx1, dy1 in directions:\n",
    "            for dx2, dy2 in directions:\n",
    "                new_x1 = r1 + dx1\n",
    "                new_y1 = c1 + dy1\n",
    "                new_x2 = r2 + dx2\n",
    "                new_y2 = c2 + dy2\n",
    "                next_cherries = max(next_cherries,\n",
    "                                    dp(new_x1, new_y1, new_x2, new_y2))\n",
    "        curr_cherries += next_cherries\n",
    "        visited[(r1,c1,r2,c2)] = curr_cherries\n",
    "        return curr_cherries\n",
    "    visited = {}\n",
    "    ans = dp(0,0,0,0)\n",
    "    return ans if ans > 0 else 0"
   ]
  },
  {
   "cell_type": "markdown",
   "metadata": {},
   "source": [
    "### Question 1223: Dice Roll Simulation\n",
    "A die simulator generates a random number from 1 to 6 for each roll. You introduced a constraint to the generator such that it cannot roll the number i more than rollMax[i] (1-indexed) consecutive times.\n",
    "\n",
    "Given an array of integers rollMax and an integer n, return the number of distinct sequences that can be obtained with exact n rolls. Since the answer may be too large, return it modulo 109 + 7."
   ]
  },
  {
   "cell_type": "code",
   "execution_count": null,
   "metadata": {},
   "outputs": [],
   "source": [
    "def dieSimulator(self, n: int, rollMax: List[int]) -> int:\n",
    "    faces = len(rollMax)\n",
    "    # dp[i][j] stands for the number of ways to last land on \n",
    "    # a face j with i throws\n",
    "    dp = [[0 for i in range(faces + 1)] for j in range(n + 1)]\n",
    "    dp[0][faces] = 1\n",
    "    for j in range(faces):\n",
    "        dp[1][j] = 1\n",
    "    dp[1][faces] = faces\n",
    "\n",
    "    # roll the dice from 2 to n times\n",
    "    for i in range(2,n+1):\n",
    "        for j in range(faces):\n",
    "            for k in range(1, rollMax[j] + 1):\n",
    "                if i - k < 0:\n",
    "                    break\n",
    "                dp[i][j] += dp[i - k][faces] - dp[i - k][j]\n",
    "        dp[i][faces] = sum(dp[i])\n",
    "    return dp[n][faces] % (10**9 + 7)"
   ]
  }
 ],
 "metadata": {
  "kernelspec": {
   "display_name": "Python 3",
   "language": "python",
   "name": "python3"
  },
  "language_info": {
   "codemirror_mode": {
    "name": "ipython",
    "version": 3
   },
   "file_extension": ".py",
   "mimetype": "text/x-python",
   "name": "python",
   "nbconvert_exporter": "python",
   "pygments_lexer": "ipython3",
   "version": "3.8.5"
  }
 },
 "nbformat": 4,
 "nbformat_minor": 4
}
